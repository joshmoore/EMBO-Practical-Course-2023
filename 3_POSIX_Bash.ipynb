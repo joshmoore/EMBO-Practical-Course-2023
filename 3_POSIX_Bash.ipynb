{
 "cells": [
  {
   "cell_type": "markdown",
   "id": "8369f35a-17cc-46ff-b1f0-dc8c5439100c",
   "metadata": {
    "editable": true,
    "slideshow": {
     "slide_type": ""
    },
    "tags": []
   },
   "source": [
    "# EMBO Practical Course <br/>\"Advanced methods in bioimage analysis\"\n",
    "\n",
    "***\n",
    "\n",
    "Homepage: https://www.embl.org/about/info/course-and-conference-office/events/bia23-01/\n",
    "\n",
    "***\n",
    "\n",
    "## Day 2 - Session 1: Image Data Management - 10:15 to 11:15 \"Get set\"\n",
    "\n",
    "\n",
    "<table style=\"table { position: relative;  display: inline-block; } img {  position: absolute;  left: 0;  right: 0;  width: auto;  height: 100%;  object-fit: cover;  object-position: center;}\">\n",
    "    <tr>\n",
    "        <td style=\"vertical-align: top\">\n",
    "            <h3>Introduction</h3>\n",
    "            <p>\n",
    "                In this notebook, we'll look at issues arising from having many files\n",
    "                (<b>and many file formats!</b>b>) on your file servers. A quick intro into working\n",
    "                with POSIX file systems will be followed by tools for converting data into\n",
    "                a common file-format: OME-TIFF.\n",
    "            </p>\n",
    "            <p>\n",
    "                The two main goals are: (1) make sure you have the basics you might need\n",
    "                for the rest of the course and (2) encourage you to explore these tools\n",
    "                further on your own to speed up your day-to-day activities.\n",
    "            </p>\n",
    "            <p>\n",
    "                Outline:\n",
    "                <ol start=\"3\">\n",
    "                    <li>Bash & Scripting\n",
    "                        <ol type=\"a\">\n",
    "                            <li>Bash basics</li>\n",
    "                            <li>Our data directory</li>\n",
    "                            <li>Extras: time permitting\n",
    "                                <ul>\n",
    "                                    <li>Permissions</li>\n",
    "                                    <li>Simple scripting</li>\n",
    "                                    <li>shasum</li>\n",
    "                                    <li>h5tools</li>\n",
    "                                </ul>\n",
    "                            </li>\n",
    "                        </ol>\n",
    "                    </li>\n",
    "                        <li>bftools\n",
    "                        <ol type=\"a\">\n",
    "                            <li>showinf, bfconvert, etc.</li>\n",
    "                            <li>Working with OME-TIFF</li>\n",
    "                            <li>aicsimageio (time-permitting)</li>\n",
    "                        </ol>\n",
    "                    </li>\n",
    "                </ol>\n",
    "            </p>\n",
    "        </td>\n",
    "        <td>\n",
    "            <center>\n",
    "                <img src=\"images/falk/clara-shares-300dpi.png\"/>\n",
    "                <small>\n",
    "                    <a href=\"https://github.com/zarr-developers/zarr-illustrations-falk-2022#clara-shares\">\"Clara shares\"</a>\n",
    "                    by Henning Falk, ©2022 NumFOCUS, is used under a CC BY 4.0 license. Modifications to this photo include cropping.\n",
    "                </small>\n",
    "            </center>\n",
    "        </td>\n",
    "    </tr>\n",
    "</table>"
   ]
  },
  {
   "cell_type": "markdown",
   "id": "e6c051f1-39d3-47d8-8a71-9f3796a9d6e8",
   "metadata": {},
   "source": [
    "### How to get started after the workshop?\n",
    "\n",
    "[Binder](https://mybinder.org/) is a service for running notebooks online which can often be useful. In order to be be compatible with Binder, there is a folder `binder/` which contains the necessary files for configurig this repo. The `environment.yml` defines a [Conda](https://docs.conda.io/en/latest/) environment which you can install yourself."
   ]
  },
  {
   "cell_type": "code",
   "execution_count": 1,
   "id": "34e2ebef-1dbc-4e1c-8673-fbfb227b5910",
   "metadata": {},
   "outputs": [
    {
     "name": "stdout",
     "output_type": "stream",
     "text": [
      "apt.txt         environment.yml\n"
     ]
    }
   ],
   "source": [
    "ls binder/"
   ]
  },
  {
   "cell_type": "code",
   "execution_count": 2,
   "id": "3b0b6df5-515e-4a9c-a072-53c51bb76fe2",
   "metadata": {
    "scrolled": true
   },
   "outputs": [
    {
     "name": "stdout",
     "output_type": "stream",
     "text": [
      "channels:\n",
      "  - ome\n",
      "  - conda-forge\n",
      "  - joshmoore\n",
      "  - defaults\n",
      "dependencies:\n",
      "  - python ~= 3.9.0\n",
      "  - notebook\n",
      "  - nb_conda_kernels\n",
      "  - napari\n",
      "  - napari-aicsimageio\n",
      "  - bioformats_jar\n",
      "  - ipython\n",
      "  - wheel\n",
      "  - requests\n",
      "  - h5utils\n",
      "  - s3fs\n",
      "  - scikit-image\n",
      "  - scipy\n",
      "  - xarray\n",
      "  - zarr >= 2.4.0\n",
      "  - bftools\n",
      "  - bioformats2raw\n",
      "  - raw2ometiff\n",
      "  - omero-py\n",
      "  - go-mc\n",
      "  - pv\n",
      "  - pip\n",
      "  - pip:\n",
      "      - PyQT5~=5.13.1\n",
      "      - ome-zarr\n",
      "      - awscli\n",
      "      - omero-cli-zarr\n",
      "      - napari-ome-zarr\n",
      "      - xmlschema\n",
      "      - bash_kernel\n"
     ]
    }
   ],
   "source": [
    "cat binder/environment.yml"
   ]
  },
  {
   "cell_type": "markdown",
   "id": "0de9b7f9-1e66-43c7-a5c4-e99e759a17ea",
   "metadata": {},
   "source": [
    "You can perform those actions on your own system _without_ a Jupyter notebook. For that, you will need to install the correct tools like `bioformats2raw`. Instructions are available under https://github.com/ome/EMBO-Practical-Course-2023/blob/main/README.md\n",
    " \n",
    "*** "
   ]
  },
  {
   "cell_type": "markdown",
   "id": "7dcd8544-a71e-4b9a-9ebc-75bcdc8e5021",
   "metadata": {
    "editable": true,
    "slideshow": {
     "slide_type": ""
    },
    "tags": []
   },
   "source": [
    "## 3a. Bash basics\n",
    "\n",
    "If you are managing files on a server, it will often be easier to use the command-line once you learn it. And if you are using a command-line, it's likely going to be Bash. There are a large number of useful commands, and it will take time to become familiar with them all, <b>but it is worth your time.</b>\n",
    "\n",
    "Often, the shorter the name the more useful it is. Let's take `ls` for \"list\". To learn more about a tool, you can use the `man` tool, or any many cases by passing the `-h` or `--help` argument."
   ]
  },
  {
   "cell_type": "code",
   "execution_count": 3,
   "id": "9f7bd03e-464a-42c3-88a4-556318571e54",
   "metadata": {
    "scrolled": true
   },
   "outputs": [
    {
     "name": "stdout",
     "output_type": "stream",
     "text": [
      "LS(1)                       General Commands Manual                      LS(1)\n",
      "\n",
      "NAME\n",
      "     ls – list directory contents\n",
      "\n",
      "SYNOPSIS\n",
      "     ls [-@ABCFGHILOPRSTUWabcdefghiklmnopqrstuvwxy1%,] [--color=when]\n",
      "        [-D format] [file ...]\n",
      "\n",
      "DESCRIPTION\n",
      "     For each operand that names a file of a type other than directory, ls\n",
      "     displays its name as well as any requested, associated information.  For\n",
      "     each operand that names a file of type directory, ls displays the names\n",
      "     of files contained within that directory, as well as any requested,\n",
      "     associated information.\n",
      "\n",
      "     If no operands are given, the contents of the current directory are\n",
      "     displayed.  If more than one operand is given, non-directory operands are\n",
      "     displayed first; directory and non-directory operands are sorted\n",
      "     separately and in lexicographical order.\n",
      "\n",
      "     The following options are available:\n",
      "\n",
      "     -@      Display extended attribute keys and sizes in long (-l) output.\n",
      "\n",
      "     -A      Include directory entries whose names begin with a dot (‘.’)\n",
      "             except for . and ...  Automatically set for the super-user unless\n",
      "             -I is specified.\n",
      "\n",
      "     -B      Force printing of non-printable characters (as defined by\n",
      "             ctype(3) and current locale settings) in file names as \\xxx,\n",
      "             where xxx is the numeric value of the character in octal.  This\n",
      "             option is not defined in IEEE Std 1003.1-2008 (“POSIX.1”).\n",
      "\n",
      "     -C      Force multi-column output; this is the default when output is to\n",
      "             a terminal.\n",
      "\n",
      "     -D format\n",
      "             When printing in the long (-l) format, use format to format the\n",
      "             date and time output.  The argument format is a string used by\n",
      "             strftime(3).  Depending on the choice of format string, this may\n",
      "             result in a different number of columns in the output.  This\n",
      "             option overrides the -T option.  This option is not defined in\n",
      "             IEEE Std 1003.1-2008 (“POSIX.1”).\n",
      "\n",
      "     -F      Display a slash (‘/’) immediately after each pathname that is a\n",
      "             directory, an asterisk (‘*’) after each that is executable, an at\n",
      "             sign (‘@’) after each symbolic link, an equals sign (‘=’) after\n",
      "             each socket, a percent sign (‘%’) after each whiteout, and a\n",
      "             vertical bar (‘|’) after each that is a FIFO.\n",
      "\n",
      "     -G      Enable colorized output.  This option is equivalent to defining\n",
      "             CLICOLOR or COLORTERM in the environment and setting\n",
      "             --color=auto.  (See below.)  This functionality can be compiled\n",
      "             out by removing the definition of COLORLS.  This option is not\n",
      "             defined in IEEE Std 1003.1-2008 (“POSIX.1”).\n",
      "\n",
      "     -H      Symbolic links on the command line are followed.  This option is\n",
      "             assumed if none of the -F, -d, or -l options are specified.\n",
      "\n",
      "     -I      Prevent -A from being automatically set for the super-user.  This\n",
      "             option is not defined in IEEE Std 1003.1-2008 (“POSIX.1”).\n",
      "\n",
      "     -L      Follow all symbolic links to final target and list the file or\n",
      "             directory the link references rather than the link itself.  This\n",
      "             option cancels the -P option.\n",
      "\n",
      "     -O      Include the file flags in a long (-l) output.  This option is\n",
      "             incompatible with IEEE Std 1003.1-2008 (“POSIX.1”).  See\n",
      "             chflags(1) for a list of file flags and their meanings.\n",
      "\n",
      "     -P      If argument is a symbolic link, list the link itself rather than\n",
      "             the object the link references.  This option cancels the -H and\n",
      "             -L options.\n",
      "\n",
      "     -R      Recursively list subdirectories encountered.\n",
      "\n",
      "     -S      Sort by size (largest file first) before sorting the operands in\n",
      "             lexicographical order.\n",
      "\n",
      "     -T      When printing in the long (-l) format, display complete time\n",
      "             information for the file, including month, day, hour, minute,\n",
      "             second, and year.  The -D option gives even more control over the\n",
      "             output format.  This option is not defined in IEEE Std\n",
      "             1003.1-2008 (“POSIX.1”).\n",
      "\n",
      "     -U      Use time when file was created for sorting or printing.  This\n",
      "             option is not defined in IEEE Std 1003.1-2008 (“POSIX.1”).\n",
      "\n",
      "     -W      Display whiteouts when scanning directories.  This option is not\n",
      "             defined in IEEE Std 1003.1-2008 (“POSIX.1”).\n",
      "\n",
      "     -a      Include directory entries whose names begin with a dot (‘.’).\n",
      "\n",
      "     -b      As -B, but use C escape codes whenever possible.  This option is\n",
      "             not defined in IEEE Std 1003.1-2008 (“POSIX.1”).\n",
      "\n",
      "     -c      Use time when file status was last changed for sorting or\n",
      "             printing.\n",
      "\n",
      "     --color=when\n",
      "             Output colored escape sequences based on when, which may be set\n",
      "             to either always, auto, or never.\n",
      "\n",
      "             always will make ls always output color.  If TERM is unset or set\n",
      "             to an invalid terminal, then ls will fall back to explicit ANSI\n",
      "             escape sequences without the help of termcap(5).  always is the\n",
      "             default if --color is specified without an argument.\n",
      "\n",
      "             auto will make ls output escape sequences based on termcap(5),\n",
      "             but only if stdout is a tty and either the -G flag is specified\n",
      "             or the COLORTERM environment variable is set and not empty.\n",
      "\n",
      "             never will disable color regardless of environment variables.\n",
      "             never is the default when neither --color nor -G is specified.\n",
      "\n",
      "             For compatibility with GNU coreutils, ls supports yes or force as\n",
      "             equivalent to always, no or none as equivalent to never, and tty\n",
      "             or if-tty as equivalent to auto.\n",
      "\n",
      "     -d      Directories are listed as plain files (not searched recursively).\n",
      "\n",
      "     -e      Print the Access Control List (ACL) associated with the file, if\n",
      "             present, in long (-l) output.\n",
      "\n",
      "     -f      Output is not sorted.  This option turns on -a.  It also negates\n",
      "             the effect of the -r, -S and -t options.  As allowed by IEEE Std\n",
      "             1003.1-2008 (“POSIX.1”), this option has no effect on the -d, -l,\n",
      "             -R and -s options.\n",
      "\n",
      "     -g      This option has no effect.  It is only available for\n",
      "             compatibility with 4.3BSD, where it was used to display the group\n",
      "             name in the long (-l) format output.  This option is incompatible\n",
      "             with IEEE Std 1003.1-2008 (“POSIX.1”).\n",
      "\n",
      "     -h      When used with the -l option, use unit suffixes: Byte, Kilobyte,\n",
      "             Megabyte, Gigabyte, Terabyte and Petabyte in order to reduce the\n",
      "             number of digits to four or fewer using base 2 for sizes.  This\n",
      "             option is not defined in IEEE Std 1003.1-2008 (“POSIX.1”).\n",
      "\n",
      "     -i      For each file, print the file's file serial number (inode\n",
      "             number).\n",
      "\n",
      "     -k      This has the same effect as setting environment variable\n",
      "             BLOCKSIZE to 1024, except that it also nullifies any -h options\n",
      "             to its left.\n",
      "\n",
      "     -l      (The lowercase letter “ell”.) List files in the long format, as\n",
      "             described in the The Long Format subsection below.\n",
      "\n",
      "     -m      Stream output format; list files across the page, separated by\n",
      "             commas.\n",
      "\n",
      "     -n      Display user and group IDs numerically rather than converting to\n",
      "             a user or group name in a long (-l) output.  This option turns on\n",
      "             the -l option.\n",
      "\n",
      "     -o      List in long format, but omit the group id.\n",
      "\n",
      "     -p      Write a slash (‘/’) after each filename if that file is a\n",
      "             directory.\n",
      "\n",
      "     -q      Force printing of non-graphic characters in file names as the\n",
      "             character ‘?’; this is the default when output is to a terminal.\n",
      "\n",
      "     -r      Reverse the order of the sort.\n",
      "\n",
      "     -s      Display the number of blocks used in the file system by each\n",
      "             file.  Block sizes and directory totals are handled as described\n",
      "             in The Long Format subsection below, except (if the long format\n",
      "             is not also requested) the directory totals are not output when\n",
      "             the output is in a single column, even if multi-column output is\n",
      "             requested.  (-l) format, display complete time information for\n",
      "             the file, including month, day, hour, minute, second, and year.\n",
      "             The -D option gives even more control over the output format.\n",
      "             This option is not defined in IEEE Std 1003.1-2008 (“POSIX.1”).\n",
      "\n",
      "     -t      Sort by descending time modified (most recently modified first).\n",
      "             If two files have the same modification timestamp, sort their\n",
      "             names in ascending lexicographical order.  The -r option reverses\n",
      "             both of these sort orders.\n",
      "\n",
      "             Note that these sort orders are contradictory: the time sequence\n",
      "             is in descending order, the lexicographical sort is in ascending\n",
      "             order.  This behavior is mandated by IEEE Std 1003.2 (“POSIX.2”).\n",
      "             This feature can cause problems listing files stored with\n",
      "             sequential names on FAT file systems, such as from digital\n",
      "             cameras, where it is possible to have more than one image with\n",
      "             the same timestamp.  In such a case, the photos cannot be listed\n",
      "             in the sequence in which they were taken.  To ensure the same\n",
      "             sort order for time and for lexicographical sorting, set the\n",
      "             environment variable LS_SAMESORT or use the -y option.  This\n",
      "             causes ls to reverse the lexicographical sort order when sorting\n",
      "             files with the same modification timestamp.\n",
      "\n",
      "     -u      Use time of last access, instead of time of last modification of\n",
      "             the file for sorting (-t) or long printing (-l).\n",
      "\n",
      "     -v      Force unedited printing of non-graphic characters; this is the\n",
      "             default when output is not to a terminal.\n",
      "\n",
      "     -w      Force raw printing of non-printable characters.  This is the\n",
      "             default when output is not to a terminal.  This option is not\n",
      "             defined in IEEE Std 1003.1-2001 (“POSIX.1”).\n",
      "\n",
      "     -x      The same as -C, except that the multi-column output is produced\n",
      "             with entries sorted across, rather than down, the columns.\n",
      "\n",
      "     -y      When the -t option is set, sort the alphabetical output in the\n",
      "             same order as the time output.  This has the same effect as\n",
      "             setting LS_SAMESORT.  See the description of the -t option for\n",
      "             more details.  This option is not defined in IEEE Std 1003.1-2001\n",
      "             (“POSIX.1”).\n",
      "\n",
      "     -%      Distinguish dataless files and directories with a '%' character\n",
      "             in long\n",
      "\n",
      "     -1      (The numeric digit “one”.) Force output to be one entry per line.\n",
      "             This is the default when output is not to a terminal.  (-l)\n",
      "             output, and don't materialize dataless directories when listing\n",
      "             them.\n",
      "\n",
      "     -,      (Comma) When the -l option is set, print file sizes grouped and\n",
      "             separated by thousands using the non-monetary separator returned\n",
      "             by localeconv(3), typically a comma or period.  If no locale is\n",
      "             set, or the locale does not have a non-monetary separator, this\n",
      "             option has no effect.  This option is not defined in IEEE Std\n",
      "             1003.1-2001 (“POSIX.1”).\n",
      "\n",
      "     The -1, -C, -x, and -l options all override each other; the last one\n",
      "     specified determines the format used.\n",
      "\n",
      "     The -c, -u, and -U options all override each other; the last one\n",
      "     specified determines the file time used.\n",
      "\n",
      "     The -S and -t options override each other; the last one specified\n",
      "     determines the sort order used.\n",
      "\n",
      "     The -B, -b, -w, and -q options all override each other; the last one\n",
      "     specified determines the format used for non-printable characters.\n",
      "\n",
      "     The -H, -L and -P options all override each other (either partially or\n",
      "     fully); they are applied in the order specified.\n",
      "\n",
      "     By default, ls lists one entry per line to standard output; the\n",
      "     exceptions are to terminals or when the -C or -x options are specified.\n",
      "\n",
      "     File information is displayed with one or more ⟨blank⟩s separating the\n",
      "     information associated with the -i, -s, and -l options.\n",
      "\n",
      "   The Long Format\n",
      "     If the -l option is given, the following information is displayed for\n",
      "     each file: file mode, number of links, owner name, group name, number of\n",
      "     bytes in the file, abbreviated month, day-of-month file was last\n",
      "     modified, hour file last modified, minute file last modified, and the\n",
      "     pathname.  If the file or directory has extended attributes, the\n",
      "     permissions field printed by the -l option is followed by a '@'\n",
      "     character.  Otherwise, if the file or directory has extended security\n",
      "     information (such as an access control list), the permissions field\n",
      "     printed by the -l option is followed by a '+' character.  If the -%\n",
      "     option is given, a '%' character follows the permissions field for\n",
      "     dataless files and directories, possibly replacing the '@' or '+'\n",
      "     character.\n",
      "\n",
      "     If the modification time of the file is more than 6 months in the past or\n",
      "     future, and the -D or -T are not specified, then the year of the last\n",
      "     modification is displayed in place of the hour and minute fields.\n",
      "\n",
      "     If the owner or group names are not a known user or group name, or the -n\n",
      "     option is given, the numeric ID's are displayed.\n",
      "\n",
      "     If the file is a character special or block special file, the device\n",
      "     number for the file is displayed in the size field.  If the file is a\n",
      "     symbolic link the pathname of the linked-to file is preceded by “->”.\n",
      "\n",
      "     The listing of a directory's contents is preceded by a labeled total\n",
      "     number of blocks used in the file system by the files which are listed as\n",
      "     the directory's contents (which may or may not include . and .. and other\n",
      "     files which start with a dot, depending on other options).\n",
      "\n",
      "     The default block size is 512 bytes.  The block size may be set with\n",
      "     option -k or environment variable BLOCKSIZE.  Numbers of blocks in the\n",
      "     output will have been rounded up so the numbers of bytes is at least as\n",
      "     many as used by the corresponding file system blocks (which might have a\n",
      "     different size).\n",
      "\n",
      "     The file mode printed under the -l option consists of the entry type and\n",
      "     the permissions.  The entry type character describes the type of file, as\n",
      "     follows:\n",
      "\n",
      "           -     Regular file.\n",
      "           b     Block special file.\n",
      "           c     Character special file.\n",
      "           d     Directory.\n",
      "           l     Symbolic link.\n",
      "           p     FIFO.\n",
      "           s     Socket.\n",
      "           w     Whiteout.\n",
      "\n",
      "     The next three fields are three characters each: owner permissions, group\n",
      "     permissions, and other permissions.  Each field has three character\n",
      "     positions:\n",
      "\n",
      "           1.   If r, the file is readable; if -, it is not readable.\n",
      "\n",
      "           2.   If w, the file is writable; if -, it is not writable.\n",
      "\n",
      "           3.   The first of the following that applies:\n",
      "\n",
      "                      S     If in the owner permissions, the file is not\n",
      "                            executable and set-user-ID mode is set.  If in the\n",
      "                            group permissions, the file is not executable and\n",
      "                            set-group-ID mode is set.\n",
      "\n",
      "                      s     If in the owner permissions, the file is\n",
      "                            executable and set-user-ID mode is set.  If in the\n",
      "                            group permissions, the file is executable and\n",
      "                            setgroup-ID mode is set.\n",
      "\n",
      "                      x     The file is executable or the directory is\n",
      "                            searchable.\n",
      "\n",
      "                      -     The file is neither readable, writable,\n",
      "                            executable, nor set-user-ID nor set-group-ID mode,\n",
      "                            nor sticky.  (See below.)\n",
      "\n",
      "                These next two apply only to the third character in the last\n",
      "                group (other permissions).\n",
      "\n",
      "                      T     The sticky bit is set (mode 1000), but not execute\n",
      "                            or search permission.  (See chmod(1) or\n",
      "                            sticky(7).)\n",
      "\n",
      "                      t     The sticky bit is set (mode 1000), and is\n",
      "                            searchable or executable.  (See chmod(1) or\n",
      "                            sticky(7).)\n",
      "\n",
      "     The next field contains a plus (‘+’) character if the file has an ACL, or\n",
      "     a space (‘ ’) if it does not.  The ls utility does not show the actual\n",
      "     ACL unless the -e option is used in conjunction with the -l option.\n",
      "\n",
      "ENVIRONMENT\n",
      "     The following environment variables affect the execution of ls:\n",
      "\n",
      "     BLOCKSIZE           If this is set, its value, rounded up to 512 or down\n",
      "                         to a multiple of 512, will be used as the block size\n",
      "                         in bytes by the -l and -s options.  See The Long\n",
      "                         Format subsection for more information.\n",
      "\n",
      "     CLICOLOR            Use ANSI color sequences to distinguish file types.\n",
      "                         See LSCOLORS below.  In addition to the file types\n",
      "                         mentioned in the -F option some extra attributes\n",
      "                         (setuid bit set, etc.) are also displayed.  The\n",
      "                         colorization is dependent on a terminal type with the\n",
      "                         proper termcap(5) capabilities.  The default “cons25”\n",
      "                         console has the proper capabilities, but to display\n",
      "                         the colors in an xterm(1), for example, the TERM\n",
      "                         variable must be set to “xterm-color”.  Other\n",
      "                         terminal types may require similar adjustments.\n",
      "                         Colorization is silently disabled if the output is\n",
      "                         not directed to a terminal unless the CLICOLOR_FORCE\n",
      "                         variable is defined or --color is set to “always”.\n",
      "\n",
      "     CLICOLOR_FORCE      Color sequences are normally disabled if the output\n",
      "                         is not directed to a terminal.  This can be\n",
      "                         overridden by setting this variable.  The TERM\n",
      "                         variable still needs to reference a color capable\n",
      "                         terminal however otherwise it is not possible to\n",
      "                         determine which color sequences to use.\n",
      "\n",
      "     COLORTERM           See description for CLICOLOR above.\n",
      "\n",
      "     COLUMNS             If this variable contains a string representing a\n",
      "                         decimal integer, it is used as the column position\n",
      "                         width for displaying multiple-text-column output.\n",
      "                         The ls utility calculates how many pathname text\n",
      "                         columns to display based on the width provided.  (See\n",
      "                         -C and -x.)\n",
      "\n",
      "     LANG                The locale to use when determining the order of day\n",
      "                         and month in the long -l format output.  See\n",
      "                         environ(7) for more information.\n",
      "\n",
      "     LSCOLORS            The value of this variable describes what color to\n",
      "                         use for which attribute when colors are enabled with\n",
      "                         CLICOLOR or COLORTERM.  This string is a\n",
      "                         concatenation of pairs of the format fb, where f is\n",
      "                         the foreground color and b is the background color.\n",
      "\n",
      "                         The color designators are as follows:\n",
      "\n",
      "                               a     black\n",
      "                               b     red\n",
      "                               c     green\n",
      "                               d     brown\n",
      "                               e     blue\n",
      "                               f     magenta\n",
      "                               g     cyan\n",
      "                               h     light grey\n",
      "                               A     bold black, usually shows up as dark grey\n",
      "                               B     bold red\n",
      "                               C     bold green\n",
      "                               D     bold brown, usually shows up as yellow\n",
      "                               E     bold blue\n",
      "                               F     bold magenta\n",
      "                               G     bold cyan\n",
      "                               H     bold light grey; looks like bright white\n",
      "                               x     default foreground or background\n",
      "\n",
      "                         Note that the above are standard ANSI colors.  The\n",
      "                         actual display may differ depending on the color\n",
      "                         capabilities of the terminal in use.\n",
      "\n",
      "                         The order of the attributes are as follows:\n",
      "\n",
      "                               1.   directory\n",
      "                               2.   symbolic link\n",
      "                               3.   socket\n",
      "                               4.   pipe\n",
      "                               5.   executable\n",
      "                               6.   block special\n",
      "                               7.   character special\n",
      "                               8.   executable with setuid bit set\n",
      "                               9.   executable with setgid bit set\n",
      "                               10.  directory writable to others, with sticky\n",
      "                                    bit\n",
      "                               11.  directory writable to others, without\n",
      "                                    sticky bit\n",
      "\n",
      "                         The default is \"exfxcxdxbxegedabagacad\", i.e., blue\n",
      "                         foreground and default background for regular\n",
      "                         directories, black foreground and red background for\n",
      "                         setuid executables, etc.\n",
      "\n",
      "     LS_COLWIDTHS        If this variable is set, it is considered to be a\n",
      "                         colon-delimited list of minimum column widths.\n",
      "                         Unreasonable and insufficient widths are ignored\n",
      "                         (thus zero signifies a dynamically sized column).\n",
      "                         Not all columns have changeable widths.  The fields\n",
      "                         are, in order: inode, block count, number of links,\n",
      "                         user name, group name, flags, file size, file name.\n",
      "\n",
      "     LS_SAMESORT         If this variable is set, the -t option sorts the\n",
      "                         names of files with the same modification timestamp\n",
      "                         in the same sense as the time sort.  See the\n",
      "                         description of the -t option for more details.\n",
      "\n",
      "     TERM                The CLICOLOR and COLORTERM functionality depends on a\n",
      "                         terminal type with color capabilities.\n",
      "\n",
      "     TZ                  The timezone to use when displaying dates.  See\n",
      "                         environ(7) for more information.\n",
      "\n",
      "EXIT STATUS\n",
      "     The ls utility exits 0 on success, and >0 if an error occurs.\n",
      "\n",
      "EXAMPLES\n",
      "     List the contents of the current working directory in long format:\n",
      "\n",
      "           $ ls -l\n",
      "\n",
      "     In addition to listing the contents of the current working directory in\n",
      "     long format, show inode numbers, file flags (see chflags(1)), and suffix\n",
      "     each filename with a symbol representing its file type:\n",
      "\n",
      "           $ ls -lioF\n",
      "\n",
      "     List the files in /var/log, sorting the output such that the most\n",
      "     recently modified entries are printed first:\n",
      "\n",
      "           $ ls -lt /var/log\n",
      "\n",
      "COMPATIBILITY\n",
      "     The group field is now automatically included in the long listing for\n",
      "     files in order to be compatible with the IEEE Std 1003.2 (“POSIX.2”)\n",
      "     specification.\n",
      "\n",
      "LEGACY DESCRIPTION\n",
      "     In legacy mode, the -f option does not turn on the -a option and the -g,\n",
      "     -n, and -o options do not turn on the -l option.\n",
      "\n",
      "     Also, the -o option causes the file flags to be included in a long (-l)\n",
      "     output; there is no -O option.\n",
      "\n",
      "     When -H is specified (and not overridden by -L or -P) and a file argument\n",
      "     is a symlink that resolves to a non-directory file, the output will\n",
      "     reflect the nature of the link, rather than that of the file.  In legacy\n",
      "     operation, the output will describe the file.\n",
      "\n",
      "     For more information about legacy mode, see compat(5).\n",
      "\n",
      "SEE ALSO\n",
      "     chflags(1), chmod(1), sort(1), xterm(1), localeconv(3), strftime(3),\n",
      "     strmode(3), compat(5), termcap(5), sticky(7), symlink(7)\n",
      "\n",
      "STANDARDS\n",
      "     With the exception of options -g, -n and -o, the ls utility conforms to\n",
      "     IEEE Std 1003.1-2001 (“POSIX.1”) and IEEE Std 1003.1-2008 (“POSIX.1”).\n",
      "     The options -B, -D, -G, -I, -T, -U, -W, -Z, -b, -h, -w, -y and -, are\n",
      "     non-standard extensions.\n",
      "\n",
      "     The ACL support is compatible with IEEE Std 1003.2c (“POSIX.2c”) Draft 17\n",
      "     (withdrawn).\n",
      "\n",
      "HISTORY\n",
      "     An ls command appeared in Version 1 AT&T UNIX.\n",
      "\n",
      "BUGS\n",
      "     To maintain backward compatibility, the relationships between the many\n",
      "     options are quite complex.\n",
      "\n",
      "     The exception mentioned in the -s option description might be a feature\n",
      "     that was based on the fact that single-column output usually goes to\n",
      "     something other than a terminal.  It is debatable whether this is a\n",
      "     design bug.\n",
      "\n",
      "     IEEE Std 1003.2 (“POSIX.2”) mandates opposite sort orders for files with\n",
      "     the same timestamp when sorting with the -t option.\n",
      "\n",
      "macOS 13.5                      August 31, 2020                     macOS 13.5\n"
     ]
    }
   ],
   "source": [
    "man ls"
   ]
  },
  {
   "cell_type": "markdown",
   "id": "50f22249-8de5-45ab-8008-20a972303796",
   "metadata": {},
   "source": [
    "****\n",
    "\n",
    "I bring up `ls` first because it can be used to find other commands:"
   ]
  },
  {
   "cell_type": "code",
   "execution_count": 4,
   "id": "ccebbfb1-275c-4391-a8af-5da4162fe861",
   "metadata": {
    "editable": true,
    "scrolled": true,
    "slideshow": {
     "slide_type": ""
    },
    "tags": []
   },
   "outputs": [
    {
     "name": "stdout",
     "output_type": "stream",
     "text": [
      "drwxr-xr-x   936 root     wheel  29952 Jul 11 10:56 \u001b[1m\u001b[36m/usr/bin/\u001b[39;49m\u001b[0m\n",
      "drwxr-xr-x@   39 root     wheel   1248 Jul 11 10:56 \u001b[1m\u001b[36m/bin\u001b[39;49m\u001b[0m\n",
      "drwxr-xr-x  2170 jamoore  admin  69440 Aug 28 22:23 \u001b[1m\u001b[36m/usr/local/bin\u001b[39;49m\u001b[0m\n"
     ]
    }
   ],
   "source": [
    "ls -ltrad /bin /usr/bin/ /usr/local/bin"
   ]
  },
  {
   "cell_type": "markdown",
   "id": "fd52d478-18af-4bc1-b991-98efe8328205",
   "metadata": {},
   "source": [
    "These are the directories where you will find many of them. For example, the command `bash` is one of them:"
   ]
  },
  {
   "cell_type": "code",
   "execution_count": 5,
   "id": "03a47295-9aee-4bc3-8400-2b6c0ccd3da6",
   "metadata": {},
   "outputs": [
    {
     "name": "stdout",
     "output_type": "stream",
     "text": [
      "/bin/bash\n"
     ]
    }
   ],
   "source": [
    "which bash"
   ]
  },
  {
   "cell_type": "markdown",
   "id": "e135160e-a971-4faf-bd75-306aee57c61b",
   "metadata": {},
   "source": [
    "`which` is a command that tells you where a command lives. `/bin/bash` is the command that gets run when you login. It's your \"shell\"."
   ]
  },
  {
   "cell_type": "code",
   "execution_count": 6,
   "id": "f94217ec-c93d-459d-9e59-34d4ef87fd14",
   "metadata": {},
   "outputs": [
    {
     "name": "stdout",
     "output_type": "stream",
     "text": [
      "/bin/bash\n"
     ]
    }
   ],
   "source": [
    "echo $SHELL"
   ]
  },
  {
   "cell_type": "markdown",
   "id": "998099ac-f48e-48df-b2a7-d2928fa33fef",
   "metadata": {},
   "source": [
    "So it's the context that everything you are doing is happening in:"
   ]
  },
  {
   "cell_type": "code",
   "execution_count": 7,
   "id": "07b69ad4-297a-4eb4-bbc4-0fb720717765",
   "metadata": {},
   "outputs": [
    {
     "name": "stdout",
     "output_type": "stream",
     "text": [
      "-+= 00001 root /sbin/launchd\n",
      " \\-+= 00560 jamoore /Applications/iTerm.app/Contents/MacOS/iTerm2\n",
      "   \\-+- 02144 jamoore /Users/jamoore/Library/Application Support/iTerm2/iTermSe\n",
      "     \\-+= 12058 root login -fp jamoore\n",
      "       \\-+= 12059 jamoore -bash\n",
      "         \\-+= 58533 jamoore /Users/jamoore/micromamba/envs/embo/bin/python3.9 /\n",
      "           \\-+= 95528 jamoore /Users/jamoore/micromamba/envs/embo/bin/python -m\n",
      "             \\-+= 95533 jamoore /bin/bash --rcfile /Users/jamoore/micromamba/en\n",
      "               \\-+= 95806 jamoore pstree -p 95533\n",
      "                 \\--- 95807 root ps -axwwo user,pid,ppid,pgid,command\n"
     ]
    }
   ],
   "source": [
    "pstree -p $$"
   ]
  },
  {
   "cell_type": "markdown",
   "id": "f95369aa-8c37-4c33-91bb-db001310b01f",
   "metadata": {},
   "source": [
    "That *shell* (or interpreter) holds the state of everything you are doing, including any variables you might set. Any time you start a new shell, you will need to make sure all of those variables are reset. For example, most of our notebooks will make use of the variable `YOURNAME`, e.g., to create directories, etc. You can find out your login name with the `whoami` command:"
   ]
  },
  {
   "cell_type": "code",
   "execution_count": 8,
   "id": "cc13f438-4e8c-4bdc-bab2-976d946939a9",
   "metadata": {},
   "outputs": [
    {
     "name": "stdout",
     "output_type": "stream",
     "text": [
      "jamoore\n"
     ]
    }
   ],
   "source": [
    "whoami"
   ]
  },
  {
   "cell_type": "code",
   "execution_count": 9,
   "id": "668d2bb9-c15a-465f-bcfa-4c427dd64bdb",
   "metadata": {},
   "outputs": [],
   "source": [
    "YOURNAME=$(whoami)"
   ]
  },
  {
   "cell_type": "code",
   "execution_count": 10,
   "id": "e1de7ba4-de1d-4199-8c1c-4ae81693ef6e",
   "metadata": {
    "scrolled": true
   },
   "outputs": [
    {
     "name": "stdout",
     "output_type": "stream",
     "text": [
      "jamoore\n"
     ]
    }
   ],
   "source": [
    "echo $YOURNAME"
   ]
  },
  {
   "cell_type": "markdown",
   "id": "2f37c418-5d63-4b8d-b972-7310658b2e6a",
   "metadata": {},
   "source": [
    "Now we have the variable we want set."
   ]
  },
  {
   "cell_type": "markdown",
   "id": "a8dd1ca4-7590-4484-b4e6-fd10ac9645e3",
   "metadata": {
    "editable": true,
    "slideshow": {
     "slide_type": ""
    },
    "tags": []
   },
   "source": [
    "## 3c. Our data directory"
   ]
  },
  {
   "cell_type": "markdown",
   "id": "73ebb17c-d62b-46d3-a1bf-fb0edd31b346",
   "metadata": {},
   "source": [
    "Now with this out of the way, we can start to work with the data directories that are available on BAND.\n",
    "\n",
    "`pwd` prints the directory that the current process is in:"
   ]
  },
  {
   "cell_type": "code",
   "execution_count": 11,
   "id": "4b67eee0-1222-4b54-999a-7f0ebedd0426",
   "metadata": {},
   "outputs": [
    {
     "name": "stdout",
     "output_type": "stream",
     "text": [
      "/opt/EMBO-Workshop-2023\n"
     ]
    }
   ],
   "source": [
    "pwd"
   ]
  },
  {
   "cell_type": "markdown",
   "id": "874edf9d-34d2-4f49-a781-042f9e9e3edc",
   "metadata": {},
   "source": [
    "We want to move to another directory, for that we use the `cd` command:"
   ]
  },
  {
   "cell_type": "code",
   "execution_count": 12,
   "id": "2ff1acb9-82c9-450f-a561-d62e68282350",
   "metadata": {},
   "outputs": [],
   "source": [
    "cd /scratch/bioimagecourse2023/session1"
   ]
  },
  {
   "cell_type": "markdown",
   "id": "d25ced95-cf5e-4e4c-96b3-fa4f3bd03fe5",
   "metadata": {},
   "source": [
    "Now we are in our working directory. Feel free to look around using `ls`. For example the flags `-ltra` mean: \"show me a long listing of the files in reverse order by time and even show me the weird files starting with `.`\"."
   ]
  },
  {
   "cell_type": "code",
   "execution_count": 13,
   "id": "27ee9b79-ee85-41e5-b42a-75cb4e727e59",
   "metadata": {
    "editable": true,
    "slideshow": {
     "slide_type": ""
    },
    "tags": []
   },
   "outputs": [
    {
     "name": "stdout",
     "output_type": "stream",
     "text": [
      "total 46024\n",
      "-rw-r--r--   1 jamoore  wheel       529 Aug 23 18:13 2a.sh\n",
      "-rw-r--r--   1 jamoore  wheel     42000 Aug 23 18:13 .2a.sh.un~\n",
      "-rw-r--r--   1 jamoore  wheel        69 Aug 23 18:16 notes\n",
      "-rw-r--r--   1 jamoore  wheel      3123 Aug 23 18:16 .notes.un~\n",
      "-rw-r--r--   1 jamoore  wheel       469 Aug 23 18:50 2b.sh\n",
      "-rw-r--r--   1 jamoore  wheel     27560 Aug 23 18:50 .2b.sh.un~\n",
      "-rw-r--r--   1 jamoore  wheel       638 Aug 23 18:58 3a.sh\n",
      "-rw-r--r--   1 jamoore  wheel     31925 Aug 23 18:58 .3a.sh.un~\n",
      "drwxr-xr-x   3 jamoore  wheel        96 Aug 24 16:39 \u001b[1m\u001b[36m..\u001b[39;49m\u001b[0m\n",
      "drwxr-xr-x   4 jamoore  wheel       128 Aug 28 13:04 \u001b[1m\u001b[36mdata\u001b[39;49m\u001b[0m\n",
      "lrwxr-xr-x   1 jamoore  wheel        23 Aug 29 12:49 \u001b[1m\u001b[35mEMBO-Practical-Course-2023\u001b[39;49m\u001b[0m -> /opt/EMBO-Workshop-2023\n",
      "drwxr-xr-x  13 jamoore  wheel       416 Aug 29 12:50 \u001b[1m\u001b[36m.\u001b[39;49m\u001b[0m\n",
      "-rw-r--r--   1 jamoore  wheel  23433941 Aug 29 12:50 OMEZarrReader-0.3.1-jar-with-dependencies.jar\n"
     ]
    }
   ],
   "source": [
    "ls -ltra"
   ]
  },
  {
   "cell_type": "markdown",
   "id": "f628c4bc-28ad-4bfa-b17b-a50eab7f5056",
   "metadata": {},
   "source": [
    "There are many other flags you can use. \"-S\" flag means sort by size instead of time:"
   ]
  },
  {
   "cell_type": "code",
   "execution_count": 14,
   "id": "8a2c1979-2527-4ec5-bc79-97e766a85302",
   "metadata": {},
   "outputs": [
    {
     "name": "stdout",
     "output_type": "stream",
     "text": [
      "total 0\n",
      "-rw-r--r--  1 jamoore  wheel   0 Aug 23 18:01 a.fake\n",
      "drwxr-xr-x  3 jamoore  wheel  96 Aug 23 18:31 \u001b[1m\u001b[36mcellprofiler\u001b[39;49m\u001b[0m\n"
     ]
    }
   ],
   "source": [
    "ls -lSr data/"
   ]
  },
  {
   "cell_type": "markdown",
   "id": "e7ed6ba9-1e3f-446a-a9b3-c62de7d4437b",
   "metadata": {},
   "source": [
    "Another important tool for understanding the size of your data is `du`, for \"disk usage\". The `-sh` flags \"say show me only a (s)ummary of the data and put it in (h)uman-readable form\""
   ]
  },
  {
   "cell_type": "code",
   "execution_count": 15,
   "id": "2f9aa050-0d2d-4270-bb67-e14531b0705d",
   "metadata": {},
   "outputs": [
    {
     "name": "stdout",
     "output_type": "stream",
     "text": [
      "8.7M\tdata/\n"
     ]
    }
   ],
   "source": [
    "\\du -sh data/"
   ]
  },
  {
   "cell_type": "markdown",
   "id": "3c035e52-7555-45c8-a32c-6d67aef35f27",
   "metadata": {},
   "source": [
    "Now we want to make a directory for you to do all of your work in:\n",
    " * `mkdir -p`  means \"create all parents\" (but also: \"don't fail if it also exists\" which is useful for Jupyter notebooks!)\n",
    " * `test -e data ||` means \"if the file or directory `data` does not exist, then create it by \"linking\" it into your own directory. This doesn't make a copy but does make it easier for you to find things."
   ]
  },
  {
   "cell_type": "code",
   "execution_count": 16,
   "id": "5fc481cd-dae9-493c-ae7c-c3fb6b49b457",
   "metadata": {},
   "outputs": [],
   "source": [
    "mkdir -p /scratch/${YOURNAME}/session1\n",
    "cd /scratch/${YOURNAME}/session1\n",
    "test -e data || ln -s /scratch/bioimagecourse2023/session1/data data"
   ]
  },
  {
   "cell_type": "markdown",
   "id": "9d792552-3f63-44ff-8b2c-3d097229c646",
   "metadata": {
    "editable": true,
    "slideshow": {
     "slide_type": ""
    },
    "tags": []
   },
   "source": [
    "`find` is a very powerful tool that we can use to explore directories full of lots of files. (In this case, we've added `tail` to only show the last time lines of all the output)."
   ]
  },
  {
   "cell_type": "code",
   "execution_count": 17,
   "id": "2bd5e2ab-7182-45da-bb23-e24d610f4a3c",
   "metadata": {
    "editable": true,
    "scrolled": true,
    "slideshow": {
     "slide_type": ""
    },
    "tags": []
   },
   "outputs": [
    {
     "name": "stdout",
     "output_type": "stream",
     "text": [
      "./a.ome.zarr/0/1/0/0/0\n",
      "./a.ome.zarr/0/1/0/0/0/0\n",
      "./a.ome.zarr/0/1/0/0/0/0/0\n",
      "./a.ome.zarr/OME\n",
      "./a.ome.zarr/OME/METADATA.ome.xml\n",
      "./a.ome.zarr/OME/.zattrs\n",
      "./a.ome.zarr/OME/.zgroup\n",
      "./pos002.ome.tiff\n",
      "./a.ome.tiff\n",
      "./data\n"
     ]
    }
   ],
   "source": [
    "find . | tail -n 10"
   ]
  },
  {
   "cell_type": "markdown",
   "id": "7cd3837e-6734-4a5a-a782-52898247e9bf",
   "metadata": {},
   "source": [
    "The `-name` flag can be used to match patterns on the filename. You can use `-iname` if you want to ignore the case of the files. The `wc` command counts words, lines, etc. The last number here tells us how many TIFF files were found."
   ]
  },
  {
   "cell_type": "code",
   "execution_count": 18,
   "id": "e304cc36-6277-4ca8-a11c-fcc373e6c420",
   "metadata": {},
   "outputs": [
    {
     "name": "stdout",
     "output_type": "stream",
     "text": [
      "       2       2      31\n"
     ]
    }
   ],
   "source": [
    "find . -name \"*.tiff\" | wc"
   ]
  },
  {
   "cell_type": "markdown",
   "id": "645d3c51-790e-4c15-acfc-95c6e5773c51",
   "metadata": {},
   "source": [
    "You can also run a command on every file you found. The `file` command says what type of a file the operating system *assumes* a file to be. (It's not always right.)"
   ]
  },
  {
   "cell_type": "code",
   "execution_count": 19,
   "id": "94248236-38e6-41b0-8ddb-654dfcac4cce",
   "metadata": {
    "scrolled": true
   },
   "outputs": [
    {
     "name": "stdout",
     "output_type": "stream",
     "text": [
      "./a.ome.zarr/.zattrs: JSON data\n",
      "./a.ome.zarr/.zgroup: JSON data\n",
      "./a.ome.zarr/0/.zattrs: JSON data\n",
      "./a.ome.zarr/0/.zgroup: JSON data\n",
      "./a.ome.zarr/0/0/.zarray: JSON data\n",
      "./a.ome.zarr/0/0/0/0/0/0/0: Targa image data - Color (1-1024) 1604 x 65536 x 24 +2 \"\"\n",
      "./a.ome.zarr/0/1/.zarray: JSON data\n",
      "./a.ome.zarr/0/1/0/0/0/0/0: data\n",
      "./a.ome.zarr/OME/METADATA.ome.xml: XML 1.0 document text, ASCII text, with very long lines (678), with no line terminators\n",
      "./a.ome.zarr/OME/.zattrs: JSON data\n",
      "./a.ome.zarr/OME/.zgroup: JSON data\n",
      "./pos002.ome.tiff: TIFF image data, little-endian, direntries=17, height=1006, bps=8, compression=none, PhotometricIntepretation=RGB Palette, width=1000\n",
      "./a.ome.tiff: TIFF image data, little-endian, direntries=16, height=512, bps=8, compression=none, PhotometricIntepretation=BlackIsZero, description=<?xml version=\"1.0\" encoding=\"UTF-8\"?><!-- Warning: this comment is an OME-XML metadata block, which contains crucial dimension, width=512\n"
     ]
    }
   ],
   "source": [
    "find . -type f -exec file {} \\;"
   ]
  },
  {
   "cell_type": "markdown",
   "id": "660d08e4-698e-4886-9e04-98fccda490c5",
   "metadata": {
    "editable": true,
    "slideshow": {
     "slide_type": ""
    },
    "tags": []
   },
   "source": [
    "## Excercise 1:\n",
    "### Use the tools above to find some data you want to use and symlink data into your own folder for later use."
   ]
  },
  {
   "cell_type": "code",
   "execution_count": 35,
   "id": "f709974e-a12d-46e5-86bb-324e8ba00642",
   "metadata": {},
   "outputs": [],
   "source": [
    "## Do something here or on the command-line. If you are having issues, ask."
   ]
  },
  {
   "cell_type": "markdown",
   "id": "15316f2f-6f69-4884-96b1-b8f45fac43e1",
   "metadata": {
    "editable": true,
    "slideshow": {
     "slide_type": ""
    },
    "tags": []
   },
   "source": [
    "## 3d. Extras (time permitting)"
   ]
  },
  {
   "cell_type": "markdown",
   "id": "79012f09-f709-4ffb-a588-8a6713a64eff",
   "metadata": {
    "editable": true,
    "slideshow": {
     "slide_type": ""
    },
    "tags": []
   },
   "source": [
    "### Permissions"
   ]
  },
  {
   "cell_type": "markdown",
   "id": "f318ee52-cfe9-48eb-a7e5-f386556328f8",
   "metadata": {
    "editable": true,
    "slideshow": {
     "slide_type": ""
    },
    "tags": []
   },
   "source": [
    "In the directory listings above, e.g.:\n",
    "\n",
    "```\n",
    "drwxr-xr-x   936 root     wheel  29952 Jul 11 10:56 /usr/bin/\n",
    "drwxr-xr-x@   39 root     wheel   1248 Jul 11 10:56 /bin\n",
    "drwxr-xr-x  2086 jamoore  admin  66752 Aug 20 18:35 /usr/local/bin\n",
    "```\n",
    "\n",
    "the info here is **critical**:\n",
    "\n",
    "```\n",
    "PERMISSIONS ---- USER     GROUP   SIZE MODIFIED     NAME\n",
    "```\n",
    "\n",
    "Figuring out your user and group is pretty easy. `whoami` from above is your user. `id` can tell you your groups:"
   ]
  },
  {
   "cell_type": "code",
   "execution_count": 21,
   "id": "be3d8817-16c7-446f-876a-8b92c015777b",
   "metadata": {
    "editable": true,
    "scrolled": true,
    "slideshow": {
     "slide_type": ""
    },
    "tags": []
   },
   "outputs": [
    {
     "name": "stdout",
     "output_type": "stream",
     "text": [
      "uid=501(jamoore) gid=20(staff) groups=20(staff),12(everyone),61(localaccounts),79(_appserverusr),80(admin),81(_appserveradm),98(_lpadmin),399(com.apple.access_ssh),33(_appstore),100(_lpoperator),204(_developer),250(_analyticsusers),395(com.apple.access_ftp),398(com.apple.access_screensharing),400(com.apple.access_remote_ae)\n"
     ]
    }
   ],
   "source": [
    "id"
   ]
  },
  {
   "cell_type": "markdown",
   "id": "29119aa0-ff84-4fb8-9797-0dea36ed3a53",
   "metadata": {
    "editable": true,
    "slideshow": {
     "slide_type": ""
    },
    "tags": []
   },
   "source": [
    "Together we can start to piece together whether or not you can read or edit a file. From https://www.grymoire.com/Unix/Permissions.html :\n",
    "\n",
    "```\n",
    "Three sections after the \"d\" for directory marker:\n",
    "+------------+------+-------+\n",
    "| Permission | Octal| Field |\n",
    "+------------+------+-------+\n",
    "| rwx------  | 700  | User  |\n",
    "| ---rwx---  | 070  | Group |\n",
    "| ------rwx  | 007  | Other |\n",
    "+------------+------+-------+\n",
    "\n",
    "Each section can be in one of 8 states:\n",
    "+-----+---+--------------------------+\n",
    "| rwx | 7 | Read, write and execute  |\n",
    "| rw- | 6 | Read, write              |\n",
    "| r-x | 5 | Read, and execute        |\n",
    "| r-- | 4 | Read,                    |\n",
    "| -wx | 3 | Write and execute        |\n",
    "| -w- | 2 | Write                    |\n",
    "| --x | 1 | Execute                  |\n",
    "| --- | 0 | no permissions           |\n",
    "+------------------------------------+\n",
    "\n",
    "Examples:\n",
    "+------------------------+-----------+\n",
    "| chmod u=rwx,g=rwx,o=rx | chmod 775 | For world executables files\n",
    "| chmod u=rwx,g=rx,o=    | chmod 750 | For executables by group only\n",
    "| chmod u=rw,g=r,o=r     | chmod 644 | For world readable files\n",
    "| chmod u=rw,g=r,o=      | chmod 640 | For group readable files\n",
    "| chmod u=rw,go=         | chmod 600 | For private readable files\n",
    "| chmod u=rwx,go=        | chmod 700 | For private executables\n",
    "+------------------------+-----------+\n",
    "```"
   ]
  },
  {
   "cell_type": "markdown",
   "id": "e6028683-9e12-4b18-a53c-fa73b9a95de1",
   "metadata": {},
   "source": [
    "This is *especially* important when using a shared folder like `/scratch`!"
   ]
  },
  {
   "cell_type": "markdown",
   "id": "a9b0ac65-f1a1-41d8-8f4d-8946492bf36c",
   "metadata": {
    "editable": true,
    "jp-MarkdownHeadingCollapsed": true,
    "slideshow": {
     "slide_type": ""
    },
    "tags": []
   },
   "source": [
    "### Simple scripting\n",
    "\n",
    "For loops can be fairly useful when working with many files:"
   ]
  },
  {
   "cell_type": "code",
   "execution_count": 22,
   "id": "c4ecfd46-25ed-470b-b099-f138673853a0",
   "metadata": {
    "editable": true,
    "slideshow": {
     "slide_type": ""
    },
    "tags": []
   },
   "outputs": [],
   "source": [
    "for x in $(find . -name \"*.fake\");\n",
    "do\n",
    "    sha1sum ${x}\n",
    "done"
   ]
  },
  {
   "cell_type": "markdown",
   "id": "9acb8325-a662-4519-93da-300912f650f6",
   "metadata": {},
   "source": [
    "The other thing that can be very help if defining a function:"
   ]
  },
  {
   "cell_type": "code",
   "execution_count": 23,
   "id": "ee95e57e-ed0f-4456-b699-2bebe26ac55e",
   "metadata": {},
   "outputs": [],
   "source": [
    "rename(){\n",
    "  # I'm going to use this on every file\n",
    "  # to change from .tiff to .tif.\n",
    "\n",
    "  mv ${1} ${1%%.tiff}.tif\n",
    "\n",
    "}"
   ]
  },
  {
   "cell_type": "markdown",
   "id": "f74a9744-1dd5-43c9-b099-5c08c3417aeb",
   "metadata": {
    "editable": true,
    "slideshow": {
     "slide_type": ""
    },
    "tags": []
   },
   "source": [
    "But this is obviously just a starting point. Perhaps check out a [Carpentry lesson](https://software-carpentry.org/lessons/) like [The Unix Shell](https://swcarpentry.github.io/shell-novice/) for more information. I can highly recommend them."
   ]
  },
  {
   "cell_type": "markdown",
   "id": "65dab158-d85d-4c9e-8c2c-3c87fda5126b",
   "metadata": {
    "editable": true,
    "jp-MarkdownHeadingCollapsed": true,
    "slideshow": {
     "slide_type": ""
    },
    "tags": []
   },
   "source": [
    "### shasum"
   ]
  },
  {
   "cell_type": "code",
   "execution_count": 24,
   "id": "59fb41a3",
   "metadata": {
    "editable": true,
    "slideshow": {
     "slide_type": ""
    },
    "tags": []
   },
   "outputs": [
    {
     "name": "stdout",
     "output_type": "stream",
     "text": [
      "1a45bdb742869f84fd71ae0fd67f79f1b26923fe  ./a.ome.zarr/.zattrs\n",
      "63de336a45370c236af207996ffd1bca2d7ae2f4  ./a.ome.zarr/.zgroup\n",
      "74075dab6c0712c1d9ae80053ec1410e7f3099cf  ./a.ome.zarr/0/.zattrs\n",
      "63de336a45370c236af207996ffd1bca2d7ae2f4  ./a.ome.zarr/0/.zgroup\n",
      "965f764929f2da5e2691cb8049035975c2ccb5a0  ./a.ome.zarr/0/0/.zarray\n",
      "7c2485fb91905ebd879e745d2e80f097584de271  ./a.ome.zarr/0/0/0/0/0/0/0\n",
      "e6f199c7ed96964069fce5faa5e1cca8513a2320  ./a.ome.zarr/0/1/.zarray\n",
      "dbc22354672642df9dcc2dcb5fffcced6a18b83a  ./a.ome.zarr/0/1/0/0/0/0/0\n",
      "eda28681265146f6d153f53baaee09c030453123  ./a.ome.zarr/OME/METADATA.ome.xml\n",
      "156e48269827cb4611d5a3899d862c60c8f483f4  ./a.ome.zarr/OME/.zattrs\n",
      "63de336a45370c236af207996ffd1bca2d7ae2f4  ./a.ome.zarr/OME/.zgroup\n",
      "722c2d9b3e9a7596389f03ffd5994be8be9c438f  ./pos002.ome.tiff\n",
      "bd8850fd0b39f00ce78ccbfdacd1fdd2024100ff  ./a.ome.tiff\n"
     ]
    }
   ],
   "source": [
    "for x in $(find . -type f);\n",
    "do\n",
    "    sha1sum ${x}\n",
    "done"
   ]
  },
  {
   "cell_type": "markdown",
   "id": "936cebd7-a820-428d-ad96-069f8d2802bf",
   "metadata": {
    "editable": true,
    "jp-MarkdownHeadingCollapsed": true,
    "slideshow": {
     "slide_type": ""
    },
    "tags": []
   },
   "source": [
    "### h5tools"
   ]
  },
  {
   "cell_type": "code",
   "execution_count": 25,
   "id": "bbaa5b56-f724-4912-a233-5d721909af4b",
   "metadata": {
    "editable": true,
    "slideshow": {
     "slide_type": ""
    },
    "tags": []
   },
   "outputs": [
    {
     "name": "stdout",
     "output_type": "stream",
     "text": [
      "usage: h5ls [OPTIONS] file[/OBJECT] [file[/[OBJECT]...]\n",
      "  OPTIONS\n",
      "   -h, -?, --help  Print a usage message and exit\n",
      "   -a, --address   Print raw data address.  If dataset is contiguous, address\n",
      "                   is offset in file of beginning of raw data. If chunked,\n",
      "                   returned list of addresses indicates offset of each chunk.\n",
      "                   Must be used with -v, --verbose option.\n",
      "                   Provides no information for non-dataset objects.\n",
      "   -d, --data      Print the values of datasets\n",
      "   --enable-error-stack\n",
      "                   Prints messages from the HDF5 error stack as they occur.\n",
      "   --follow-symlinks\n",
      "                   Follow symbolic links (soft links and external links)\n",
      "                   to display target object information.\n",
      "                   Without this option, h5ls identifies a symbolic link\n",
      "                   as a soft link or external link and prints the value\n",
      "                   assigned to the symbolic link; it does not provide any\n",
      "                   information regarding the target object or determine\n",
      "                   whether the link is a dangling link.\n",
      "   --no-dangling-links\n",
      "                   Must be used with --follow-symlinks option;\n",
      "                   otherwise, h5ls shows error message and returns an exit\n",
      "                   code of 1. \n",
      "                   Check for any symbolic links (soft links or external links)\n",
      "                   that do not resolve to an existing object (dataset, group,\n",
      "                   or named datatype).\n",
      "                   If any dangling link is found, this situation is treated\n",
      "                   as an error and h5ls returns an exit code of 1.\n",
      "   -f, --full      Print full path names instead of base names\n",
      "   -g, --group     Show information about a group, not its contents\n",
      "   -l, --label     Label members of compound datasets\n",
      "   -r, --recursive List all groups recursively, avoiding cycles\n",
      "   -s, --string    Print 1-byte integer datasets as ASCII\n",
      "   -S, --simple    Use a machine-readable output format\n",
      "   -wN, --width=N  Set the number of columns of output\n",
      "   -v, --verbose   Generate more verbose output\n",
      "   -V, --version   Print version number and exit\n",
      "   --vfd=DRIVER    Use the specified virtual file driver\n",
      "   -x, --hexdump   Show raw data in hexadecimal format\n",
      "\n",
      "  file/OBJECT\n",
      "    Each object consists of an HDF5 file name optionally followed by a\n",
      "    slash and an object name within the file (if no object is specified\n",
      "    within the file then the contents of the root group are displayed).\n",
      "    The file name may include a printf(3C) integer format such as\n",
      "    \"%05d\" to open a file family.\n",
      "\n",
      "  Deprecated Options\n",
      "    The following options have been deprecated in HDF5. While they remain\n",
      "    available, they have been superseded as indicated and may be removed\n",
      "    from HDF5 in the future. Use the indicated replacement option in all\n",
      "    new work; where possible, existing scripts, et cetera, should also be\n",
      "    updated to use the replacement option.\n",
      "\n",
      "   -E or --external   Follow external links.\n",
      "                      Replaced by --follow-symlinks.\n",
      "   -e, --errors       Show all HDF5 error reporting\n",
      "                      Replaced by --enable-error-stack.\n"
     ]
    }
   ],
   "source": [
    "h5ls -h"
   ]
  },
  {
   "cell_type": "markdown",
   "id": "a7af9229-a6ce-4072-82c9-778ccbb8abf1",
   "metadata": {},
   "source": [
    "<hr/>\n",
    "\n",
    "## Half-time\n",
    "\n",
    "<hr/>"
   ]
  },
  {
   "cell_type": "code",
   "execution_count": 26,
   "id": "030e9b93-2683-4848-8ee1-e8da0e8360b9",
   "metadata": {},
   "outputs": [],
   "source": [
    "##\n",
    "## Setup & Sanity checks\n",
    "##\n",
    "\n",
    "YOURNAME=$(whoami)\n",
    "WORKDIR=/scratch/${YOURNAME}/session1\n",
    "test -e ${WORKDIR} || {\n",
    "    echo Please run the steps above first.\n",
    "    exit 1\n",
    "}"
   ]
  },
  {
   "cell_type": "code",
   "execution_count": 27,
   "id": "8662a965-5294-46fb-899c-0e5b3b933d9f",
   "metadata": {},
   "outputs": [],
   "source": [
    "cd /scratch/${YOURNAME}/session1"
   ]
  },
  {
   "cell_type": "markdown",
   "id": "b8fd589d-cd08-45d9-9eee-7475852b9d3b",
   "metadata": {},
   "source": [
    "## 4a. bftools: showinf, bfconvert, etc.\n",
    "\n",
    "bftools is a package of tools that can be downloaded from https://downloads.openmicroscopy.org/bio-formats/latest/artifacts/ or [conda](https://anaconda.org/ome/bftools) for working with bioimaging files from the command-line.\n",
    "\n",
    "One of the tools, `formatlist` simply lists all the supported file formats with their associated file endings:"
   ]
  },
  {
   "cell_type": "code",
   "execution_count": 28,
   "id": "f3a0f17d-c1f6-4e0d-96b7-159112cf2023",
   "metadata": {
    "editable": true,
    "slideshow": {
     "slide_type": ""
    },
    "tags": []
   },
   "outputs": [
    {
     "name": "stdout",
     "output_type": "stream",
     "text": [
      "\n",
      "File pattern: can read (pattern)\n",
      "Zip: can read (zip)\n",
      "Animated PNG: can read, can write, can write multiple (png)\n",
      "JPEG: can read, can write (jpg, jpeg, jpe)\n",
      "SlideBook 7 SLD (native): can read (sldy)\n",
      "Portable Any Map: can read (pbm, pgm, ppm)\n",
      "Flexible Image Transport System: can read (fits, fts)\n",
      "PCX: can read (pcx)\n",
      "Graphics Interchange Format: can read (gif)\n",
      "Windows Bitmap: can read (bmp)\n",
      "IPLab: can read (ipl)\n",
      "IVision: can read (ipm)\n",
      "RCPNL: can read (rcpnl)\n",
      "Deltavision: can read (dv, r3d, r3d_d3d, dv.log, r3d.log)\n",
      "Medical Research Council: can read (mrc, st, ali, map, rec, mrcs)\n",
      "Gatan Digital Micrograph: can read (dm3, dm4)\n",
      "Gatan DM2: can read (dm2)\n",
      "Bitplane Imaris: can read (ims)\n",
      "Openlab RAW: can read (raw)\n",
      "OME-XML: can read, can write, can write multiple (ome, ome.xml)\n",
      "Leica Image File Format: can read (lif)\n",
      "Audio Video Interleave: can read, can write, can write multiple (avi)\n",
      "PICT: can read (pict, pct)\n",
      "SPCImage Data: can read (sdt)\n",
      "SPC FIFO Data: can read (spc, set)\n",
      "Encapsulated PostScript: can read, can write (eps, epsi, ps)\n",
      "Olympus Slidebook: can read (sld, spl)\n",
      "Alicona AL3D: can read (al3d)\n",
      "Multiple-image Network Graphics: can read (mng)\n",
      "Khoros XV: can read (xv)\n",
      "Visitech XYS: can read (xys, html)\n",
      "Laboratory Imaging: can read (lim)\n",
      "Adobe Photoshop: can read (psd)\n",
      "InCell 1000/2000: can read (xdce, xml, tiff, tif, xlog)\n",
      "Li-Cor L2D: can read (l2d, scn, tif)\n",
      "FEI/Philips: can read (img)\n",
      "Hamamatsu Aquacosmos: can read (naf)\n",
      "MINC MRI: can read (mnc)\n",
      "QuickTime: can read, can write, can write multiple (mov)\n",
      "Minolta MRW: can read (mrw)\n",
      "TillVision: can read (vws, pst, inf)\n",
      "ARF: can read (arf)\n",
      "Cellomics C01: can read (c01, dib)\n",
      "LI-FLIM: can read (fli)\n",
      "Truevision Targa: can read (tga)\n",
      "Oxford Instruments: can read (top)\n",
      "VG SAM: can read (dti)\n",
      "Hamamatsu HIS: can read (his)\n",
      "WA Technology TOP: can read (wat)\n",
      "Seiko: can read (xqd, xqf)\n",
      "TopoMetrix: can read (tfr, ffr, zfr, zfp, 2fl)\n",
      "UBM: can read (pr3)\n",
      "Quesant AFM: can read (afm)\n",
      "Bio-Rad GEL: can read (1sc)\n",
      "RHK Technologies: can read (sm2, sm3)\n",
      "Molecular Imaging: can read (stp)\n",
      "CellWorx: can read (pnl, htd, log)\n",
      "MetaXpress TIFF: can read (htd, tif)\n",
      "ECAT7: can read (v)\n",
      "Varian FDF: can read (fdf)\n",
      "AIM: can read (aim)\n",
      "InCell 3000: can read (frm)\n",
      "SPIDER: can read (spi)\n",
      "Volocity Library: can read (mvd2, aisf, aiix, dat, atsf)\n",
      "IMAGIC: can read (hed, img)\n",
      "Hamamatsu VMS: can read (vms)\n",
      "CellSens VSI: can read (vsi, ets)\n",
      "INR: can read (inr)\n",
      "Kodak Molecular Imaging: can read (bip)\n",
      "Volocity Library Clipping: can read (acff)\n",
      "Zeiss CZI: can read (czi)\n",
      "Andor SIF: can read (sif)\n",
      "Hamamatsu NDPIS: can read (ndpis)\n",
      "POV-Ray: can read (df3)\n",
      "IMOD: can read (mod)\n",
      "Simulated data: can read (fake)\n",
      "Aperio AFI: can read (afi)\n",
      "Lavision Imspector: can read (msr)\n",
      "Bio-Rad SCN: can read (scn)\n",
      "Zeiss LMS: can read (lms)\n",
      "PicoQuant Bin: can read (bin)\n",
      "FlowSight: can read (cif)\n",
      "Perkin-Elmer Nuance IM3: can read (im3)\n",
      "I2I: can read (i2i)\n",
      "Princeton Instruments SPE: can read (spe)\n",
      "Olympus OIR: can read (oir)\n",
      "KLB: can read (klb)\n",
      "MicroCT: can read (vff)\n",
      "Leica Object Format: can read (lof)\n",
      "Extended leica file: can read (xlef)\n",
      "Olympus .omp2info: can read (omp2info)\n",
      "JEOL: can read (dat, img, par)\n",
      "NIfTI: can read (nii, img, hdr, nii.gz)\n",
      "Analyze 7.5: can read (img, hdr)\n",
      "Olympus APL: can read (apl, tnb, mtb, tif)\n",
      "NRRD: can read (nrrd, nhdr)\n",
      "Image Cytometry Standard: can read, can write, can write multiple (ics, ids)\n",
      "PerkinElmer: can read (ano, cfg, csv, htm, rec, tim, zpo, tif)\n",
      "Amira: can read (am, amiramesh, grey, hx, labels)\n",
      "Olympus ScanR: can read (dat, xml, tif)\n",
      "BD Pathway: can read (exp, tif)\n",
      "Unisoku STM: can read (hdr, dat)\n",
      "Perkin Elmer Densitometer: can read (hdr, img)\n",
      "Fuji LAS 3000: can read (img, inf)\n",
      "PerkinElmer Operetta: can read (tif, tiff, xml)\n",
      "Inveon: can read (hdr)\n",
      "CellVoyager: can read (tif, xml)\n",
      "PerkinElmer Columbus: can read (xml)\n",
      "Yokogawa CV7000: can read (wpi)\n",
      "Bio-Rad PIC: can read (pic, xml, raw)\n",
      "Olympus FV1000: can read (oib, oif, pty, lut)\n",
      "Zeiss Vision Image (ZVI): can read (zvi)\n",
      "Image-Pro Workspace: can read (ipw)\n",
      "JPEG-2000: can read, can write (jp2, j2k, jpf)\n",
      "JPX: can read (jpx)\n",
      "Nikon ND2: can read (nd2, jp2)\n",
      "Compix Simple-PCI: can read (cxd)\n",
      "Bitplane Imaris 5.5 (HDF): can read (ims)\n",
      "CellH5 (HDF): can read (ch5)\n",
      "Veeco: can read (hdf)\n",
      "Tecan Spark Cyto: can read (db)\n",
      "Zeiss Laser-Scanning Microscopy: can read (lsm, mdb)\n",
      "Image-Pro Sequence: can read (seq, ips)\n",
      "Amersham Biosciences GEL: can read (gel)\n",
      "Bitplane Imaris 3 (TIFF): can read (ims)\n",
      "Evotec Flex: can read (flex, mea, res)\n",
      "Aperio SVS: can read (svs)\n",
      "Imacon: can read (fff)\n",
      "LEO: can read (sxm, tif, tiff)\n",
      "JPK Instruments: can read (jpk)\n",
      "Hamamatsu NDPI: can read (ndpi)\n",
      "PCO-RAW: can read (pcoraw, rec)\n",
      "Ventana .bif: can read (bif)\n",
      "OME-TIFF: can read, can write, can write multiple (ome.tiff, ome.tif, ome.tf2, ome.tf8, ome.btf, companion.ome)\n",
      "Pyramid TIFF: can read (tif, tiff)\n",
      "MIAS: can read (tif, tiff, txt)\n",
      "Leica TCS TIFF: can read (tif, tiff, xml)\n",
      "Leica: can read (lei, tif, tiff, raw)\n",
      "Nikon NEF: can read (nef, tif, tiff)\n",
      "Olympus Fluoview/ABD TIFF: can read (tif, tiff)\n",
      "Prairie TIFF: can read (tif, tiff, cfg, env, xml)\n",
      "Metamorph STK: can read (stk, nd, scan, tif, tiff)\n",
      "Micro-Manager: can read (tif, tiff, txt, xml)\n",
      "Improvision TIFF: can read (tif, tiff)\n",
      "Metamorph TIFF: can read (tif, tiff)\n",
      "Nikon TIFF: can read (tif, tiff)\n",
      "Mikroscan TIFF: can read (tif, tiff)\n",
      "Adobe Photoshop TIFF: can read (tif, tiff)\n",
      "FEI TIFF: can read (tif, tiff)\n",
      "SimplePCI TIFF: can read (tif, tiff)\n",
      "Nikon Elements TIFF: can read (tif, tiff)\n",
      "Trestle: can read (tif)\n",
      "Olympus SIS TIFF: can read (tif, tiff)\n",
      "DNG: can read (cr2, crw, jpg, thm, wav, tif, tiff)\n",
      "Zeiss AxioVision TIFF: can read (tif, xml)\n",
      "Leica SCN: can read (scn)\n",
      "PerkinElmer Vectra/QPTIFF: can read (tiff, tif, qptiff)\n",
      "Slidebook TIFF: can read (tif, tiff)\n",
      "Ionpath MIBI: can read (tif, tiff)\n",
      "DICOM: can read, can write, can write multiple (dic, dcm, dicom, jp2, j2ki, j2kr, raw, ima)\n",
      "Hitachi: can read (txt)\n",
      "Tagged Image File Format: can read, can write, can write multiple (tif, tiff, tf2, tf8, btf)\n",
      "Text: can read (txt, csv)\n",
      "Burleigh: can read (img)\n",
      "Openlab LIFF: can read (liff)\n",
      "SM Camera: can read ()\n",
      "SBIG: can read ()\n",
      "NOAA-HRD Gridded Data Format: can read ()\n",
      "Bruker: can read ()\n",
      "Canon RAW: can read (cr2, crw, jpg, thm, wav)\n",
      "OBF: can read (obf, msr)\n",
      "BDV: can read (xml, h5)\n",
      "\n"
     ]
    }
   ],
   "source": [
    "formatlist"
   ]
  },
  {
   "cell_type": "markdown",
   "id": "9e7d19ab-ca5a-4fe6-a960-0a43a1fd3c73",
   "metadata": {},
   "source": [
    "We'll look at a few of these types."
   ]
  },
  {
   "cell_type": "code",
   "execution_count": 29,
   "id": "8d0f09e9-22f0-490d-a8e5-2c7e72af4396",
   "metadata": {
    "editable": true,
    "slideshow": {
     "slide_type": ""
    },
    "tags": []
   },
   "outputs": [
    {
     "name": "stdout",
     "output_type": "stream",
     "text": [
      "Checking file format [Simulated data]\n",
      "Initializing reader\n",
      "FakeReader initializing data/a.fake\n",
      "Initialization took 0.071s\n",
      "\n",
      "Reading core metadata\n",
      "filename = data/a.fake\n",
      "Used files = [/System/Volumes/Data/scratch/jamoore/session1/data/a.fake]\n",
      "Series count = 1\n",
      "Series #0 :\n",
      "\tImage count = 1\n",
      "\tRGB = false (1) \n",
      "\tInterleaved = false\n",
      "\tIndexed = false (true color)\n",
      "\tWidth = 512\n",
      "\tHeight = 512\n",
      "\tSizeZ = 1\n",
      "\tSizeT = 1\n",
      "\tSizeC = 1\n",
      "\tTile size = 512 x 512\n",
      "\tThumbnail size = 128 x 128\n",
      "\tEndianness = intel (little)\n",
      "\tDimension order = XYZCT (certain)\n",
      "\tPixel type = uint8\n",
      "\tValid bits per pixel = 8\n",
      "\tMetadata complete = true\n",
      "\tThumbnail series = false\n",
      "\t-----\n",
      "\tPlane #0 <=> Z 0, C 0, T 0\n",
      "\n",
      "\n",
      "Reading global metadata\n",
      "\n",
      "Reading metadata\n"
     ]
    }
   ],
   "source": [
    "showinf -nopix data/a.fake"
   ]
  },
  {
   "cell_type": "code",
   "execution_count": 30,
   "id": "fd520130-b8d6-4612-8535-26f91caddf4c",
   "metadata": {},
   "outputs": [
    {
     "name": "stdout",
     "output_type": "stream",
     "text": [
      "<?xml version=\"1.0\" encoding=\"UTF-8\"?>\n",
      "<OME xmlns=\"http://www.openmicroscopy.org/Schemas/OME/2016-06\" xmlns:xsi=\"http://www.w3.org/2001/XMLSchema-instance\" xsi:schemaLocation=\"http://www.openmicroscopy.org/Schemas/OME/2016-06 http://www.openmicroscopy.org/Schemas/OME/2016-06/ome.xsd\">\n",
      "   <Image ID=\"Image:0\" Name=\"a\">\n",
      "      <Pixels BigEndian=\"false\" DimensionOrder=\"XYZCT\" ID=\"Pixels:0\" Interleaved=\"false\" SignificantBits=\"8\" SizeC=\"1\" SizeT=\"1\" SizeX=\"512\" SizeY=\"512\" SizeZ=\"1\" Type=\"uint8\">\n",
      "         <Channel ID=\"Channel:0:0\" SamplesPerPixel=\"1\">\n",
      "            <LightPath/>\n",
      "         </Channel>\n",
      "         <MetadataOnly/>\n",
      "      </Pixels>\n",
      "   </Image>\n",
      "</OME>\n",
      "\n"
     ]
    }
   ],
   "source": [
    "showinf -nopix -omexml-only data/a.fake"
   ]
  },
  {
   "cell_type": "code",
   "execution_count": 31,
   "id": "a8b579ae-54cb-46af-bfb5-f505c303432d",
   "metadata": {},
   "outputs": [],
   "source": [
    "test -e a.ome.tiff && rm -rf a.ome.tiff"
   ]
  },
  {
   "cell_type": "code",
   "execution_count": 32,
   "id": "d698eaae-a24d-4bbb-85cb-df8b9895bce9",
   "metadata": {},
   "outputs": [
    {
     "name": "stdout",
     "output_type": "stream",
     "text": [
      "data/a.fake\n",
      "FakeReader initializing data/a.fake\n",
      "[Simulated data] -> a.ome.tiff [OME-TIFF]\n",
      "\tConverted 1/1 planes (100%)\n",
      "[done]\n",
      "0.898s elapsed (18.0+154.0ms per plane, 698ms overhead)\n"
     ]
    }
   ],
   "source": [
    "bfconvert data/a.fake a.ome.tiff"
   ]
  },
  {
   "cell_type": "code",
   "execution_count": 33,
   "id": "79671812-717c-43ba-b2ff-2d827a04288b",
   "metadata": {},
   "outputs": [
    {
     "name": "stdout",
     "output_type": "stream",
     "text": [
      "Checking file format [File pattern]\n",
      "Initializing reader\n",
      "FilePatternReader initializing data/cellprofiler/fruit-fly-cells/POS218.pattern/POS218.pattern\n",
      "TiffDelegateReader initializing /System/Volumes/Data/scratch/jamoore/session1/data/cellprofiler/fruit-fly-cells/POS218.pattern/01_POS218_Z00_T00_D.TIF\n",
      "Reading IFDs\n",
      "Populating metadata\n",
      "Checking comment style\n",
      "Populating OME metadata\n",
      "TiffDelegateReader initializing /System/Volumes/Data/scratch/jamoore/session1/data/cellprofiler/fruit-fly-cells/POS218.pattern/01_POS218_Z00_T00_D.TIF\n",
      "Reading IFDs\n",
      "Populating metadata\n",
      "Checking comment style\n",
      "Populating OME metadata\n",
      "TiffDelegateReader initializing /System/Volumes/Data/scratch/jamoore/session1/data/cellprofiler/fruit-fly-cells/POS218.pattern/01_POS218_Z00_T00_D.TIF\n",
      "TiffDelegateReader initializing /System/Volumes/Data/scratch/jamoore/session1/data/cellprofiler/fruit-fly-cells/POS218.pattern/01_POS218_Z00_T00_D.TIF\n",
      "TiffDelegateReader initializing /System/Volumes/Data/scratch/jamoore/session1/data/cellprofiler/fruit-fly-cells/POS218.pattern/01_POS218_Z00_T00_D.TIF\n",
      "TiffDelegateReader initializing /System/Volumes/Data/scratch/jamoore/session1/data/cellprofiler/fruit-fly-cells/POS218.pattern/01_POS218_Z00_T00_D.TIF\n",
      "Initialization took 0.38s\n",
      "\n",
      "Reading core metadata\n",
      "filename = /System/Volumes/Data/scratch/jamoore/session1/data/cellprofiler/fruit-fly-cells/POS218.pattern/POS218.pattern\n",
      "TiffDelegateReader initializing /System/Volumes/Data/scratch/jamoore/session1/data/cellprofiler/fruit-fly-cells/POS218.pattern/01_POS218_Z00_T00_D.TIF\n",
      "TiffDelegateReader initializing /System/Volumes/Data/scratch/jamoore/session1/data/cellprofiler/fruit-fly-cells/POS218.pattern/01_POS218_Z00_T00_F.TIF\n",
      "Reading IFDs\n",
      "Populating metadata\n",
      "Checking comment style\n",
      "Populating OME metadata\n",
      "TiffDelegateReader initializing /System/Volumes/Data/scratch/jamoore/session1/data/cellprofiler/fruit-fly-cells/POS218.pattern/01_POS218_Z00_T00_R.TIF\n",
      "Reading IFDs\n",
      "Populating metadata\n",
      "Checking comment style\n",
      "Populating OME metadata\n",
      "Used files:\n",
      "\t/System/Volumes/Data/scratch/jamoore/session1/data/cellprofiler/fruit-fly-cells/POS218.pattern/POS218.pattern\n",
      "\t/System/Volumes/Data/scratch/jamoore/session1/data/cellprofiler/fruit-fly-cells/POS218.pattern/01_POS218_Z00_T00_D.TIF\n",
      "\t/System/Volumes/Data/scratch/jamoore/session1/data/cellprofiler/fruit-fly-cells/POS218.pattern/01_POS218_Z00_T00_F.TIF\n",
      "\t/System/Volumes/Data/scratch/jamoore/session1/data/cellprofiler/fruit-fly-cells/POS218.pattern/01_POS218_Z00_T00_R.TIF\n",
      "Series count = 1\n",
      "TiffDelegateReader initializing /System/Volumes/Data/scratch/jamoore/session1/data/cellprofiler/fruit-fly-cells/POS218.pattern/01_POS218_Z00_T00_D.TIF\n",
      "Reading IFDs\n",
      "Populating metadata\n",
      "Checking comment style\n",
      "Populating OME metadata\n",
      "TiffDelegateReader initializing /System/Volumes/Data/scratch/jamoore/session1/data/cellprofiler/fruit-fly-cells/POS218.pattern/01_POS218_Z00_T00_D.TIF\n",
      "TiffDelegateReader initializing /System/Volumes/Data/scratch/jamoore/session1/data/cellprofiler/fruit-fly-cells/POS218.pattern/01_POS218_Z00_T00_D.TIF\n",
      "TiffDelegateReader initializing /System/Volumes/Data/scratch/jamoore/session1/data/cellprofiler/fruit-fly-cells/POS218.pattern/01_POS218_Z00_T00_D.TIF\n",
      "TiffDelegateReader initializing /System/Volumes/Data/scratch/jamoore/session1/data/cellprofiler/fruit-fly-cells/POS218.pattern/01_POS218_Z00_T00_D.TIF\n",
      "TiffDelegateReader initializing /System/Volumes/Data/scratch/jamoore/session1/data/cellprofiler/fruit-fly-cells/POS218.pattern/01_POS218_Z00_T00_D.TIF\n",
      "Series #0 :\n",
      "\tImage count = 3\n",
      "\tRGB = false (1) \n",
      "\tInterleaved = false\n",
      "\tIndexed = true (false color, 8-bit LUT: 3 x 256)\n",
      "\tWidth = 1000\n",
      "\tHeight = 1006\n",
      "\tSizeZ = 1\n",
      "\tSizeT = 1\n",
      "\tSizeC = 3\n",
      "\tTile size = 1000 x 8\n",
      "\tThumbnail size = 127 x 128\n",
      "\tEndianness = intel (little)\n",
      "\tDimension order = XYCZT (uncertain)\n",
      "\tPixel type = uint8\n",
      "\tValid bits per pixel = 8\n",
      "\tMetadata complete = true\n",
      "\tThumbnail series = false\n",
      "\t-----\n",
      "\tPlane #0 <=> Z 0, C 0, T 0\n",
      "\tPlane #1 <=> Z 0, C 1, T 0\n",
      "\tPlane #2 <=> Z 0, C 2, T 0\n",
      "\n",
      "\n",
      "Reading pixel data (0-2)\n",
      "TiffDelegateReader initializing /System/Volumes/Data/scratch/jamoore/session1/data/cellprofiler/fruit-fly-cells/POS218.pattern/01_POS218_Z00_T00_D.TIF\n",
      "TiffDelegateReader initializing /System/Volumes/Data/scratch/jamoore/session1/data/cellprofiler/fruit-fly-cells/POS218.pattern/01_POS218_Z00_T00_D.TIF\n",
      "TiffDelegateReader initializing /System/Volumes/Data/scratch/jamoore/session1/data/cellprofiler/fruit-fly-cells/POS218.pattern/01_POS218_Z00_T00_D.TIF\n",
      "Reading IFDs\n",
      "Populating metadata\n",
      "Checking comment style\n",
      "Populating OME metadata\n",
      "TiffDelegateReader initializing /System/Volumes/Data/scratch/jamoore/session1/data/cellprofiler/fruit-fly-cells/POS218.pattern/01_POS218_Z00_T00_D.TIF\n",
      "TiffDelegateReader initializing /System/Volumes/Data/scratch/jamoore/session1/data/cellprofiler/fruit-fly-cells/POS218.pattern/01_POS218_Z00_T00_D.TIF\n",
      "TiffDelegateReader initializing /System/Volumes/Data/scratch/jamoore/session1/data/cellprofiler/fruit-fly-cells/POS218.pattern/01_POS218_Z00_T00_D.TIF\n",
      "TiffDelegateReader initializing /System/Volumes/Data/scratch/jamoore/session1/data/cellprofiler/fruit-fly-cells/POS218.pattern/01_POS218_Z00_T00_F.TIF\n",
      "Reading IFDs\n",
      "Populating metadata\n",
      "Checking comment style\n",
      "Populating OME metadata\n",
      "TiffDelegateReader initializing /System/Volumes/Data/scratch/jamoore/session1/data/cellprofiler/fruit-fly-cells/POS218.pattern/01_POS218_Z00_T00_F.TIF\n",
      "TiffDelegateReader initializing /System/Volumes/Data/scratch/jamoore/session1/data/cellprofiler/fruit-fly-cells/POS218.pattern/01_POS218_Z00_T00_D.TIF\n",
      "TiffDelegateReader initializing /System/Volumes/Data/scratch/jamoore/session1/data/cellprofiler/fruit-fly-cells/POS218.pattern/01_POS218_Z00_T00_D.TIF\n",
      "TiffDelegateReader initializing /System/Volumes/Data/scratch/jamoore/session1/data/cellprofiler/fruit-fly-cells/POS218.pattern/01_POS218_Z00_T00_D.TIF\n",
      "TiffDelegateReader initializing /System/Volumes/Data/scratch/jamoore/session1/data/cellprofiler/fruit-fly-cells/POS218.pattern/01_POS218_Z00_T00_D.TIF\n",
      "TiffDelegateReader initializing /System/Volumes/Data/scratch/jamoore/session1/data/cellprofiler/fruit-fly-cells/POS218.pattern/01_POS218_Z00_T00_R.TIF\n",
      "Reading IFDs\n",
      "Populating metadata\n",
      "Checking comment style\n",
      "Populating OME metadata\n",
      "TiffDelegateReader initializing /System/Volumes/Data/scratch/jamoore/session1/data/cellprofiler/fruit-fly-cells/POS218.pattern/01_POS218_Z00_T00_R.TIF\n",
      "TiffDelegateReader initializing /System/Volumes/Data/scratch/jamoore/session1/data/cellprofiler/fruit-fly-cells/POS218.pattern/01_POS218_Z00_T00_D.TIF\n",
      "TiffDelegateReader initializing /System/Volumes/Data/scratch/jamoore/session1/data/cellprofiler/fruit-fly-cells/POS218.pattern/01_POS218_Z00_T00_D.TIF\n",
      "TiffDelegateReader initializing /System/Volumes/Data/scratch/jamoore/session1/data/cellprofiler/fruit-fly-cells/POS218.pattern/01_POS218_Z00_T00_D.TIF\n",
      "TiffDelegateReader initializing /System/Volumes/Data/scratch/jamoore/session1/data/cellprofiler/fruit-fly-cells/POS218.pattern/01_POS218_Z00_T00_D.TIF\n",
      "\tRead 3/3 planes (100%)\n",
      "[done]\n",
      "0.279s elapsed (93.0ms per plane)\n",
      "\n",
      "Launching image viewer\n",
      "Warning: the fonts \"Times\" and \"Times\" are not available for the Java logical font \"Serif\", which may have unexpected appearance or behavior. Re-enable the \"Times\" font to remove this warning.\n",
      "\n",
      "Reading global metadata\n",
      "BitsPerSample: 8\n",
      "Compression: Uncompressed\n",
      "ImageLength: 1006\n",
      "ImageWidth: 1000\n",
      "MetaDataPhotometricInterpretation: Monochrome\n",
      "MetaMorph: no\n",
      "NumberOfChannels: 3\n",
      "Orientation: 1st row - top; 1st column - left\n",
      "PhotometricInterpretation: Palette\n",
      "PlanarConfiguration: Chunky\n",
      "ResolutionUnit: Inch\n",
      "SamplesPerPixel: 1\n",
      "XResolution: 150.0\n",
      "YResolution: 150.0\n",
      "\n",
      "Reading metadata\n"
     ]
    }
   ],
   "source": [
    "showinf data/cellprofiler/fruit-fly-cells/POS218.pattern/POS218.pattern"
   ]
  },
  {
   "cell_type": "code",
   "execution_count": 34,
   "id": "81cce918-9345-4a06-9070-8e361fca1677",
   "metadata": {
    "scrolled": true
   },
   "outputs": [
    {
     "name": "stdout",
     "output_type": "stream",
     "text": [
      "Initializing reader\n",
      "FakeReader initializing a&series=2.fake\n",
      "Initialization took 0.076s\n",
      "\n",
      "Reading core metadata\n",
      "filename = a&series=2.fake\n",
      "Used files = [/System/Volumes/Data/scratch/jamoore/session1/a&series=2.fake]\n",
      "Series count = 2\n",
      "Series #0 :\n",
      "\tImage count = 1\n",
      "\tRGB = false (1) \n",
      "\tInterleaved = false\n",
      "\tIndexed = false (true color)\n",
      "\tWidth = 512\n",
      "\tHeight = 512\n",
      "\tSizeZ = 1\n",
      "\tSizeT = 1\n",
      "\tSizeC = 1\n",
      "\tTile size = 512 x 512\n",
      "\tThumbnail size = 128 x 128\n",
      "\tEndianness = intel (little)\n",
      "\tDimension order = XYZCT (certain)\n",
      "\tPixel type = uint8\n",
      "\tValid bits per pixel = 8\n",
      "\tMetadata complete = true\n",
      "\tThumbnail series = false\n",
      "\t-----\n",
      "\tPlane #0 <=> Z 0, C 0, T 0\n",
      "\n",
      "Series #1 :\n",
      "\tImage count = 1\n",
      "\tRGB = false (1) \n",
      "\tInterleaved = false\n",
      "\tIndexed = false (true color)\n",
      "\tWidth = 512\n",
      "\tHeight = 512\n",
      "\tSizeZ = 1\n",
      "\tSizeT = 1\n",
      "\tSizeC = 1\n",
      "\tTile size = 512 x 512\n",
      "\tThumbnail size = 128 x 128\n",
      "\tEndianness = intel (little)\n",
      "\tDimension order = XYZCT (certain)\n",
      "\tPixel type = uint8\n",
      "\tValid bits per pixel = 8\n",
      "\tMetadata complete = true\n",
      "\tThumbnail series = false\n",
      "\t-----\n",
      "\tPlane #0 <=> Z 0, C 0, T 0\n",
      "\n",
      "\n",
      "Reading global metadata\n",
      "\n",
      "Reading series #0 metadata\n"
     ]
    }
   ],
   "source": [
    "showinf -nopix 'a&series=2.fake'"
   ]
  },
  {
   "cell_type": "markdown",
   "id": "90c393f6-98bf-412f-954f-b354349d5c1b",
   "metadata": {},
   "source": [
    "You can see a graphical explanation of the \"many-to-many\" problem in https://downloads.openmicroscopy.org/presentations/2013/fs-workshop-paris/#/7/1 :\n",
    "\n",
    "<table>\n",
    "    <tr>\n",
    "        <td>\n",
    "            <img src=\"images/many-to-many/one-to-one.png\"/>\n",
    "        </td>\n",
    "    </tr>\n",
    "    <tr>\n",
    "        <td>\n",
    "            <img src=\"images/many-to-many/one-to-many.png\"/>\n",
    "        </td>\n",
    "    </tr>\n",
    "    <tr>\n",
    "        <td>\n",
    "            <img src=\"images/many-to-many/many-to-many.png\"/>\n",
    "        </td>\n",
    "    </tr>\n",
    "</table>\n"
   ]
  },
  {
   "cell_type": "markdown",
   "id": "97256625-31f7-4d88-8faa-12b8d11df986",
   "metadata": {},
   "source": [
    "## Excercise 2:\n",
    "### Use the tools above to find inspect the data you chose, and convert it to OME-TIFF."
   ]
  },
  {
   "cell_type": "code",
   "execution_count": 36,
   "id": "3d2aa171-0191-428a-8dc0-06a5fea0ccb2",
   "metadata": {
    "jp-MarkdownHeadingCollapsed": true
   },
   "outputs": [],
   "source": [
    "## Do something here or on the command-line. If you are having issues, ask."
   ]
  },
  {
   "cell_type": "markdown",
   "id": "c1a3d89a-e7f3-4180-b506-69865c12db9b",
   "metadata": {},
   "source": [
    "## License\n",
    "Copyright (C) 2023 German BioImaging. All Rights Reserved.\n",
    "This program is free software; you can redistribute it and/or modify it\n",
    "under the terms of the GNU General Public License as published by the\n",
    "Free Software Foundation; either version 2 of the License, or\n",
    "(at your option) any later version.\n",
    "This program is distributed in the hope that it will be useful, but\n",
    "WITHOUT ANY WARRANTY; without even the implied warranty of MERCHANTABILITY\n",
    "or FITNESS FOR A PARTICULAR PURPOSE. See the GNU General Public License for\n",
    "more details. You should have received a copy of the GNU General\n",
    "Public License along with this program; if not, write to the\n",
    "Free Software Foundation,\n",
    "Inc., 51 Franklin Street, Fifth Floor, Boston, MA 02110-1301 USA."
   ]
  }
 ],
 "metadata": {
  "kernelspec": {
   "display_name": "Bash",
   "language": "bash",
   "name": "bash"
  },
  "language_info": {
   "codemirror_mode": "shell",
   "file_extension": ".sh",
   "mimetype": "text/x-sh",
   "name": "bash"
  }
 },
 "nbformat": 4,
 "nbformat_minor": 5
}
