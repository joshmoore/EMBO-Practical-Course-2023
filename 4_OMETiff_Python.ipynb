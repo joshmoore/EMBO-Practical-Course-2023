{
 "cells": [
  {
   "cell_type": "markdown",
   "id": "8369f35a-17cc-46ff-b1f0-dc8c5439100c",
   "metadata": {
    "editable": true,
    "slideshow": {
     "slide_type": ""
    },
    "tags": []
   },
   "source": [
    "# EMBO Practical Course <br/>\"Advanced methods in bioimage analysis\"\n",
    "\n",
    "***\n",
    "\n",
    "Homepage: https://www.embl.org/about/info/course-and-conference-office/events/bia23-01/\n",
    "\n",
    "***\n",
    "\n",
    "## Day 2 - Session 1: Image Data Management - 10:15 to 11:15 \"Get set\"\n",
    "\n",
    "<table style=\"table { position: relative;  display: inline-block; } img {  position: absolute;  left: 0;  right: 0;  width: auto;  height: 100%;  object-fit: cover;  object-position: center;}\">\n",
    "    <tr>\n",
    "        <td style=\"vertical-align: top\">\n",
    "            <h3>A look at Python after `3_Bash`</h3>\n",
    "            <p>\n",
    "                Quick introduction to / comparison of:\n",
    "                <ul/>\n",
    "                    <li>scikit-image</li>\n",
    "                    <li>aicsimageio</li>\n",
    "                    <li>tifffile</li>\n",
    "                    <li>and ome-types</li>\n",
    "                </ul>\n",
    "            </p>\n",
    "        </td>\n",
    "        <td>\n",
    "            <center>\n",
    "                <img src=\"images/ome-tiff-support.png\" width=\"40%\"/>\n",
    "            </center>\n",
    "            <center>\n",
    "                <small>\n",
    "                    <a href=\"https://ome-model.readthedocs.io/en/stable/ome-tiff/index.html#support\">https://ome-model.readthedocs.io/en/stable/ome-tiff/index.html#support</a>\n",
    "                </small>\n",
    "            </center>\n",
    "        </td>\n",
    "    </tr>\n",
    "</table>\n",
    "\n"
   ]
  },
  {
   "cell_type": "code",
   "execution_count": 1,
   "id": "c2bb2db9-8423-475d-baec-575c5e3f34ad",
   "metadata": {},
   "outputs": [],
   "source": [
    "%%bash\n",
    "##\n",
    "## Setup & Sanity checks\n",
    "##\n",
    "\n",
    "YOURNAME=$(whoami)\n",
    "WORKDIR=/scratch/${YOURNAME}/session1/\n",
    "test -e ${WORKDIR} || {\n",
    "    echo Please run the first the POSIX notebook first.\n",
    "    exit 1\n",
    "}"
   ]
  },
  {
   "cell_type": "code",
   "execution_count": 2,
   "id": "13b54bbb-865a-4f8a-ba6c-176aece5c55f",
   "metadata": {},
   "outputs": [
    {
     "name": "stdout",
     "output_type": "stream",
     "text": [
      "env: YOURNAME=jamoore\n"
     ]
    }
   ],
   "source": [
    "import os\n",
    "YOURNAME = os.getlogin()\n",
    "%env YOURNAME=$YOURNAME"
   ]
  },
  {
   "cell_type": "code",
   "execution_count": 3,
   "id": "3f3cb95c-e131-4282-965f-6f4d86cdca38",
   "metadata": {},
   "outputs": [
    {
     "name": "stdout",
     "output_type": "stream",
     "text": [
      "/System/Volumes/Data/scratch/jamoore/session1\n"
     ]
    }
   ],
   "source": [
    "%cd /scratch/{YOURNAME}/session1"
   ]
  },
  {
   "cell_type": "markdown",
   "id": "5ef9f593-672a-46f5-bcd9-ccb74aa34848",
   "metadata": {},
   "source": [
    "## scikit-image\n",
    "\n",
    "https://scikit-image.org/, or `skimage`, is a generic library for working with various image formats."
   ]
  },
  {
   "cell_type": "code",
   "execution_count": 4,
   "id": "c65afca4-27bd-41f6-b59a-ce2fc7d9cd88",
   "metadata": {},
   "outputs": [],
   "source": [
    "import skimage as ski\n",
    "image  = ski.io.imread(\"a.ome.tiff\")"
   ]
  },
  {
   "cell_type": "markdown",
   "id": "bc8764bc-151a-46e0-8444-7344f5f65cd6",
   "metadata": {},
   "source": [
    "There's a Carpentry curriculum for learning more: https://datacarpentry.org/image-processing/"
   ]
  },
  {
   "cell_type": "markdown",
   "id": "9e9c3ba5-7939-4b16-afe6-b7ddee3de5c6",
   "metadata": {},
   "source": [
    "## aicsimageio\n",
    "\n",
    "Besides being a mouthful, `aicsimageio` (https://allencellmodeling.github.io/aicsimageio/) is a more domain-specific Python library for accessing data. It wraps Bio-Formats and several libraries fpr microscopy vendor's formats (including CZI & ND2)"
   ]
  },
  {
   "cell_type": "code",
   "execution_count": 5,
   "id": "b9ec37a2-5bd0-42a2-89a7-07bc03a614db",
   "metadata": {},
   "outputs": [],
   "source": [
    "from aicsimageio import AICSImage\n",
    "\n",
    "img = AICSImage(\"a.ome.tiff\") "
   ]
  },
  {
   "cell_type": "markdown",
   "id": "54168963-8d8f-4f5b-9519-38b1a1967f75",
   "metadata": {},
   "source": [
    "## tifffile\n",
    "\n",
    "`tifffile` (https://github.com/cgohlke/tifffile) is _the_ library for working with TIFF data. It knows about more about the little weirdnesses than anything else"
   ]
  },
  {
   "cell_type": "code",
   "execution_count": 6,
   "id": "79ded011-475a-4320-993d-2227b620681c",
   "metadata": {},
   "outputs": [],
   "source": [
    "from tifffile import imread, tiffcomment\n",
    "\n",
    "data = imread(\"a.ome.tiff\")\n",
    "metadata = tiffcomment(\"a.ome.tiff\")"
   ]
  },
  {
   "cell_type": "markdown",
   "id": "6889ad63-667c-4f53-ba2f-54b9d80a4ed1",
   "metadata": {},
   "source": [
    "## ome-types\n",
    "\n",
    "`ome-types` (https://ome-types.readthedocs.io/en/latest/) is the best library in Python for working with the OME-XML that is stored in the OME-TIFF."
   ]
  },
  {
   "cell_type": "code",
   "execution_count": 7,
   "id": "8a8d96dc-e6d3-4e9d-944c-b66160811305",
   "metadata": {},
   "outputs": [
    {
     "name": "stdout",
     "output_type": "stream",
     "text": [
      "id='Image:0' name='a' pixels={'channels': [{'annotation_refs': [], 'light_path': {'excitation_filters': [], 'emission_filters': [], 'annotation_refs': []}, 'id': 'Channel:0:0', 'samples_per_pixel': 1, 'color': Color('white', rgb=(255, 255, 255))}], 'bin_data_blocks': [], 'tiff_data_blocks': [{'uuid': {'value': 'urn:uuid:a4331d69-3db3-419b-a28f-b4c6021bcf87', 'file_name': 'a.ome.tiff'}, 'plane_count': 1}], 'planes': [], 'id': 'Pixels:0', 'dimension_order': <Pixels_DimensionOrder.XYZCT: 'XYZCT'>, 'type': <PixelType.UINT8: 'uint8'>, 'significant_bits': 8, 'interleaved': False, 'big_endian': False, 'size_x': 512, 'size_y': 512, 'size_z': 1, 'size_c': 1, 'size_t': 1}\n"
     ]
    }
   ],
   "source": [
    "from ome_types import from_xml, from_tiff\n",
    "\n",
    "obj = from_xml(metadata)\n",
    "print(obj.images[0])"
   ]
  },
  {
   "cell_type": "code",
   "execution_count": 8,
   "id": "2869cf30-3f91-44ef-8fc3-bdbc45ba242c",
   "metadata": {
    "scrolled": true
   },
   "outputs": [
    {
     "name": "stdout",
     "output_type": "stream",
     "text": [
      "id='Image:0' name='a' pixels={'channels': [{'annotation_refs': [], 'light_path': {'excitation_filters': [], 'emission_filters': [], 'annotation_refs': []}, 'id': 'Channel:0:0', 'samples_per_pixel': 1, 'color': Color('white', rgb=(255, 255, 255))}], 'bin_data_blocks': [], 'tiff_data_blocks': [{'uuid': {'value': 'urn:uuid:a4331d69-3db3-419b-a28f-b4c6021bcf87', 'file_name': 'a.ome.tiff'}, 'plane_count': 1}], 'planes': [], 'id': 'Pixels:0', 'dimension_order': <Pixels_DimensionOrder.XYZCT: 'XYZCT'>, 'type': <PixelType.UINT8: 'uint8'>, 'significant_bits': 8, 'interleaved': False, 'big_endian': False, 'size_x': 512, 'size_y': 512, 'size_z': 1, 'size_c': 1, 'size_t': 1}\n"
     ]
    }
   ],
   "source": [
    "obj = from_tiff(\"a.ome.tiff\")\n",
    "print(obj.images[0])"
   ]
  },
  {
   "cell_type": "markdown",
   "id": "4db4f9ea-8e2b-42d4-a0e5-9216774e9940",
   "metadata": {},
   "source": [
    "## Exercise 3: Play! (Time-permitting)"
   ]
  },
  {
   "cell_type": "markdown",
   "id": "c1a3d89a-e7f3-4180-b506-69865c12db9b",
   "metadata": {
    "jp-MarkdownHeadingCollapsed": true
   },
   "source": [
    "## License\n",
    "Copyright (C) 2023 German BioImaging. All Rights Reserved.\n",
    "This program is free software; you can redistribute it and/or modify it\n",
    "under the terms of the GNU General Public License as published by the\n",
    "Free Software Foundation; either version 2 of the License, or\n",
    "(at your option) any later version.\n",
    "This program is distributed in the hope that it will be useful, but\n",
    "WITHOUT ANY WARRANTY; without even the implied warranty of MERCHANTABILITY\n",
    "or FITNESS FOR A PARTICULAR PURPOSE. See the GNU General Public License for\n",
    "more details. You should have received a copy of the GNU General\n",
    "Public License along with this program; if not, write to the\n",
    "Free Software Foundation,\n",
    "Inc., 51 Franklin Street, Fifth Floor, Boston, MA 02110-1301 USA."
   ]
  }
 ],
 "metadata": {
  "kernelspec": {
   "display_name": "Python 3 (ipykernel)",
   "language": "python",
   "name": "python3"
  },
  "language_info": {
   "codemirror_mode": {
    "name": "ipython",
    "version": 3
   },
   "file_extension": ".py",
   "mimetype": "text/x-python",
   "name": "python",
   "nbconvert_exporter": "python",
   "pygments_lexer": "ipython3",
   "version": "3.9.15"
  }
 },
 "nbformat": 4,
 "nbformat_minor": 5
}
