{
 "cells": [
  {
   "cell_type": "markdown",
   "id": "8369f35a-17cc-46ff-b1f0-dc8c5439100c",
   "metadata": {
    "editable": true,
    "slideshow": {
     "slide_type": ""
    },
    "tags": []
   },
   "source": [
    "# EMBO Practical Course <br/>\"Advanced methods in bioimage analysis\"\n",
    "\n",
    "***\n",
    "\n",
    "Homepage: https://www.embl.org/about/info/course-and-conference-office/events/bia23-01/\n",
    "\n",
    "***\n",
    "\n",
    "## Day 2 - Session 1: Image Data Management - 10:15 to 11:15 \"Get set\"\n",
    "\n",
    "### Continuing from `3_Bash` in Python!...\n",
    "\n",
    "Quick introduction to / comparison of:\n",
    " * scikit-image\n",
    " * aicsimageio\n",
    " * tifffile\n",
    " * and ome-types"
   ]
  },
  {
   "cell_type": "code",
   "execution_count": 9,
   "id": "c65afca4-27bd-41f6-b59a-ce2fc7d9cd88",
   "metadata": {},
   "outputs": [],
   "source": [
    "import skimage as ski\n",
    "image  = ski.io.imread(\"a.ome.tiff\")"
   ]
  },
  {
   "cell_type": "markdown",
   "id": "bc8764bc-151a-46e0-8444-7344f5f65cd6",
   "metadata": {},
   "source": [
    "https://datacarpentry.org/image-processing/"
   ]
  },
  {
   "cell_type": "code",
   "execution_count": 59,
   "id": "b9ec37a2-5bd0-42a2-89a7-07bc03a614db",
   "metadata": {},
   "outputs": [],
   "source": [
    "from aicsimageio import AICSImage\n",
    "\n",
    "img = AICSImage(\"a.ome.tiff\") "
   ]
  },
  {
   "cell_type": "code",
   "execution_count": 1,
   "id": "79ded011-475a-4320-993d-2227b620681c",
   "metadata": {},
   "outputs": [],
   "source": [
    "from tifffile import imread, tiffcomment\n",
    "\n",
    "data = imread(\"a.ome.tiff\")\n",
    "metadata = tiffcomment(\"a.ome.tiff\")"
   ]
  },
  {
   "cell_type": "code",
   "execution_count": 11,
   "id": "8a8d96dc-e6d3-4e9d-944c-b66160811305",
   "metadata": {},
   "outputs": [
    {
     "name": "stdout",
     "output_type": "stream",
     "text": [
      "id='Image:0' name='data/a' pixels={'channels': [{'annotation_refs': [], 'light_path': {'excitation_filters': [], 'emission_filters': [], 'annotation_refs': []}, 'id': 'Channel:0:0', 'samples_per_pixel': 1, 'color': Color('white', rgb=(255, 255, 255))}], 'bin_data_blocks': [], 'tiff_data_blocks': [{'uuid': {'value': 'urn:uuid:d8f35575-5655-4b0e-8885-a952f05ebaeb', 'file_name': 'a.ome.tiff'}, 'plane_count': 1}], 'planes': [], 'id': 'Pixels:0', 'dimension_order': <Pixels_DimensionOrder.XYZCT: 'XYZCT'>, 'type': <PixelType.UINT8: 'uint8'>, 'significant_bits': 8, 'interleaved': False, 'big_endian': False, 'size_x': 512, 'size_y': 512, 'size_z': 1, 'size_c': 1, 'size_t': 1}\n"
     ]
    }
   ],
   "source": [
    "from ome_types import from_xml, from_tiff\n",
    "\n",
    "obj = from_xml(metadata)\n",
    "print(obj.images[0])"
   ]
  },
  {
   "cell_type": "code",
   "execution_count": 12,
   "id": "2869cf30-3f91-44ef-8fc3-bdbc45ba242c",
   "metadata": {
    "scrolled": true
   },
   "outputs": [
    {
     "name": "stdout",
     "output_type": "stream",
     "text": [
      "id='Image:0' name='data/a' pixels={'channels': [{'annotation_refs': [], 'light_path': {'excitation_filters': [], 'emission_filters': [], 'annotation_refs': []}, 'id': 'Channel:0:0', 'samples_per_pixel': 1, 'color': Color('white', rgb=(255, 255, 255))}], 'bin_data_blocks': [], 'tiff_data_blocks': [{'uuid': {'value': 'urn:uuid:d8f35575-5655-4b0e-8885-a952f05ebaeb', 'file_name': 'a.ome.tiff'}, 'plane_count': 1}], 'planes': [], 'id': 'Pixels:0', 'dimension_order': <Pixels_DimensionOrder.XYZCT: 'XYZCT'>, 'type': <PixelType.UINT8: 'uint8'>, 'significant_bits': 8, 'interleaved': False, 'big_endian': False, 'size_x': 512, 'size_y': 512, 'size_z': 1, 'size_c': 1, 'size_t': 1}\n"
     ]
    }
   ],
   "source": [
    "obj = from_tiff(\"a.ome.tiff\")\n",
    "print(obj.images[0])"
   ]
  },
  {
   "cell_type": "markdown",
   "id": "4db4f9ea-8e2b-42d4-a0e5-9216774e9940",
   "metadata": {},
   "source": [
    "## Exercise 3: Play! (Time-permitting)"
   ]
  },
  {
   "cell_type": "markdown",
   "id": "c1a3d89a-e7f3-4180-b506-69865c12db9b",
   "metadata": {
    "jp-MarkdownHeadingCollapsed": true
   },
   "source": [
    "## License\n",
    "Copyright (C) 2023 German BioImaging. All Rights Reserved.\n",
    "This program is free software; you can redistribute it and/or modify it\n",
    "under the terms of the GNU General Public License as published by the\n",
    "Free Software Foundation; either version 2 of the License, or\n",
    "(at your option) any later version.\n",
    "This program is distributed in the hope that it will be useful, but\n",
    "WITHOUT ANY WARRANTY; without even the implied warranty of MERCHANTABILITY\n",
    "or FITNESS FOR A PARTICULAR PURPOSE. See the GNU General Public License for\n",
    "more details. You should have received a copy of the GNU General\n",
    "Public License along with this program; if not, write to the\n",
    "Free Software Foundation,\n",
    "Inc., 51 Franklin Street, Fifth Floor, Boston, MA 02110-1301 USA."
   ]
  }
 ],
 "metadata": {
  "kernelspec": {
   "display_name": "Python 3 (ipykernel)",
   "language": "python",
   "name": "python3"
  },
  "language_info": {
   "codemirror_mode": {
    "name": "ipython",
    "version": 3
   },
   "file_extension": ".py",
   "mimetype": "text/x-python",
   "name": "python",
   "nbconvert_exporter": "python",
   "pygments_lexer": "ipython3",
   "version": "3.9.15"
  }
 },
 "nbformat": 4,
 "nbformat_minor": 5
}
