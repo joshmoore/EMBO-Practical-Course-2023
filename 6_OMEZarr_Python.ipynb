{
 "cells": [
  {
   "cell_type": "markdown",
   "metadata": {
    "slideshow": {
     "slide_type": "slide"
    }
   },
   "source": [
    "# EMBO Practical Course \"Advanced methods in bioimage analysis\"\n",
    "\n",
    "***\n",
    "\n",
    "Homepage: https://www.embl.org/about/info/course-and-conference-office/events/bia23-01/\n",
    "\n",
    "***\n",
    "\n",
    "## Day 2 - Session 1: Image Data Management - 11:30 to 12:30 \"GO!\"\n",
    "\n",
    "### Continuing from `5_Cloud` in Python!...\n",
    "\n",
    "## Software versions used for this workshop: (TODO)\n",
    "\n",
    "   * awscli                    1.22.87\n",
    "   * dask                      2022.4.0\n",
    "   * fsspec                    2022.3.0\n",
    "   * napari                    0.4.15\n",
    "   * numpy                     1.22.3\n",
    "   * ome-zarr                  0.4.0\n",
    "   * openjdk                   11.0.9.1\n",
    "   * tifffile                  2022.3.25\n",
    "   * zarr                      2.11.1\n",
    "   * vizarr                    0.2\n"
   ]
  },
  {
   "cell_type": "code",
   "execution_count": 1,
   "metadata": {},
   "outputs": [],
   "source": [
    "%%bash\n",
    "##\n",
    "## Setup & Sanity checks\n",
    "##\n",
    "\n",
    "YOURNAME=$(whoami)\n",
    "WORKDIR=/scratch/${YOURNAME}/session1/\n",
    "test -e ${WORKDIR} || {\n",
    "    echo Please run the first the POSIX notebook first.\n",
    "    exit 1\n",
    "}"
   ]
  },
  {
   "cell_type": "code",
   "execution_count": 2,
   "metadata": {},
   "outputs": [
    {
     "name": "stdout",
     "output_type": "stream",
     "text": [
      "env: YOURNAME=jamoore\n"
     ]
    }
   ],
   "source": [
    "import os\n",
    "YOURNAME = os.getlogin()\n",
    "%env YOURNAME=$YOURNAME"
   ]
  },
  {
   "cell_type": "code",
   "execution_count": 3,
   "metadata": {
    "scrolled": true
   },
   "outputs": [
    {
     "name": "stdout",
     "output_type": "stream",
     "text": [
      "/System/Volumes/Data/scratch/jamoore/session1\n"
     ]
    }
   ],
   "source": [
    "%cd /scratch/{YOURNAME}/session1"
   ]
  },
  {
   "cell_type": "code",
   "execution_count": 5,
   "metadata": {},
   "outputs": [
    {
     "data": {
      "text/plain": [
       "<zarr.core.Array (1, 1, 1, 512, 512) uint8>"
      ]
     },
     "execution_count": 5,
     "metadata": {},
     "output_type": "execute_result"
    }
   ],
   "source": [
    "import zarr\n",
    "zarr.open(\"a.ome.zarr/0/0\")"
   ]
  },
  {
   "cell_type": "code",
   "execution_count": 7,
   "metadata": {
    "collapsed": true,
    "jupyter": {
     "outputs_hidden": true
    }
   },
   "outputs": [
    {
     "data": {
      "text/html": [
       "<table>\n",
       "    <tr>\n",
       "        <td>\n",
       "            <table style=\"border-collapse: collapse;\">\n",
       "                <thead>\n",
       "                    <tr>\n",
       "                        <td> </td>\n",
       "                        <th> Array </th>\n",
       "                        <th> Chunk </th>\n",
       "                    </tr>\n",
       "                </thead>\n",
       "                <tbody>\n",
       "                    \n",
       "                    <tr>\n",
       "                        <th> Bytes </th>\n",
       "                        <td> 256.00 kiB </td>\n",
       "                        <td> 256.00 kiB </td>\n",
       "                    </tr>\n",
       "                    \n",
       "                    <tr>\n",
       "                        <th> Shape </th>\n",
       "                        <td> (1, 1, 1, 512, 512) </td>\n",
       "                        <td> (1, 1, 1, 512, 512) </td>\n",
       "                    </tr>\n",
       "                    <tr>\n",
       "                        <th> Dask graph </th>\n",
       "                        <td colspan=\"2\"> 1 chunks in 2 graph layers </td>\n",
       "                    </tr>\n",
       "                    <tr>\n",
       "                        <th> Data type </th>\n",
       "                        <td colspan=\"2\"> uint8 numpy.ndarray </td>\n",
       "                    </tr>\n",
       "                </tbody>\n",
       "            </table>\n",
       "        </td>\n",
       "        <td>\n",
       "        <svg width=\"374\" height=\"184\" style=\"stroke:rgb(0,0,0);stroke-width:1\" >\n",
       "\n",
       "  <!-- Horizontal lines -->\n",
       "  <line x1=\"0\" y1=\"0\" x2=\"25\" y2=\"0\" style=\"stroke-width:2\" />\n",
       "  <line x1=\"0\" y1=\"25\" x2=\"25\" y2=\"25\" style=\"stroke-width:2\" />\n",
       "\n",
       "  <!-- Vertical lines -->\n",
       "  <line x1=\"0\" y1=\"0\" x2=\"0\" y2=\"25\" style=\"stroke-width:2\" />\n",
       "  <line x1=\"25\" y1=\"0\" x2=\"25\" y2=\"25\" style=\"stroke-width:2\" />\n",
       "\n",
       "  <!-- Colored Rectangle -->\n",
       "  <polygon points=\"0.0,0.0 25.412616514582485,0.0 25.412616514582485,25.412616514582485 0.0,25.412616514582485\" style=\"fill:#ECB172A0;stroke-width:0\"/>\n",
       "\n",
       "  <!-- Text -->\n",
       "  <text x=\"12.706308\" y=\"45.412617\" font-size=\"1.0rem\" font-weight=\"100\" text-anchor=\"middle\" >1</text>\n",
       "  <text x=\"45.412617\" y=\"12.706308\" font-size=\"1.0rem\" font-weight=\"100\" text-anchor=\"middle\" transform=\"rotate(0,45.412617,12.706308)\">1</text>\n",
       "\n",
       "\n",
       "  <!-- Horizontal lines -->\n",
       "  <line x1=\"95\" y1=\"0\" x2=\"109\" y2=\"14\" style=\"stroke-width:2\" />\n",
       "  <line x1=\"95\" y1=\"120\" x2=\"109\" y2=\"134\" style=\"stroke-width:2\" />\n",
       "\n",
       "  <!-- Vertical lines -->\n",
       "  <line x1=\"95\" y1=\"0\" x2=\"95\" y2=\"120\" style=\"stroke-width:2\" />\n",
       "  <line x1=\"109\" y1=\"14\" x2=\"109\" y2=\"134\" style=\"stroke-width:2\" />\n",
       "\n",
       "  <!-- Colored Rectangle -->\n",
       "  <polygon points=\"95.0,0.0 109.9485979497544,14.948597949754403 109.9485979497544,134.9485979497544 95.0,120.0\" style=\"fill:#ECB172A0;stroke-width:0\"/>\n",
       "\n",
       "  <!-- Horizontal lines -->\n",
       "  <line x1=\"95\" y1=\"0\" x2=\"215\" y2=\"0\" style=\"stroke-width:2\" />\n",
       "  <line x1=\"109\" y1=\"14\" x2=\"229\" y2=\"14\" style=\"stroke-width:2\" />\n",
       "\n",
       "  <!-- Vertical lines -->\n",
       "  <line x1=\"95\" y1=\"0\" x2=\"109\" y2=\"14\" style=\"stroke-width:2\" />\n",
       "  <line x1=\"215\" y1=\"0\" x2=\"229\" y2=\"14\" style=\"stroke-width:2\" />\n",
       "\n",
       "  <!-- Colored Rectangle -->\n",
       "  <polygon points=\"95.0,0.0 215.0,0.0 229.9485979497544,14.948597949754403 109.9485979497544,14.948597949754403\" style=\"fill:#ECB172A0;stroke-width:0\"/>\n",
       "\n",
       "  <!-- Horizontal lines -->\n",
       "  <line x1=\"109\" y1=\"14\" x2=\"229\" y2=\"14\" style=\"stroke-width:2\" />\n",
       "  <line x1=\"109\" y1=\"134\" x2=\"229\" y2=\"134\" style=\"stroke-width:2\" />\n",
       "\n",
       "  <!-- Vertical lines -->\n",
       "  <line x1=\"109\" y1=\"14\" x2=\"109\" y2=\"134\" style=\"stroke-width:2\" />\n",
       "  <line x1=\"229\" y1=\"14\" x2=\"229\" y2=\"134\" style=\"stroke-width:2\" />\n",
       "\n",
       "  <!-- Colored Rectangle -->\n",
       "  <polygon points=\"109.9485979497544,14.948597949754403 229.9485979497544,14.948597949754403 229.9485979497544,134.9485979497544 109.9485979497544,134.9485979497544\" style=\"fill:#ECB172A0;stroke-width:0\"/>\n",
       "\n",
       "  <!-- Text -->\n",
       "  <text x=\"169.948598\" y=\"154.948598\" font-size=\"1.0rem\" font-weight=\"100\" text-anchor=\"middle\" >512</text>\n",
       "  <text x=\"249.948598\" y=\"74.948598\" font-size=\"1.0rem\" font-weight=\"100\" text-anchor=\"middle\" transform=\"rotate(-90,249.948598,74.948598)\">512</text>\n",
       "  <text x=\"92.474299\" y=\"147.474299\" font-size=\"1.0rem\" font-weight=\"100\" text-anchor=\"middle\" transform=\"rotate(45,92.474299,147.474299)\">1</text>\n",
       "</svg>\n",
       "        </td>\n",
       "    </tr>\n",
       "</table>"
      ],
      "text/plain": [
       "dask.array<from-zarr, shape=(1, 1, 1, 512, 512), dtype=uint8, chunksize=(1, 1, 1, 512, 512), chunktype=numpy.ndarray>"
      ]
     },
     "execution_count": 7,
     "metadata": {},
     "output_type": "execute_result"
    }
   ],
   "source": [
    "import dask.array as da\n",
    "da.from_zarr(\"a.ome.zarr/0/0\")"
   ]
  },
  {
   "cell_type": "code",
   "execution_count": 16,
   "metadata": {},
   "outputs": [
    {
     "name": "stdout",
     "output_type": "stream",
     "text": [
      "[dask.array<from-zarr, shape=(1, 1, 1, 512, 512), dtype=uint8, chunksize=(1, 1, 1, 512, 512), chunktype=numpy.ndarray>, dask.array<from-zarr, shape=(1, 1, 1, 256, 256), dtype=uint8, chunksize=(1, 1, 1, 256, 256), chunktype=numpy.ndarray>]\n"
     ]
    }
   ],
   "source": [
    "import ome_zarr\n",
    "import ome_zarr.io\n",
    "import ome_zarr.reader\n",
    "\n",
    "url = ome_zarr.io.parse_url(\"a.ome.zarr/0\")\n",
    "reader = ome_zarr.reader.Reader(url)\n",
    "for node in reader():\n",
    "    print(node.data)"
   ]
  },
  {
   "cell_type": "markdown",
   "metadata": {
    "collapsed": true,
    "jupyter": {
     "outputs_hidden": true
    }
   },
   "source": [
    "## License\n",
    "Copyright (C) 2023 German BioImaging. All Rights Reserved.\n",
    "This program is free software; you can redistribute it and/or modify it\n",
    "under the terms of the GNU General Public License as published by the\n",
    "Free Software Foundation; either version 2 of the License, or\n",
    "(at your option) any later version.\n",
    "This program is distributed in the hope that it will be useful, but\n",
    "WITHOUT ANY WARRANTY; without even the implied warranty of MERCHANTABILITY\n",
    "or FITNESS FOR A PARTICULAR PURPOSE. See the GNU General Public License for\n",
    "more details. You should have received a copy of the GNU General\n",
    "Public License along with this program; if not, write to the\n",
    "Free Software Foundation,\n",
    "Inc., 51 Franklin Street, Fifth Floor, Boston, MA 02110-1301 USA."
   ]
  },
  {
   "cell_type": "markdown",
   "metadata": {},
   "source": [
    "The metadata in a Zarr fileset is stored in (hidden) files starting with \".z\"."
   ]
  },
  {
   "cell_type": "code",
   "execution_count": 4,
   "metadata": {
    "scrolled": true
   },
   "outputs": [
    {
     "name": "stdout",
     "output_type": "stream",
     "text": [
      "mri.ome.zarr/.zattrs\r\n",
      "mri.ome.zarr/.zgroup\r\n",
      "mri.ome.zarr/s0/.zarray\r\n",
      "mri.ome.zarr/s0/.zattrs\r\n"
     ]
    }
   ],
   "source": [
    "!find mri.ome.zarr -name \".z*\""
   ]
  },
  {
   "cell_type": "markdown",
   "metadata": {},
   "source": [
    "These are broken up into groups (folders) or arrays (data). The `.zgroup` files are fairly simple:"
   ]
  },
  {
   "cell_type": "code",
   "execution_count": 5,
   "metadata": {},
   "outputs": [
    {
     "data": {
      "text/plain": [
       "{'zarr_format': 2}"
      ]
     },
     "execution_count": 5,
     "metadata": {},
     "output_type": "execute_result"
    }
   ],
   "source": [
    "# %load mri.ome.zarr/.zgroup\n",
    "{\n",
    "  \"zarr_format\": 2\n",
    "}"
   ]
  },
  {
   "cell_type": "markdown",
   "metadata": {},
   "source": [
    "Each `.zattrs` file contains user-supplied metadata. OME-Zarrs use these attributes to describe how an n-dimensional Zarr array should be interpreted as an image."
   ]
  },
  {
   "cell_type": "code",
   "execution_count": 6,
   "metadata": {},
   "outputs": [
    {
     "data": {
      "text/plain": [
       "{'multiscales': [{'axes': [{'name': 'z',\n",
       "     'type': 'space',\n",
       "     'unit': 'millimeter'},\n",
       "    {'name': 'y', 'type': 'space', 'unit': 'millimeter'},\n",
       "    {'name': 'x', 'type': 'space', 'unit': 'millimeter'}],\n",
       "   'datasets': [{'path': 's0',\n",
       "     'coordinateTransformations': [{'type': 'scale',\n",
       "       'scale': [7.0, 1.0, 1.0]}]}],\n",
       "   'name': 'mri',\n",
       "   'type': 'Average',\n",
       "   'version': '0.4'}]}"
      ]
     },
     "execution_count": 6,
     "metadata": {},
     "output_type": "execute_result"
    }
   ],
   "source": [
    "# %load mri.ome.zarr/.zattrs\n",
    "{\n",
    "  \"multiscales\": [\n",
    "    {\n",
    "      \"axes\": [\n",
    "        {\n",
    "          \"name\": \"z\",\n",
    "          \"type\": \"space\",\n",
    "          \"unit\": \"millimeter\"\n",
    "        },\n",
    "        {\n",
    "          \"name\": \"y\",\n",
    "          \"type\": \"space\",\n",
    "          \"unit\": \"millimeter\"\n",
    "        },\n",
    "        {\n",
    "          \"name\": \"x\",\n",
    "          \"type\": \"space\",\n",
    "          \"unit\": \"millimeter\"\n",
    "        }\n",
    "      ],\n",
    "      \"datasets\": [\n",
    "        {\n",
    "          \"path\": \"s0\",\n",
    "          \"coordinateTransformations\": [\n",
    "            {\n",
    "              \"type\": \"scale\",\n",
    "              \"scale\": [\n",
    "                7.0,\n",
    "                1.0,\n",
    "                1.0\n",
    "              ]\n",
    "            }\n",
    "          ]\n",
    "        }\n",
    "      ],\n",
    "      \"name\": \"mri\",\n",
    "      \"type\": \"Average\",\n",
    "      \"version\": \"0.4\"\n",
    "    }\n",
    "  ]\n",
    "}"
   ]
  },
  {
   "cell_type": "markdown",
   "metadata": {},
   "source": [
    "The `.zattrs` for each array can be fairly simple:"
   ]
  },
  {
   "cell_type": "code",
   "execution_count": 7,
   "metadata": {},
   "outputs": [
    {
     "data": {
      "text/plain": [
       "{'_ARRAY_DIMENSIONS': ['z', 'y', 'x']}"
      ]
     },
     "execution_count": 7,
     "metadata": {},
     "output_type": "execute_result"
    }
   ],
   "source": [
    "# %load mri.ome.zarr/s0/.zattrs\n",
    "{\n",
    "  \"_ARRAY_DIMENSIONS\": [\n",
    "    \"z\",\n",
    "    \"y\",\n",
    "    \"x\"\n",
    "  ]\n",
    "}"
   ]
  },
  {
   "cell_type": "markdown",
   "metadata": {},
   "source": [
    "The `.zarray` files specify details about storage like compression and array dimensions:"
   ]
  },
  {
   "cell_type": "code",
   "execution_count": 8,
   "metadata": {},
   "outputs": [
    {
     "data": {
      "text/plain": [
       "{'shape': [27, 226, 186],\n",
       " 'chunks': [16, 128, 128],\n",
       " 'fill_value': '0',\n",
       " 'dtype': '|u1',\n",
       " 'filters': [],\n",
       " 'dimension_separator': '/',\n",
       " 'zarr_format': 2,\n",
       " 'compressor': {'id': 'gzip', 'level': -1},\n",
       " 'order': 'C'}"
      ]
     },
     "execution_count": 8,
     "metadata": {},
     "output_type": "execute_result"
    }
   ],
   "source": [
    "# %load mri.ome.zarr/s0/.zarray\n",
    "{\n",
    "  \"shape\": [\n",
    "    27,\n",
    "    226,\n",
    "    186\n",
    "  ],\n",
    "  \"chunks\": [\n",
    "    16,\n",
    "    128,\n",
    "    128\n",
    "  ],\n",
    "  \"fill_value\": \"0\",\n",
    "  \"dtype\": \"|u1\",\n",
    "  \"filters\": [],\n",
    "  \"dimension_separator\": \"/\",\n",
    "  \"zarr_format\": 2,\n",
    "  \"compressor\": {\n",
    "    \"id\": \"gzip\",\n",
    "    \"level\": -1\n",
    "  },\n",
    "  \"order\": \"C\"\n",
    "}"
   ]
  },
  {
   "cell_type": "markdown",
   "metadata": {},
   "source": [
    "All the other files in the tree are **\"chunks\"**, pieces of an array that have been written to separate files:"
   ]
  },
  {
   "cell_type": "code",
   "execution_count": 9,
   "metadata": {},
   "outputs": [
    {
     "name": "stdout",
     "output_type": "stream",
     "text": [
      "\u001b[01;34mmri.ome.zarr\u001b[00m\r\n",
      "└── \u001b[01;34ms0\u001b[00m\r\n",
      "    ├── \u001b[01;34m0\u001b[00m\r\n",
      "    │   ├── \u001b[01;34m0\u001b[00m\r\n",
      "    │   │   ├── 0\r\n",
      "    │   │   └── 1\r\n",
      "    │   └── \u001b[01;34m1\u001b[00m\r\n",
      "    │       ├── 0\r\n",
      "    │       └── 1\r\n",
      "    └── \u001b[01;34m1\u001b[00m\r\n",
      "        ├── \u001b[01;34m0\u001b[00m\r\n",
      "        │   ├── 0\r\n",
      "        │   └── 1\r\n",
      "        └── \u001b[01;34m1\u001b[00m\r\n",
      "            ├── 0\r\n",
      "            └── 1\r\n",
      "\r\n",
      "7 directories, 8 files\r\n"
     ]
    }
   ],
   "source": [
    "!tree mri.ome.zarr"
   ]
  },
  {
   "cell_type": "markdown",
   "metadata": {},
   "source": [
    "The levels of this hierarchy can be interpreted as:\n",
    "```\n",
    "mri.ome.zarr\n",
    "└── resolution-level\n",
    "    └── z-chunk-index\n",
    "        └── y-chunk-index\n",
    "            └── x-chunk-index\n",
    "```"
   ]
  },
  {
   "cell_type": "code",
   "execution_count": 31,
   "metadata": {},
   "outputs": [
    {
     "name": "stdout",
     "output_type": "stream",
     "text": [
      "-rw-r--r--  1 jamoore  wheel   148K Apr  5 22:39 mri.ome.zarr/s0/0/0/0\r\n"
     ]
    }
   ],
   "source": [
    "!ls -ltrah mri.ome.zarr/s0/0/0/0"
   ]
  },
  {
   "cell_type": "code",
   "execution_count": 32,
   "metadata": {},
   "outputs": [
    {
     "name": "stdout",
     "output_type": "stream",
     "text": [
      "\u001b[31m\u001b[1mMissing required parameters: '<inputPath>', '<outputLocation>'\u001b[21m\u001b[39m\u001b[0m\n",
      "Usage: \u001b[1m<main class>\u001b[21m\u001b[0m [\u001b[33m-p\u001b[39m\u001b[0m] [\u001b[33m--no-hcs\u001b[39m\u001b[0m] [\u001b[33m--[no-]nested\u001b[39m\u001b[0m] [\u001b[33m--no-ome-meta-export\u001b[39m\u001b[0m]\n",
      "                    [\u001b[33m--no-root-group\u001b[39m\u001b[0m] [\u001b[33m--overwrite\u001b[39m\u001b[0m]\n",
      "                    [\u001b[33m--use-existing-resolutions\u001b[39m\u001b[0m] [\u001b[33m--version\u001b[39m\u001b[0m] [\u001b[33m--debug\u001b[39m\u001b[0m\n",
      "                    [=\u001b[3m<logLevel>\u001b[23m\u001b[0m]] [\u001b[33m--extra-readers\u001b[39m\u001b[0m[=\u001b[3m<extraReaders>\u001b[23m\u001b[0m[,\n",
      "                    \u001b[3m<extraReaders>\u001b[23m\u001b[0m...]]]... [\u001b[33m--options\u001b[39m\u001b[0m[=\u001b[3m<readerOptions>\u001b[23m\u001b[0m[,\n",
      "                    \u001b[3m<readerOptions>\u001b[23m\u001b[0m...]]]... [\u001b[33m-s\u001b[39m\u001b[0m[=\u001b[3m<seriesList>\u001b[23m\u001b[0m[,\n",
      "                    \u001b[3m<seriesList>\u001b[23m\u001b[0m...]]]...\n",
      "                    [\u001b[33m--additional-scale-format-string-args\u001b[39m\u001b[0m=\u001b[3m<additionalScaleForma\u001b[23m\u001b[0m\n",
      "\u001b[3m                    tStringArgsCsv>\u001b[23m\u001b[0m] [\u001b[33m-c\u001b[39m\u001b[0m=\u001b[3m<compressionType>\u001b[23m\u001b[0m]\n",
      "                    [\u001b[33m--dimension-order\u001b[39m\u001b[0m=\u001b[3m<dimensionOrder>\u001b[23m\u001b[0m]\n",
      "                    [\u001b[33m--downsample-type\u001b[39m\u001b[0m=\u001b[3m<downsampling>\u001b[23m\u001b[0m]\n",
      "                    [\u001b[33m--fill-value\u001b[39m\u001b[0m=\u001b[3m<fillValue>\u001b[23m\u001b[0m] [\u001b[33m-h\u001b[39m\u001b[0m=\u001b[3m<tileHeight>\u001b[23m\u001b[0m]\n",
      "                    [\u001b[33m--max_cached_tiles\u001b[39m\u001b[0m=\u001b[3m<maxCachedTiles>\u001b[23m\u001b[0m]\n",
      "                    [\u001b[33m--max_workers\u001b[39m\u001b[0m=\u001b[3m<maxWorkers>\u001b[23m\u001b[0m]\n",
      "                    [\u001b[33m--memo-directory\u001b[39m\u001b[0m=\u001b[3m<memoDirectory>\u001b[23m\u001b[0m]\n",
      "                    [\u001b[33m--pixel-type\u001b[39m\u001b[0m=\u001b[3m<outputPixelType>\u001b[23m\u001b[0m]\n",
      "                    [\u001b[33m--pyramid-name\u001b[39m\u001b[0m=\u001b[3m<pyramidName>\u001b[23m\u001b[0m] [\u001b[33m-r\u001b[39m\u001b[0m=\u001b[3m<pyramidResolutions>\u001b[23m\u001b[0m]\n",
      "                    [\u001b[33m--scale-format-string\u001b[39m\u001b[0m=\u001b[3m<scaleFormatString>\u001b[23m\u001b[0m]\n",
      "                    [\u001b[33m--target-min-size\u001b[39m\u001b[0m=\u001b[3m<minSize>\u001b[23m\u001b[0m] [\u001b[33m-w\u001b[39m\u001b[0m=\u001b[3m<tileWidth>\u001b[23m\u001b[0m]\n",
      "                    [\u001b[33m-z\u001b[39m\u001b[0m=\u001b[3m<chunkDepth>\u001b[23m\u001b[0m]\n",
      "                    [\u001b[33m--compression-properties\u001b[39m\u001b[0m=\u001b[3m<String=Object>\u001b[23m\u001b[0m]...\n",
      "                    [\u001b[33m--output-options\u001b[39m\u001b[0m=\u001b[3m<String=String>\u001b[23m\u001b[0m[\\|\u001b[3m<String=String>\u001b[23m\u001b[0m...]]...\n",
      "                    \u001b[33m<inputPath>\u001b[39m\u001b[0m \u001b[33m<outputLocation>\u001b[39m\u001b[0m\n",
      "\u001b[33m \u001b[39m\u001b[0m     \u001b[33m<inputPath>\u001b[39m\u001b[0m            file to convert\n",
      "\u001b[33m \u001b[39m\u001b[0m     \u001b[33m<outputLocation>\u001b[39m\u001b[0m       path to the output pyramid directory. The given\n",
      "                               path can also be a URI (containing ://) which\n",
      "                               will activate **experimental** support for\n",
      "                               Filesystems. For example, if the output path\n",
      "                               given is 's3://my-bucket/some-path' *and* you\n",
      "                               have an S3FileSystem implementation in your\n",
      "                               classpath, then all files will be written to S3.\n",
      "      \u001b[33m--additional-scale-for\u001b[39m\u001b[0m\u001b[33mmat-string-args\u001b[39m\u001b[0m=\u001b[3m<additionalScaleFormatStringArgsCsv>\u001b[23m\u001b[0m\n",
      "                             Additional format string argument CSV file\n",
      "                               (without header row).  Arguments will be added\n",
      "                               to the end of the scale format string mapping\n",
      "                               the at the corresponding CSV row index.  It is\n",
      "                               expected that the CSV file contain exactly the\n",
      "                               same number of rows as the input file has series\n",
      "  \u001b[33m-c\u001b[39m\u001b[0m, \u001b[33m--compression\u001b[39m\u001b[0m=\u001b[3m<compres\u001b[23m\u001b[0m\u001b[3msionType>\u001b[23m\u001b[0m\n",
      "                             Compression type for Zarr (null, zlib, blosc;\n",
      "                               default: blosc)\n",
      "      \u001b[33m--compression-properti\u001b[39m\u001b[0m\u001b[33mes\u001b[39m\u001b[0m=\u001b[3m<String=Object>\u001b[23m\u001b[0m\n",
      "                             Properties for the chosen compression (see https:\n",
      "                               //jzarr.readthedocs.io/en/latest/tutorial.\n",
      "                               html#compressors )\n",
      "      \u001b[33m--debug, --log-level\u001b[39m\u001b[0m[=\u001b[3m<logLevel>\u001b[23m\u001b[0m]\n",
      "                             Change logging level; valid values are OFF, ERROR,\n",
      "                               WARN, INFO, DEBUG, TRACE and ALL. (default: WARN)\n",
      "      \u001b[33m--dimension-order\u001b[39m\u001b[0m=\u001b[3m<dim\u001b[23m\u001b[0m\u001b[3mensionOrder>\u001b[23m\u001b[0m\n",
      "                             Override the input file dimension order in the\n",
      "                               output file [Can break compatibility with\n",
      "                               raw2ometiff] (XYZCT, XYZTC, XYCTZ, XYCZT, XYTCZ,\n",
      "                               XYTZC)\n",
      "      \u001b[33m--downsample-type\u001b[39m\u001b[0m=\u001b[3m<dow\u001b[23m\u001b[0m\u001b[3mnsampling>\u001b[23m\u001b[0m\n",
      "                             Tile downsampling algorithm (SIMPLE, GAUSSIAN,\n",
      "                               AREA, LINEAR, CUBIC, LANCZOS)\n",
      "      \u001b[33m--extra-readers\u001b[39m\u001b[0m[=\u001b[3m<extr\u001b[23m\u001b[0m\u001b[3maReaders>\u001b[23m\u001b[0m[,\u001b[3m<extraReaders>\u001b[23m\u001b[0m...]]\n",
      "                             Separate set of readers to include; (default:\n",
      "                               [class com.glencoesoftware.bioformats2raw.\n",
      "                               PyramidTiffReader, class com.glencoesoftware.\n",
      "                               bioformats2raw.MiraxReader, class com.\n",
      "                               glencoesoftware.bioformats2raw.BioTekReader])\n",
      "      \u001b[33m--fill-value\u001b[39m\u001b[0m=\u001b[3m<fillValu\u001b[23m\u001b[0m\u001b[3me>\u001b[23m\u001b[0m\n",
      "                             Default value to fill in for missing tiles (0-255)\n",
      "                               (currently .mrxs only)\n",
      "  \u001b[33m-h\u001b[39m\u001b[0m, \u001b[33m--tile_height\u001b[39m\u001b[0m=\u001b[3m<tileHei\u001b[23m\u001b[0m\u001b[3mght>\u001b[23m\u001b[0m\n",
      "                             Maximum tile height to read (default: 1024)\n",
      "      \u001b[33m--max_cached_tiles\u001b[39m\u001b[0m=\u001b[3m<ma\u001b[23m\u001b[0m\u001b[3mxCachedTiles>\u001b[23m\u001b[0m\n",
      "                             Maximum number of tiles that will be cached across\n",
      "                               all workers (default: 64)\n",
      "      \u001b[33m--max_workers\u001b[39m\u001b[0m=\u001b[3m<maxWork\u001b[23m\u001b[0m\u001b[3mers>\u001b[23m\u001b[0m\n",
      "                             Maximum number of workers (default: 4)\n",
      "      \u001b[33m--memo-directory\u001b[39m\u001b[0m=\u001b[3m<memo\u001b[23m\u001b[0m\u001b[3mDirectory>\u001b[23m\u001b[0m\n",
      "                             Directory used to store .bfmemo cache files\n",
      "      \u001b[33m--no-hcs\u001b[39m\u001b[0m               Turn off HCS writing\n",
      "      \u001b[33m--[no-]nested\u001b[39m\u001b[0m          Whether to use '/' as the chunk path seprator\n",
      "                               (true by default)\n",
      "      \u001b[33m--no-ome-meta-export\u001b[39m\u001b[0m   Turn off OME metadata exporting [Will break\n",
      "                               compatibility with raw2ometiff]\n",
      "      \u001b[33m--no-root-group\u001b[39m\u001b[0m        Turn off creation of root group and corresponding\n",
      "                               metadata [Will break compatibility with\n",
      "                               raw2ometiff]\n",
      "      \u001b[33m--options\u001b[39m\u001b[0m[=\u001b[3m<readerOpti\u001b[23m\u001b[0m\u001b[3mons>\u001b[23m\u001b[0m[,\u001b[3m<readerOptions>\u001b[23m\u001b[0m...]]\n",
      "                             Reader-specific options, in format key=value[,\n",
      "                               key2=value2]\n",
      "      \u001b[33m--output-options\u001b[39m\u001b[0m=\u001b[3m<Stri\u001b[23m\u001b[0m\u001b[3mng=String>\u001b[23m\u001b[0m[\\|\u001b[3m<String=String>\u001b[23m\u001b[0m...]\n",
      "                             |-separated list of key-value pairs to be used as\n",
      "                               an additional argument to Filesystem\n",
      "                               implementations if used. For example,\n",
      "                               --output-options=s3fs_path_style_access=true|...\n",
      "                               might be useful for connecting to minio.\n",
      "      \u001b[33m--overwrite\u001b[39m\u001b[0m            Overwrite the output directory if it exists\n",
      "      \u001b[33m--pixel-type\u001b[39m\u001b[0m=\u001b[3m<outputPi\u001b[23m\u001b[0m\u001b[3mxelType>\u001b[23m\u001b[0m\n",
      "                             Pixel type to write if input data is  float or\n",
      "                               double (int8, int16, int32, uint8, uint16,\n",
      "                               uint32, float, double, complex, double-complex,\n",
      "                               bit)\n",
      "      \u001b[33m--pyramid-name\u001b[39m\u001b[0m=\u001b[3m<pyrami\u001b[23m\u001b[0m\u001b[3mdName>\u001b[23m\u001b[0m\n",
      "                             Name of pyramid (default: null) [Can break\n",
      "                               compatibility with raw2ometiff]\n",
      "  \u001b[33m-r\u001b[39m\u001b[0m, \u001b[33m--resolutions\u001b[39m\u001b[0m=\u001b[3m<pyramid\u001b[23m\u001b[0m\u001b[3mResolutions>\u001b[23m\u001b[0m\n",
      "                             Number of pyramid resolutions to generate\n",
      "  \u001b[33m-s\u001b[39m\u001b[0m, \u001b[33m--series\u001b[39m\u001b[0m[=\u001b[3m<seriesList>\u001b[23m\u001b[0m[,\u001b[3m<seriesList>\u001b[23m\u001b[0m...]]\n",
      "                             Comma-separated list of series indexes to convert\n",
      "      \u001b[33m--scale-format-string\u001b[39m\u001b[0m=\u001b[3m<scaleFormatString>\u001b[23m\u001b[0m\n",
      "                             Format string for scale paths; the first two\n",
      "                               arguments will always be series and resolution\n",
      "                               followed by any additional arguments brought in\n",
      "                               from `--additional-scale-format-string-args`\n",
      "                               [Can break compatibility with raw2ometiff]\n",
      "                               (default: %d/%d)\n",
      "      \u001b[33m--target-min-size\u001b[39m\u001b[0m=\u001b[3m<min\u001b[23m\u001b[0m\u001b[3mSize>\u001b[23m\u001b[0m\n",
      "                             Specifies the desired size for the largest XY\n",
      "                               dimension of the smallest resolution, when\n",
      "                               calculating the number of resolutions generate.\n",
      "                               If the target size cannot be matched exactly,\n",
      "                               the largest XY dimension of the smallest\n",
      "                               resolution should be smaller than the target\n",
      "                               size.\n",
      "      \u001b[33m--use-existing-resolut\u001b[39m\u001b[0m\u001b[33mions\u001b[39m\u001b[0m\n",
      "                             Use existing sub resolutions from original input\n",
      "                               format[Will break compatibility with raw2ometiff]\n",
      "  \u001b[33m-w\u001b[39m\u001b[0m, \u001b[33m--tile_width\u001b[39m\u001b[0m=\u001b[3m<tileWidt\u001b[23m\u001b[0m\u001b[3mh>\u001b[23m\u001b[0m\n",
      "                             Maximum tile width to read (default: 1024)\n",
      "  \u001b[33m-z\u001b[39m\u001b[0m, \u001b[33m--chunk_depth\u001b[39m\u001b[0m=\u001b[3m<chunkDe\u001b[23m\u001b[0m\u001b[3mpth>\u001b[23m\u001b[0m\n",
      "                             Maximum chunk depth to read (default: 1)\n",
      "  \u001b[33m-p\u001b[39m\u001b[0m, \u001b[33m--progress\u001b[39m\u001b[0m             Print progress bars during conversion\n",
      "      \u001b[33m--version\u001b[39m\u001b[0m              Print version information and exit\n"
     ]
    }
   ],
   "source": [
    "!bioformats2raw"
   ]
  },
  {
   "cell_type": "code",
   "execution_count": 33,
   "metadata": {},
   "outputs": [],
   "source": [
    "import os, shutil\n",
    "if os.path.exists(\"/tmp/trans_norm_out\"):\n",
    "    shutil.rmtree(\"/tmp/trans_norm_out\")"
   ]
  },
  {
   "cell_type": "code",
   "execution_count": 34,
   "metadata": {},
   "outputs": [
    {
     "name": "stdout",
     "output_type": "stream",
     "text": [
      "WARNING: An illegal reflective access operation has occurred\n",
      "WARNING: Illegal reflective access by com.esotericsoftware.kryo.util.UnsafeUtil (file:/usr/local/anaconda3/envs/gbi2022/share/bioformats2raw-0.4.0-0/lib/kryo-4.0.2.jar) to constructor java.nio.DirectByteBuffer(long,int,java.lang.Object)\n",
      "WARNING: Please consider reporting this to the maintainers of com.esotericsoftware.kryo.util.UnsafeUtil\n",
      "WARNING: Use --illegal-access=warn to enable warnings of further illegal reflective access operations\n",
      "WARNING: All illegal access operations will be denied in a future release\n",
      "[0/0]   0% \u001b[33m│                                 │\u001b[0m   0/571 (0:00:00 / ?) \n",
      "CPU times: user 278 ms, sys: 122 ms, total: 401 ms571/571 (0:00:01 / 0:00:00) \u001b[1B\n",
      "Wall time: 10.4 s\n"
     ]
    }
   ],
   "source": [
    "%%time\n",
    "!bioformats2raw --debug=OFF --progress 1885619/trans_norm.tif /tmp/trans_norm_out"
   ]
  },
  {
   "cell_type": "code",
   "execution_count": 35,
   "metadata": {
    "scrolled": true
   },
   "outputs": [
    {
     "name": "stdout",
     "output_type": "stream",
     "text": [
      "\u001b[1m\u001b[36m0\u001b[m\u001b[m   \u001b[1m\u001b[36mOME\u001b[m\u001b[m\r\n"
     ]
    }
   ],
   "source": [
    "!ls /tmp/trans_norm_out"
   ]
  },
  {
   "cell_type": "code",
   "execution_count": 15,
   "metadata": {},
   "outputs": [
    {
     "name": "stdout",
     "output_type": "stream",
     "text": [
      "/tmp/trans_norm_out/.zattrs\r\n",
      "/tmp/trans_norm_out/.zgroup\r\n",
      "/tmp/trans_norm_out/0/.zattrs\r\n",
      "/tmp/trans_norm_out/0/.zgroup\r\n",
      "/tmp/trans_norm_out/0/0/.zarray\r\n"
     ]
    }
   ],
   "source": [
    "!find /tmp/trans_norm_out -name \".z*\""
   ]
  },
  {
   "cell_type": "code",
   "execution_count": 36,
   "metadata": {
    "scrolled": true
   },
   "outputs": [
    {
     "name": "stdout",
     "output_type": "stream",
     "text": [
      "/private/tmp/trans_norm_out/0 [zgroup]\r\n",
      " - metadata\r\n",
      "   - Multiscales\r\n",
      " - data\r\n",
      "   - (1, 1, 571, 30, 30)\r\n"
     ]
    }
   ],
   "source": [
    "!ome_zarr -q info /tmp/trans_norm_out/0"
   ]
  },
  {
   "cell_type": "markdown",
   "metadata": {},
   "source": [
    "## Take homes\n",
    "\n",
    "<br/>\n",
    "<big><big>\n",
    "    <ol>\n",
    "        <li>\n",
    "The simplicity & transparency of Zarr files makes them ideal for exploration & the cloud. \n",
    "        </li>\n",
    "         <br/>\n",
    "        <li>\n",
    "The primary downside is that working with many small files can introduce bottlenecks for uploading (& even deleting).\n",
    "        </li>\n",
    "        <br/>\n",
    "        <li>\n",
    "Working with S3 is very different from a file system, fewer (GUI) tools exist, and each S3 implementation may be slightly different.\n",
    "        </li>\n",
    "        <br/>\n",
    "        <li>\n",
    "The benefits in sharing potential (and in some cases cost-savings) can be significant, especially if there's an enabled ecosystem that works for you.\n",
    "        </li>\n",
    "    </ol>\n",
    "</big></big>"
   ]
  },
  {
   "cell_type": "markdown",
   "metadata": {
    "collapsed": true,
    "jupyter": {
     "outputs_hidden": true
    }
   },
   "source": [
    "## License\n",
    "Copyright (C) 2023 German BioImaging. All Rights Reserved.\n",
    "This program is free software; you can redistribute it and/or modify it\n",
    "under the terms of the GNU General Public License as published by the\n",
    "Free Software Foundation; either version 2 of the License, or\n",
    "(at your option) any later version.\n",
    "This program is distributed in the hope that it will be useful, but\n",
    "WITHOUT ANY WARRANTY; without even the implied warranty of MERCHANTABILITY\n",
    "or FITNESS FOR A PARTICULAR PURPOSE. See the GNU General Public License for\n",
    "more details. You should have received a copy of the GNU General\n",
    "Public License along with this program; if not, write to the\n",
    "Free Software Foundation,\n",
    "Inc., 51 Franklin Street, Fifth Floor, Boston, MA 02110-1301 USA."
   ]
  }
 ],
 "metadata": {
  "anaconda-cloud": {},
  "kernelspec": {
   "display_name": "Python 3 (ipykernel)",
   "language": "python",
   "name": "python3"
  },
  "language_info": {
   "codemirror_mode": {
    "name": "ipython",
    "version": 3
   },
   "file_extension": ".py",
   "mimetype": "text/x-python",
   "name": "python",
   "nbconvert_exporter": "python",
   "pygments_lexer": "ipython3",
   "version": "3.9.15"
  },
  "toc": {
   "base_numbering": 1,
   "nav_menu": {},
   "number_sections": false,
   "sideBar": false,
   "skip_h1_title": false,
   "title_cell": "Table of Contents",
   "title_sidebar": "Contents",
   "toc_cell": false,
   "toc_position": {},
   "toc_section_display": false,
   "toc_window_display": false
  }
 },
 "nbformat": 4,
 "nbformat_minor": 4
}
