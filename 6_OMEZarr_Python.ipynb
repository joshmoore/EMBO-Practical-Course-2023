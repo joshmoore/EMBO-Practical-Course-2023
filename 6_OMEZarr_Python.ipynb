{
 "cells": [
  {
   "cell_type": "markdown",
   "metadata": {
    "slideshow": {
     "slide_type": "slide"
    }
   },
   "source": [
    "# EMBO Practical Course \"Advanced methods in bioimage analysis\"\n",
    "\n",
    "***\n",
    "\n",
    "Homepage: https://www.embl.org/about/info/course-and-conference-office/events/bia23-01/\n",
    "\n",
    "***\n",
    "\n",
    "## Day 2 - Session 1: Image Data Management - 11:30 to 12:30 \"GO!\"\n",
    "\n",
    "### Continuing from `5_Cloud` in Python!...\n",
    "\n",
    "## Software versions used for this workshop: (TODO)\n",
    "\n",
    "   * awscli                    1.22.87\n",
    "   * dask                      2022.4.0\n",
    "   * fsspec                    2022.3.0\n",
    "   * napari                    0.4.15\n",
    "   * numpy                     1.22.3\n",
    "   * ome-zarr                  0.4.0\n",
    "   * openjdk                   11.0.9.1\n",
    "   * tifffile                  2022.3.25\n",
    "   * zarr                      2.11.1\n",
    "   * vizarr                    0.2\n"
   ]
  },
  {
   "cell_type": "code",
   "execution_count": 6,
   "metadata": {},
   "outputs": [],
   "source": [
    "%%bash\n",
    "##\n",
    "## Setup & Sanity checks\n",
    "##\n",
    "\n",
    "YOURNAME=$(whoami)\n",
    "WORKDIR=/scratch/${YOURNAME}/session1/\n",
    "test -e ${WORKDIR} || {\n",
    "    echo Please run the first the POSIX notebook first.\n",
    "    exit 1\n",
    "}"
   ]
  },
  {
   "cell_type": "code",
   "execution_count": 7,
   "metadata": {},
   "outputs": [
    {
     "name": "stdout",
     "output_type": "stream",
     "text": [
      "env: YOURNAME=jamoore\n"
     ]
    }
   ],
   "source": [
    "import os\n",
    "YOURNAME = os.getlogin()\n",
    "%env YOURNAME=$YOURNAME"
   ]
  },
  {
   "cell_type": "code",
   "execution_count": 8,
   "metadata": {
    "scrolled": true
   },
   "outputs": [
    {
     "name": "stdout",
     "output_type": "stream",
     "text": [
      "/System/Volumes/Data/scratch/jamoore/session1\n"
     ]
    }
   ],
   "source": [
    "%cd /scratch/{YOURNAME}/session1"
   ]
  },
  {
   "cell_type": "markdown",
   "metadata": {
    "collapsed": true,
    "jupyter": {
     "outputs_hidden": true
    }
   },
   "source": [
    "## License\n",
    "Copyright (C) 2023 German BioImaging. All Rights Reserved.\n",
    "This program is free software; you can redistribute it and/or modify it\n",
    "under the terms of the GNU General Public License as published by the\n",
    "Free Software Foundation; either version 2 of the License, or\n",
    "(at your option) any later version.\n",
    "This program is distributed in the hope that it will be useful, but\n",
    "WITHOUT ANY WARRANTY; without even the implied warranty of MERCHANTABILITY\n",
    "or FITNESS FOR A PARTICULAR PURPOSE. See the GNU General Public License for\n",
    "more details. You should have received a copy of the GNU General\n",
    "Public License along with this program; if not, write to the\n",
    "Free Software Foundation,\n",
    "Inc., 51 Franklin Street, Fifth Floor, Boston, MA 02110-1301 USA."
   ]
  },
  {
   "cell_type": "markdown",
   "metadata": {},
   "source": [
    "## 2. Looking into an OME-Zarr\n",
    "\n",
    "mri.ome.zarr exported from ImageJ with the following macro:\n",
    "\n",
    "```%java\n",
    "run(\"MRI Stack\");\n",
    "Stack.setXUnit(\"mm\"); // same unit for Y and Z\n",
    "run(\"Properties...\", \"channels=1 slices=27 frames=1 pixel_width=1 pixel_height=1 voxel_depth=7\");\n",
    "run(\"Export Current Image To OME-ZARR...\", \"imagename=mri savedirectory=/tmp downsamplingmethod=Average usedefaults=true\");\n",
    "run(\"Open OME ZARR From File System...\", \"directory=/tmp/mri.ome.zarr\");\n",
    "```\n",
    "<img src=\"mri.png\" style=\"height:300px\" />\n"
   ]
  },
  {
   "cell_type": "markdown",
   "metadata": {},
   "source": [
    "The metadata in a Zarr fileset is stored in (hidden) files starting with \".z\"."
   ]
  },
  {
   "cell_type": "code",
   "execution_count": 4,
   "metadata": {
    "scrolled": true
   },
   "outputs": [
    {
     "name": "stdout",
     "output_type": "stream",
     "text": [
      "mri.ome.zarr/.zattrs\r\n",
      "mri.ome.zarr/.zgroup\r\n",
      "mri.ome.zarr/s0/.zarray\r\n",
      "mri.ome.zarr/s0/.zattrs\r\n"
     ]
    }
   ],
   "source": [
    "!find mri.ome.zarr -name \".z*\""
   ]
  },
  {
   "cell_type": "markdown",
   "metadata": {},
   "source": [
    "These are broken up into groups (folders) or arrays (data). The `.zgroup` files are fairly simple:"
   ]
  },
  {
   "cell_type": "code",
   "execution_count": 5,
   "metadata": {},
   "outputs": [
    {
     "data": {
      "text/plain": [
       "{'zarr_format': 2}"
      ]
     },
     "execution_count": 5,
     "metadata": {},
     "output_type": "execute_result"
    }
   ],
   "source": [
    "# %load mri.ome.zarr/.zgroup\n",
    "{\n",
    "  \"zarr_format\": 2\n",
    "}"
   ]
  },
  {
   "cell_type": "markdown",
   "metadata": {},
   "source": [
    "Each `.zattrs` file contains user-supplied metadata. OME-Zarrs use these attributes to describe how an n-dimensional Zarr array should be interpreted as an image."
   ]
  },
  {
   "cell_type": "code",
   "execution_count": 6,
   "metadata": {},
   "outputs": [
    {
     "data": {
      "text/plain": [
       "{'multiscales': [{'axes': [{'name': 'z',\n",
       "     'type': 'space',\n",
       "     'unit': 'millimeter'},\n",
       "    {'name': 'y', 'type': 'space', 'unit': 'millimeter'},\n",
       "    {'name': 'x', 'type': 'space', 'unit': 'millimeter'}],\n",
       "   'datasets': [{'path': 's0',\n",
       "     'coordinateTransformations': [{'type': 'scale',\n",
       "       'scale': [7.0, 1.0, 1.0]}]}],\n",
       "   'name': 'mri',\n",
       "   'type': 'Average',\n",
       "   'version': '0.4'}]}"
      ]
     },
     "execution_count": 6,
     "metadata": {},
     "output_type": "execute_result"
    }
   ],
   "source": [
    "# %load mri.ome.zarr/.zattrs\n",
    "{\n",
    "  \"multiscales\": [\n",
    "    {\n",
    "      \"axes\": [\n",
    "        {\n",
    "          \"name\": \"z\",\n",
    "          \"type\": \"space\",\n",
    "          \"unit\": \"millimeter\"\n",
    "        },\n",
    "        {\n",
    "          \"name\": \"y\",\n",
    "          \"type\": \"space\",\n",
    "          \"unit\": \"millimeter\"\n",
    "        },\n",
    "        {\n",
    "          \"name\": \"x\",\n",
    "          \"type\": \"space\",\n",
    "          \"unit\": \"millimeter\"\n",
    "        }\n",
    "      ],\n",
    "      \"datasets\": [\n",
    "        {\n",
    "          \"path\": \"s0\",\n",
    "          \"coordinateTransformations\": [\n",
    "            {\n",
    "              \"type\": \"scale\",\n",
    "              \"scale\": [\n",
    "                7.0,\n",
    "                1.0,\n",
    "                1.0\n",
    "              ]\n",
    "            }\n",
    "          ]\n",
    "        }\n",
    "      ],\n",
    "      \"name\": \"mri\",\n",
    "      \"type\": \"Average\",\n",
    "      \"version\": \"0.4\"\n",
    "    }\n",
    "  ]\n",
    "}"
   ]
  },
  {
   "cell_type": "markdown",
   "metadata": {},
   "source": [
    "The `.zattrs` for each array can be fairly simple:"
   ]
  },
  {
   "cell_type": "code",
   "execution_count": 7,
   "metadata": {},
   "outputs": [
    {
     "data": {
      "text/plain": [
       "{'_ARRAY_DIMENSIONS': ['z', 'y', 'x']}"
      ]
     },
     "execution_count": 7,
     "metadata": {},
     "output_type": "execute_result"
    }
   ],
   "source": [
    "# %load mri.ome.zarr/s0/.zattrs\n",
    "{\n",
    "  \"_ARRAY_DIMENSIONS\": [\n",
    "    \"z\",\n",
    "    \"y\",\n",
    "    \"x\"\n",
    "  ]\n",
    "}"
   ]
  },
  {
   "cell_type": "markdown",
   "metadata": {},
   "source": [
    "The `.zarray` files specify details about storage like compression and array dimensions:"
   ]
  },
  {
   "cell_type": "code",
   "execution_count": 8,
   "metadata": {},
   "outputs": [
    {
     "data": {
      "text/plain": [
       "{'shape': [27, 226, 186],\n",
       " 'chunks': [16, 128, 128],\n",
       " 'fill_value': '0',\n",
       " 'dtype': '|u1',\n",
       " 'filters': [],\n",
       " 'dimension_separator': '/',\n",
       " 'zarr_format': 2,\n",
       " 'compressor': {'id': 'gzip', 'level': -1},\n",
       " 'order': 'C'}"
      ]
     },
     "execution_count": 8,
     "metadata": {},
     "output_type": "execute_result"
    }
   ],
   "source": [
    "# %load mri.ome.zarr/s0/.zarray\n",
    "{\n",
    "  \"shape\": [\n",
    "    27,\n",
    "    226,\n",
    "    186\n",
    "  ],\n",
    "  \"chunks\": [\n",
    "    16,\n",
    "    128,\n",
    "    128\n",
    "  ],\n",
    "  \"fill_value\": \"0\",\n",
    "  \"dtype\": \"|u1\",\n",
    "  \"filters\": [],\n",
    "  \"dimension_separator\": \"/\",\n",
    "  \"zarr_format\": 2,\n",
    "  \"compressor\": {\n",
    "    \"id\": \"gzip\",\n",
    "    \"level\": -1\n",
    "  },\n",
    "  \"order\": \"C\"\n",
    "}"
   ]
  },
  {
   "cell_type": "markdown",
   "metadata": {},
   "source": [
    "All the other files in the tree are **\"chunks\"**, pieces of an array that have been written to separate files:"
   ]
  },
  {
   "cell_type": "code",
   "execution_count": 9,
   "metadata": {},
   "outputs": [
    {
     "name": "stdout",
     "output_type": "stream",
     "text": [
      "\u001b[01;34mmri.ome.zarr\u001b[00m\r\n",
      "└── \u001b[01;34ms0\u001b[00m\r\n",
      "    ├── \u001b[01;34m0\u001b[00m\r\n",
      "    │   ├── \u001b[01;34m0\u001b[00m\r\n",
      "    │   │   ├── 0\r\n",
      "    │   │   └── 1\r\n",
      "    │   └── \u001b[01;34m1\u001b[00m\r\n",
      "    │       ├── 0\r\n",
      "    │       └── 1\r\n",
      "    └── \u001b[01;34m1\u001b[00m\r\n",
      "        ├── \u001b[01;34m0\u001b[00m\r\n",
      "        │   ├── 0\r\n",
      "        │   └── 1\r\n",
      "        └── \u001b[01;34m1\u001b[00m\r\n",
      "            ├── 0\r\n",
      "            └── 1\r\n",
      "\r\n",
      "7 directories, 8 files\r\n"
     ]
    }
   ],
   "source": [
    "!tree mri.ome.zarr"
   ]
  },
  {
   "cell_type": "markdown",
   "metadata": {},
   "source": [
    "The levels of this hierarchy can be interpreted as:\n",
    "```\n",
    "mri.ome.zarr\n",
    "└── resolution-level\n",
    "    └── z-chunk-index\n",
    "        └── y-chunk-index\n",
    "            └── x-chunk-index\n",
    "```"
   ]
  },
  {
   "cell_type": "code",
   "execution_count": 31,
   "metadata": {},
   "outputs": [
    {
     "name": "stdout",
     "output_type": "stream",
     "text": [
      "-rw-r--r--  1 jamoore  wheel   148K Apr  5 22:39 mri.ome.zarr/s0/0/0/0\r\n"
     ]
    }
   ],
   "source": [
    "!ls -ltrah mri.ome.zarr/s0/0/0/0"
   ]
  },
  {
   "cell_type": "markdown",
   "metadata": {},
   "source": [
    "***\n",
    "\n",
    "## 3 Converting your data to OME-NGFF\n",
    "\n",
    "The two basic commands are `bioformats2raw` and `raw2ometiff`. Together they provide a pipeline to scalably convert large images into OME-TIFF. The primary caveat is that they require **twice** the storage for the conversion.\n",
    "\n",
    "\n",
    "### 3.1 Conversion tools\n",
    "\n",
    "https://forum.image.sc/t/converting-whole-slide-images-to-ome-tiff-a-new-workflow/32110/4\n",
    "\n",
    "<img src=\"images/blog-2019-12-converting-whole-slide-images.jpg\" style=\"height:200px\" />\n",
    "\n"
   ]
  },
  {
   "cell_type": "code",
   "execution_count": 32,
   "metadata": {},
   "outputs": [
    {
     "name": "stdout",
     "output_type": "stream",
     "text": [
      "\u001b[31m\u001b[1mMissing required parameters: '<inputPath>', '<outputLocation>'\u001b[21m\u001b[39m\u001b[0m\n",
      "Usage: \u001b[1m<main class>\u001b[21m\u001b[0m [\u001b[33m-p\u001b[39m\u001b[0m] [\u001b[33m--no-hcs\u001b[39m\u001b[0m] [\u001b[33m--[no-]nested\u001b[39m\u001b[0m] [\u001b[33m--no-ome-meta-export\u001b[39m\u001b[0m]\n",
      "                    [\u001b[33m--no-root-group\u001b[39m\u001b[0m] [\u001b[33m--overwrite\u001b[39m\u001b[0m]\n",
      "                    [\u001b[33m--use-existing-resolutions\u001b[39m\u001b[0m] [\u001b[33m--version\u001b[39m\u001b[0m] [\u001b[33m--debug\u001b[39m\u001b[0m\n",
      "                    [=\u001b[3m<logLevel>\u001b[23m\u001b[0m]] [\u001b[33m--extra-readers\u001b[39m\u001b[0m[=\u001b[3m<extraReaders>\u001b[23m\u001b[0m[,\n",
      "                    \u001b[3m<extraReaders>\u001b[23m\u001b[0m...]]]... [\u001b[33m--options\u001b[39m\u001b[0m[=\u001b[3m<readerOptions>\u001b[23m\u001b[0m[,\n",
      "                    \u001b[3m<readerOptions>\u001b[23m\u001b[0m...]]]... [\u001b[33m-s\u001b[39m\u001b[0m[=\u001b[3m<seriesList>\u001b[23m\u001b[0m[,\n",
      "                    \u001b[3m<seriesList>\u001b[23m\u001b[0m...]]]...\n",
      "                    [\u001b[33m--additional-scale-format-string-args\u001b[39m\u001b[0m=\u001b[3m<additionalScaleForma\u001b[23m\u001b[0m\n",
      "\u001b[3m                    tStringArgsCsv>\u001b[23m\u001b[0m] [\u001b[33m-c\u001b[39m\u001b[0m=\u001b[3m<compressionType>\u001b[23m\u001b[0m]\n",
      "                    [\u001b[33m--dimension-order\u001b[39m\u001b[0m=\u001b[3m<dimensionOrder>\u001b[23m\u001b[0m]\n",
      "                    [\u001b[33m--downsample-type\u001b[39m\u001b[0m=\u001b[3m<downsampling>\u001b[23m\u001b[0m]\n",
      "                    [\u001b[33m--fill-value\u001b[39m\u001b[0m=\u001b[3m<fillValue>\u001b[23m\u001b[0m] [\u001b[33m-h\u001b[39m\u001b[0m=\u001b[3m<tileHeight>\u001b[23m\u001b[0m]\n",
      "                    [\u001b[33m--max_cached_tiles\u001b[39m\u001b[0m=\u001b[3m<maxCachedTiles>\u001b[23m\u001b[0m]\n",
      "                    [\u001b[33m--max_workers\u001b[39m\u001b[0m=\u001b[3m<maxWorkers>\u001b[23m\u001b[0m]\n",
      "                    [\u001b[33m--memo-directory\u001b[39m\u001b[0m=\u001b[3m<memoDirectory>\u001b[23m\u001b[0m]\n",
      "                    [\u001b[33m--pixel-type\u001b[39m\u001b[0m=\u001b[3m<outputPixelType>\u001b[23m\u001b[0m]\n",
      "                    [\u001b[33m--pyramid-name\u001b[39m\u001b[0m=\u001b[3m<pyramidName>\u001b[23m\u001b[0m] [\u001b[33m-r\u001b[39m\u001b[0m=\u001b[3m<pyramidResolutions>\u001b[23m\u001b[0m]\n",
      "                    [\u001b[33m--scale-format-string\u001b[39m\u001b[0m=\u001b[3m<scaleFormatString>\u001b[23m\u001b[0m]\n",
      "                    [\u001b[33m--target-min-size\u001b[39m\u001b[0m=\u001b[3m<minSize>\u001b[23m\u001b[0m] [\u001b[33m-w\u001b[39m\u001b[0m=\u001b[3m<tileWidth>\u001b[23m\u001b[0m]\n",
      "                    [\u001b[33m-z\u001b[39m\u001b[0m=\u001b[3m<chunkDepth>\u001b[23m\u001b[0m]\n",
      "                    [\u001b[33m--compression-properties\u001b[39m\u001b[0m=\u001b[3m<String=Object>\u001b[23m\u001b[0m]...\n",
      "                    [\u001b[33m--output-options\u001b[39m\u001b[0m=\u001b[3m<String=String>\u001b[23m\u001b[0m[\\|\u001b[3m<String=String>\u001b[23m\u001b[0m...]]...\n",
      "                    \u001b[33m<inputPath>\u001b[39m\u001b[0m \u001b[33m<outputLocation>\u001b[39m\u001b[0m\n",
      "\u001b[33m \u001b[39m\u001b[0m     \u001b[33m<inputPath>\u001b[39m\u001b[0m            file to convert\n",
      "\u001b[33m \u001b[39m\u001b[0m     \u001b[33m<outputLocation>\u001b[39m\u001b[0m       path to the output pyramid directory. The given\n",
      "                               path can also be a URI (containing ://) which\n",
      "                               will activate **experimental** support for\n",
      "                               Filesystems. For example, if the output path\n",
      "                               given is 's3://my-bucket/some-path' *and* you\n",
      "                               have an S3FileSystem implementation in your\n",
      "                               classpath, then all files will be written to S3.\n",
      "      \u001b[33m--additional-scale-for\u001b[39m\u001b[0m\u001b[33mmat-string-args\u001b[39m\u001b[0m=\u001b[3m<additionalScaleFormatStringArgsCsv>\u001b[23m\u001b[0m\n",
      "                             Additional format string argument CSV file\n",
      "                               (without header row).  Arguments will be added\n",
      "                               to the end of the scale format string mapping\n",
      "                               the at the corresponding CSV row index.  It is\n",
      "                               expected that the CSV file contain exactly the\n",
      "                               same number of rows as the input file has series\n",
      "  \u001b[33m-c\u001b[39m\u001b[0m, \u001b[33m--compression\u001b[39m\u001b[0m=\u001b[3m<compres\u001b[23m\u001b[0m\u001b[3msionType>\u001b[23m\u001b[0m\n",
      "                             Compression type for Zarr (null, zlib, blosc;\n",
      "                               default: blosc)\n",
      "      \u001b[33m--compression-properti\u001b[39m\u001b[0m\u001b[33mes\u001b[39m\u001b[0m=\u001b[3m<String=Object>\u001b[23m\u001b[0m\n",
      "                             Properties for the chosen compression (see https:\n",
      "                               //jzarr.readthedocs.io/en/latest/tutorial.\n",
      "                               html#compressors )\n",
      "      \u001b[33m--debug, --log-level\u001b[39m\u001b[0m[=\u001b[3m<logLevel>\u001b[23m\u001b[0m]\n",
      "                             Change logging level; valid values are OFF, ERROR,\n",
      "                               WARN, INFO, DEBUG, TRACE and ALL. (default: WARN)\n",
      "      \u001b[33m--dimension-order\u001b[39m\u001b[0m=\u001b[3m<dim\u001b[23m\u001b[0m\u001b[3mensionOrder>\u001b[23m\u001b[0m\n",
      "                             Override the input file dimension order in the\n",
      "                               output file [Can break compatibility with\n",
      "                               raw2ometiff] (XYZCT, XYZTC, XYCTZ, XYCZT, XYTCZ,\n",
      "                               XYTZC)\n",
      "      \u001b[33m--downsample-type\u001b[39m\u001b[0m=\u001b[3m<dow\u001b[23m\u001b[0m\u001b[3mnsampling>\u001b[23m\u001b[0m\n",
      "                             Tile downsampling algorithm (SIMPLE, GAUSSIAN,\n",
      "                               AREA, LINEAR, CUBIC, LANCZOS)\n",
      "      \u001b[33m--extra-readers\u001b[39m\u001b[0m[=\u001b[3m<extr\u001b[23m\u001b[0m\u001b[3maReaders>\u001b[23m\u001b[0m[,\u001b[3m<extraReaders>\u001b[23m\u001b[0m...]]\n",
      "                             Separate set of readers to include; (default:\n",
      "                               [class com.glencoesoftware.bioformats2raw.\n",
      "                               PyramidTiffReader, class com.glencoesoftware.\n",
      "                               bioformats2raw.MiraxReader, class com.\n",
      "                               glencoesoftware.bioformats2raw.BioTekReader])\n",
      "      \u001b[33m--fill-value\u001b[39m\u001b[0m=\u001b[3m<fillValu\u001b[23m\u001b[0m\u001b[3me>\u001b[23m\u001b[0m\n",
      "                             Default value to fill in for missing tiles (0-255)\n",
      "                               (currently .mrxs only)\n",
      "  \u001b[33m-h\u001b[39m\u001b[0m, \u001b[33m--tile_height\u001b[39m\u001b[0m=\u001b[3m<tileHei\u001b[23m\u001b[0m\u001b[3mght>\u001b[23m\u001b[0m\n",
      "                             Maximum tile height to read (default: 1024)\n",
      "      \u001b[33m--max_cached_tiles\u001b[39m\u001b[0m=\u001b[3m<ma\u001b[23m\u001b[0m\u001b[3mxCachedTiles>\u001b[23m\u001b[0m\n",
      "                             Maximum number of tiles that will be cached across\n",
      "                               all workers (default: 64)\n",
      "      \u001b[33m--max_workers\u001b[39m\u001b[0m=\u001b[3m<maxWork\u001b[23m\u001b[0m\u001b[3mers>\u001b[23m\u001b[0m\n",
      "                             Maximum number of workers (default: 4)\n",
      "      \u001b[33m--memo-directory\u001b[39m\u001b[0m=\u001b[3m<memo\u001b[23m\u001b[0m\u001b[3mDirectory>\u001b[23m\u001b[0m\n",
      "                             Directory used to store .bfmemo cache files\n",
      "      \u001b[33m--no-hcs\u001b[39m\u001b[0m               Turn off HCS writing\n",
      "      \u001b[33m--[no-]nested\u001b[39m\u001b[0m          Whether to use '/' as the chunk path seprator\n",
      "                               (true by default)\n",
      "      \u001b[33m--no-ome-meta-export\u001b[39m\u001b[0m   Turn off OME metadata exporting [Will break\n",
      "                               compatibility with raw2ometiff]\n",
      "      \u001b[33m--no-root-group\u001b[39m\u001b[0m        Turn off creation of root group and corresponding\n",
      "                               metadata [Will break compatibility with\n",
      "                               raw2ometiff]\n",
      "      \u001b[33m--options\u001b[39m\u001b[0m[=\u001b[3m<readerOpti\u001b[23m\u001b[0m\u001b[3mons>\u001b[23m\u001b[0m[,\u001b[3m<readerOptions>\u001b[23m\u001b[0m...]]\n",
      "                             Reader-specific options, in format key=value[,\n",
      "                               key2=value2]\n",
      "      \u001b[33m--output-options\u001b[39m\u001b[0m=\u001b[3m<Stri\u001b[23m\u001b[0m\u001b[3mng=String>\u001b[23m\u001b[0m[\\|\u001b[3m<String=String>\u001b[23m\u001b[0m...]\n",
      "                             |-separated list of key-value pairs to be used as\n",
      "                               an additional argument to Filesystem\n",
      "                               implementations if used. For example,\n",
      "                               --output-options=s3fs_path_style_access=true|...\n",
      "                               might be useful for connecting to minio.\n",
      "      \u001b[33m--overwrite\u001b[39m\u001b[0m            Overwrite the output directory if it exists\n",
      "      \u001b[33m--pixel-type\u001b[39m\u001b[0m=\u001b[3m<outputPi\u001b[23m\u001b[0m\u001b[3mxelType>\u001b[23m\u001b[0m\n",
      "                             Pixel type to write if input data is  float or\n",
      "                               double (int8, int16, int32, uint8, uint16,\n",
      "                               uint32, float, double, complex, double-complex,\n",
      "                               bit)\n",
      "      \u001b[33m--pyramid-name\u001b[39m\u001b[0m=\u001b[3m<pyrami\u001b[23m\u001b[0m\u001b[3mdName>\u001b[23m\u001b[0m\n",
      "                             Name of pyramid (default: null) [Can break\n",
      "                               compatibility with raw2ometiff]\n",
      "  \u001b[33m-r\u001b[39m\u001b[0m, \u001b[33m--resolutions\u001b[39m\u001b[0m=\u001b[3m<pyramid\u001b[23m\u001b[0m\u001b[3mResolutions>\u001b[23m\u001b[0m\n",
      "                             Number of pyramid resolutions to generate\n",
      "  \u001b[33m-s\u001b[39m\u001b[0m, \u001b[33m--series\u001b[39m\u001b[0m[=\u001b[3m<seriesList>\u001b[23m\u001b[0m[,\u001b[3m<seriesList>\u001b[23m\u001b[0m...]]\n",
      "                             Comma-separated list of series indexes to convert\n",
      "      \u001b[33m--scale-format-string\u001b[39m\u001b[0m=\u001b[3m<scaleFormatString>\u001b[23m\u001b[0m\n",
      "                             Format string for scale paths; the first two\n",
      "                               arguments will always be series and resolution\n",
      "                               followed by any additional arguments brought in\n",
      "                               from `--additional-scale-format-string-args`\n",
      "                               [Can break compatibility with raw2ometiff]\n",
      "                               (default: %d/%d)\n",
      "      \u001b[33m--target-min-size\u001b[39m\u001b[0m=\u001b[3m<min\u001b[23m\u001b[0m\u001b[3mSize>\u001b[23m\u001b[0m\n",
      "                             Specifies the desired size for the largest XY\n",
      "                               dimension of the smallest resolution, when\n",
      "                               calculating the number of resolutions generate.\n",
      "                               If the target size cannot be matched exactly,\n",
      "                               the largest XY dimension of the smallest\n",
      "                               resolution should be smaller than the target\n",
      "                               size.\n",
      "      \u001b[33m--use-existing-resolut\u001b[39m\u001b[0m\u001b[33mions\u001b[39m\u001b[0m\n",
      "                             Use existing sub resolutions from original input\n",
      "                               format[Will break compatibility with raw2ometiff]\n",
      "  \u001b[33m-w\u001b[39m\u001b[0m, \u001b[33m--tile_width\u001b[39m\u001b[0m=\u001b[3m<tileWidt\u001b[23m\u001b[0m\u001b[3mh>\u001b[23m\u001b[0m\n",
      "                             Maximum tile width to read (default: 1024)\n",
      "  \u001b[33m-z\u001b[39m\u001b[0m, \u001b[33m--chunk_depth\u001b[39m\u001b[0m=\u001b[3m<chunkDe\u001b[23m\u001b[0m\u001b[3mpth>\u001b[23m\u001b[0m\n",
      "                             Maximum chunk depth to read (default: 1)\n",
      "  \u001b[33m-p\u001b[39m\u001b[0m, \u001b[33m--progress\u001b[39m\u001b[0m             Print progress bars during conversion\n",
      "      \u001b[33m--version\u001b[39m\u001b[0m              Print version information and exit\n"
     ]
    }
   ],
   "source": [
    "!bioformats2raw"
   ]
  },
  {
   "cell_type": "code",
   "execution_count": 33,
   "metadata": {},
   "outputs": [],
   "source": [
    "import os, shutil\n",
    "if os.path.exists(\"/tmp/trans_norm_out\"):\n",
    "    shutil.rmtree(\"/tmp/trans_norm_out\")"
   ]
  },
  {
   "cell_type": "code",
   "execution_count": 34,
   "metadata": {},
   "outputs": [
    {
     "name": "stdout",
     "output_type": "stream",
     "text": [
      "WARNING: An illegal reflective access operation has occurred\n",
      "WARNING: Illegal reflective access by com.esotericsoftware.kryo.util.UnsafeUtil (file:/usr/local/anaconda3/envs/gbi2022/share/bioformats2raw-0.4.0-0/lib/kryo-4.0.2.jar) to constructor java.nio.DirectByteBuffer(long,int,java.lang.Object)\n",
      "WARNING: Please consider reporting this to the maintainers of com.esotericsoftware.kryo.util.UnsafeUtil\n",
      "WARNING: Use --illegal-access=warn to enable warnings of further illegal reflective access operations\n",
      "WARNING: All illegal access operations will be denied in a future release\n",
      "[0/0]   0% \u001b[33m│                                 │\u001b[0m   0/571 (0:00:00 / ?) \n",
      "CPU times: user 278 ms, sys: 122 ms, total: 401 ms571/571 (0:00:01 / 0:00:00) \u001b[1B\n",
      "Wall time: 10.4 s\n"
     ]
    }
   ],
   "source": [
    "%%time\n",
    "!bioformats2raw --debug=OFF --progress 1885619/trans_norm.tif /tmp/trans_norm_out"
   ]
  },
  {
   "cell_type": "code",
   "execution_count": 35,
   "metadata": {
    "scrolled": true
   },
   "outputs": [
    {
     "name": "stdout",
     "output_type": "stream",
     "text": [
      "\u001b[1m\u001b[36m0\u001b[m\u001b[m   \u001b[1m\u001b[36mOME\u001b[m\u001b[m\r\n"
     ]
    }
   ],
   "source": [
    "!ls /tmp/trans_norm_out"
   ]
  },
  {
   "cell_type": "code",
   "execution_count": 15,
   "metadata": {},
   "outputs": [
    {
     "name": "stdout",
     "output_type": "stream",
     "text": [
      "/tmp/trans_norm_out/.zattrs\r\n",
      "/tmp/trans_norm_out/.zgroup\r\n",
      "/tmp/trans_norm_out/0/.zattrs\r\n",
      "/tmp/trans_norm_out/0/.zgroup\r\n",
      "/tmp/trans_norm_out/0/0/.zarray\r\n"
     ]
    }
   ],
   "source": [
    "!find /tmp/trans_norm_out -name \".z*\""
   ]
  },
  {
   "cell_type": "code",
   "execution_count": 36,
   "metadata": {
    "scrolled": true
   },
   "outputs": [
    {
     "name": "stdout",
     "output_type": "stream",
     "text": [
      "/private/tmp/trans_norm_out/0 [zgroup]\r\n",
      " - metadata\r\n",
      "   - Multiscales\r\n",
      " - data\r\n",
      "   - (1, 1, 571, 30, 30)\r\n"
     ]
    }
   ],
   "source": [
    "!ome_zarr -q info /tmp/trans_norm_out/0"
   ]
  },
  {
   "cell_type": "markdown",
   "metadata": {
    "slideshow": {
     "slide_type": "slide"
    }
   },
   "source": [
    "## 4. Data from S3\n",
    "We're going to start off by looking at some images you will likely have seen during the OMERO or IDR sessions.\n",
    "\n",
    "**Our goal is to share these *without* using an OMERO.**\n",
    "\n",
    "<table>\n",
    "    <tr>\n",
    "        <td>\n",
    "            <img alt=\"idr0062 thumbnails\" src=\"images/training-1.png\" style=\"height:150px\"/>\n",
    "        </td>\n",
    "        <td>\n",
    "            <img alt=\"idr0062 thumbnails\" src=\"images/training-2.png\" style=\"height:150px\"/>\n",
    "        </td>\n",
    "        <td>\n",
    "            <img alt=\"idr0023 3D screenshot\" src=\"images/training-3.png\" style=\"height:150px\"/>\n",
    "        </td>\n",
    "    </tr>\n",
    "</table>\n",
    "    \n",
    "The left two images are from  the ilastik plugin guide presented by Petr: https://omero-guides.readthedocs.io/en/latest/ilastik/docs/ilastik_fiji.html\n",
    "\n",
    "They are available in the \"idr0062\" project on the workshop server: https://workshop.openmicroscopy.org/webclient/?show=project-1952\n",
    "\n",
    "The original dataset can be found in IDR study idr0062 by Blin _et al._: https://idr.openmicroscopy.org/webclient/?show=project-801\n",
    "\n",
    "The image on the right is from idr0023 by Szymborska _et al_: http://idr.openmicroscopy.org/webclient/?show=project-52 and is **much** smaller. (Specifically, http://idr.openmicroscopy.org/webclient/?show=image-1885619)\n"
   ]
  },
  {
   "cell_type": "markdown",
   "metadata": {
    "slideshow": {
     "slide_type": "slide"
    }
   },
   "source": [
    "### 4.1 Minio client\n",
    "\n",
    "There are a number of different types of cloud storage and there are a number of tools that you can use to access your cloud storage, but here we're going to focus on a single one `mc`.\n",
    "\n",
    "`mc` is provided by the minio project and is described as \"a modern alternative to UNIX commands like ls, cat, cp, mirror, diff, find etc.\" The quickstart guide can be found under https://docs.minio.io/docs/minio-client-quickstart-guide.html For our purposes we'll focus on how to use it to upload and manage data in S3."
   ]
  },
  {
   "cell_type": "code",
   "execution_count": 17,
   "metadata": {},
   "outputs": [
    {
     "name": "stdout",
     "output_type": "stream",
     "text": [
      "NAME:\r\n",
      "  mc - MinIO Client for cloud storage and filesystems.\r\n",
      "\r\n",
      "USAGE:\r\n",
      "  mc [FLAGS] COMMAND [COMMAND FLAGS | -h] [ARGUMENTS...]\r\n",
      "\r\n",
      "COMMANDS:\r\n",
      "  alias      set, remove and list aliases in configuration file\r\n",
      "  ls         list buckets and objects\r\n",
      "  mb         make a bucket\r\n",
      "  rb         remove a bucket\r\n",
      "  cp         copy objects\r\n",
      "  mirror     synchronize object(s) to a remote site\r\n",
      "  cat        display object contents\r\n",
      "  head       display first 'n' lines of an object\r\n",
      "  pipe       stream STDIN to an object\r\n",
      "  share      generate URL for temporary access to an object\r\n",
      "  find       search for objects\r\n",
      "  sql        run sql queries on objects\r\n",
      "  stat       show object metadata\r\n",
      "  mv         move objects\r\n",
      "  tree       list buckets and objects in a tree format\r\n",
      "  du         summarize disk usage recursively\r\n",
      "  retention  set retention for object(s)\r\n",
      "  legalhold  manage legal hold for object(s)\r\n",
      "  diff       list differences in object name, size, and date between two buckets\r\n",
      "  rm         remove objects\r\n",
      "  version    manage bucket versioning\r\n",
      "  ilm        manage bucket lifecycle\r\n",
      "  encrypt    manage bucket encryption config\r\n",
      "  event      manage object notifications\r\n",
      "  watch      listen for object notification events\r\n",
      "  undo       undo PUT/DELETE operations\r\n",
      "  policy     manage anonymous access to buckets and objects\r\n",
      "  tag        manage tags for bucket and object(s)\r\n",
      "  replicate  configure server side bucket replication\r\n",
      "  admin      manage MinIO servers\r\n",
      "  update     update mc to latest release\r\n",
      "  \r\n",
      "GLOBAL FLAGS:\r\n",
      "  --autocompletion              install auto-completion for your shell\r\n",
      "  --config-dir value, -C value  path to configuration folder (default: \"/Users/jamoore/.mc\")\r\n",
      "  --quiet, -q                   disable progress bar display\r\n",
      "  --no-color                    disable color theme\r\n",
      "  --json                        enable JSON lines formatted output\r\n",
      "  --debug                       enable debug output\r\n",
      "  --insecure                    disable SSL certificate verification\r\n",
      "  --help, -h                    show help\r\n",
      "  --version, -v                 print the version\r\n",
      "  \r\n",
      "TIP:\r\n",
      "  Use 'mc --autocompletion' to enable shell autocompletion\r\n",
      "\r\n",
      "VERSION:\r\n",
      "  DEVELOPMENT.2020-11-27T09-56-29Z\r\n"
     ]
    }
   ],
   "source": [
    "!mc"
   ]
  },
  {
   "cell_type": "markdown",
   "metadata": {},
   "source": [
    "### 4.2 Connections\n",
    "\n",
    "The minio project provides a safe space for you to learn about S3: https://play.minio.io:9000/minio/ Here we've used the `mc` command to find the access information:\n",
    "\n",
    " * **\"AccessKey\"** is basically a user name.\n",
    " * **\"SecretKey\"** is basically a password. \n",
    " * The URL is our **\"endpoint\"**, which differentiates it from the S3 servers provided by Amazon.\n",
    "\n",
    "You can log in to the webpage and explore what the many other users have upload at https://play.minio.io:9000/minio/\n",
    "\n",
    "The other two important concepts are:\n",
    " * **\"buckets\"** which is roughly like a shared namespace with permissions\n",
    " * and **\"keys\"** which will get to in a second."
   ]
  },
  {
   "cell_type": "code",
   "execution_count": 37,
   "metadata": {},
   "outputs": [
    {
     "name": "stdout",
     "output_type": "stream",
     "text": [
      "\u001b[m\u001b[36;1mplay\r\n",
      "\u001b[0m\u001b[33m  URL       : https://play.min.io\r\n",
      "\u001b[0m\u001b[36m  AccessKey : Q3AM3UQ867SPQQA43P2F\r\n",
      "\u001b[0m\u001b[36m  SecretKey : zuf+tfteSlswRu7BJ86wekitnifILbZam1KYY3TG\r\n",
      "\u001b[0m\u001b[34m  API       : S3v4\r\n",
      "\u001b[0m\u001b[36m  Path      : auto\r\n",
      "\u001b[0m\r\n",
      "\u001b[0m"
     ]
    }
   ],
   "source": [
    "!mc config host list play"
   ]
  },
  {
   "cell_type": "markdown",
   "metadata": {},
   "source": [
    "### 4.3 Using `mc` with a public S3 bucket "
   ]
  },
  {
   "cell_type": "code",
   "execution_count": 38,
   "metadata": {},
   "outputs": [
    {
     "name": "stdout",
     "output_type": "stream",
     "text": [
      "\u001b[m\u001b[32mAdded `public` successfully.\u001b[0m\r\n",
      "\u001b[0m"
     ]
    }
   ],
   "source": [
    "!mc config host add public https://uk1s3.embassy.ebi.ac.uk \"\" \"\""
   ]
  },
  {
   "cell_type": "code",
   "execution_count": 42,
   "metadata": {},
   "outputs": [
    {
     "name": "stdout",
     "output_type": "stream",
     "text": [
      "\u001b[m\u001b[32m[2022-04-06 15:58:45 CEST]\u001b[0m\u001b[33m     0B\u001b[0m\u001b[36;1m 9836842.zarr/\u001b[0m\r\n",
      "\u001b[0m\u001b[m\u001b[32m[2022-04-06 15:58:45 CEST]\u001b[0m\u001b[33m     0B\u001b[0m\u001b[36;1m idr0040A/\u001b[0m\r\n",
      "\u001b[0m\u001b[m\u001b[32m[2022-04-06 15:58:45 CEST]\u001b[0m\u001b[33m     0B\u001b[0m\u001b[36;1m idr0051A/\u001b[0m\r\n",
      "\u001b[0m\u001b[m\u001b[32m[2022-04-06 15:58:45 CEST]\u001b[0m\u001b[33m     0B\u001b[0m\u001b[36;1m idr0052A/\u001b[0m\r\n",
      "\u001b[0m\u001b[m\u001b[32m[2022-04-06 15:58:45 CEST]\u001b[0m\u001b[33m     0B\u001b[0m\u001b[36;1m idr0075A/\u001b[0m\r\n",
      "\u001b[0m\u001b[m\u001b[32m[2022-04-06 15:58:45 CEST]\u001b[0m\u001b[33m     0B\u001b[0m\u001b[36;1m idr0079A/\u001b[0m\r\n",
      "\u001b[0m\u001b[m\u001b[32m[2022-04-06 15:58:45 CEST]\u001b[0m\u001b[33m     0B\u001b[0m\u001b[36;1m idr0094A/\u001b[0m\r\n",
      "\u001b[0m\u001b[m\u001b[32m[2022-04-06 15:58:45 CEST]\u001b[0m\u001b[33m     0B\u001b[0m\u001b[36;1m idr0095B/\u001b[0m\r\n",
      "\u001b[0m\u001b[m\u001b[32m[2022-04-06 15:58:45 CEST]\u001b[0m\u001b[33m     0B\u001b[0m\u001b[36;1m idr0109A/\u001b[0m\r\n",
      "\u001b[0m"
     ]
    }
   ],
   "source": [
    "!mc ls public/idr/zarr/v0.3/"
   ]
  },
  {
   "cell_type": "code",
   "execution_count": 43,
   "metadata": {},
   "outputs": [
    {
     "name": "stdout",
     "output_type": "stream",
     "text": [
      "..._norm.tif:  2.04 MiB / 2.04 MiB  ▓▓▓▓▓▓▓▓▓▓▓▓▓▓▓▓▓▓▓▓▓▓▓▓▓▓▓▓▓  3.93 MiB/s 0s\u001b[0m\u001b[0m\u001b[m\u001b[32;1m\u001b[m\u001b[32;1m\u001b[m\u001b[32;1m\u001b[m\u001b[32;1m"
     ]
    }
   ],
   "source": [
    "!mc cp public/idr/share/gbi2022/1885619/trans_norm.tif /tmp/"
   ]
  },
  {
   "cell_type": "code",
   "execution_count": 44,
   "metadata": {
    "scrolled": true
   },
   "outputs": [
    {
     "name": "stdout",
     "output_type": "stream",
     "text": [
      "-rw-r--r--  1 jamoore  wheel   2.0M Apr  6 15:59 /tmp/trans_norm.tif\r\n"
     ]
    }
   ],
   "source": [
    "!ls -ltrah /tmp/trans_norm.tif"
   ]
  },
  {
   "cell_type": "markdown",
   "metadata": {},
   "source": [
    "***\n",
    "\n",
    "## 5. Publishing your data with S3 ⚠️\n",
    "\n",
    "You can then move the generated output to S3. **Note: this won't work unless you have a configured bucket named \"uk1\".**"
   ]
  },
  {
   "cell_type": "code",
   "execution_count": 46,
   "metadata": {
    "scrolled": true
   },
   "outputs": [
    {
     "name": "stdout",
     "output_type": "stream",
     "text": [
      ".../0/99/0/0:  773.27 KiB / 773.27 KiB  ▓▓▓▓▓▓▓▓▓▓▓▓▓▓▓▓▓▓▓▓▓▓▓  132.28 KiB/s 5s\u001b[0m\u001b[0m\u001b[m\u001b[32;1m\u001b[m\u001b[32;1m\u001b[m\u001b[32;1m\u001b[m\u001b[32;1m\u001b[m\u001b[32;1m\u001b[m\u001b[32;1m\u001b[m\u001b[32;1m\u001b[m\u001b[32;1m\u001b[m\u001b[32;1m\u001b[m\u001b[32;1m\u001b[m\u001b[32;1m\u001b[m\u001b[32;1m\u001b[m\u001b[32;1m\u001b[m\u001b[32;1m\u001b[m\u001b[32;1m\u001b[m\u001b[32;1m\u001b[m\u001b[32;1m\u001b[m\u001b[32;1m\u001b[m\u001b[32;1m\u001b[m\u001b[32;1m\u001b[m\u001b[32;1m\u001b[m\u001b[32;1m\u001b[m\u001b[32;1m\u001b[m\u001b[32;1m\u001b[m\u001b[32;1m\u001b[m\u001b[32;1m\u001b[m\u001b[32;1m\u001b[m\u001b[32;1m\u001b[m\u001b[32;1m\u001b[m\u001b[32;1m\u001b[m\u001b[32;1m\u001b[m\u001b[32;1m\u001b[m\u001b[32;1m\u001b[m\u001b[32;1m\u001b[m\u001b[32;1m\u001b[m\u001b[32;1m\u001b[m\u001b[32;1m\u001b[m\u001b[32;1m\u001b[m\u001b[32;1m\u001b[m\u001b[32;1m\u001b[m\u001b[32;1m\u001b[m\u001b[32;1m\u001b[m\u001b[32;1m\u001b[m\u001b[32;1m\u001b[m\u001b[32;1m\u001b[m\u001b[32;1m\n",
      "real\t0m7.297s\n",
      "user\t0m2.158s\n",
      "sys\t0m2.216s\n"
     ]
    }
   ],
   "source": [
    "!time mc cp --recursive /tmp/trans_norm_out/0/ play/gbi2022/1885619/trans_norm.ome.zarr/"
   ]
  },
  {
   "cell_type": "markdown",
   "metadata": {},
   "source": [
    "If you are using binder, you may need to access the link directly:\n",
    "\n",
    "https://hms-dbmi.github.io/vizarr/?source=https://uk1s3.embassy.ebi.ac.uk/idr/share/gbi2022/1885619/trans_norm.ome.zarr/"
   ]
  },
  {
   "cell_type": "code",
   "execution_count": 24,
   "metadata": {
    "scrolled": true
   },
   "outputs": [
    {
     "data": {
      "text/html": [
       "\n",
       "        <iframe\n",
       "            width=\"700\"\n",
       "            height=\"350\"\n",
       "            src=\"https://hms-dbmi.github.io/vizarr/?source=https://uk1s3.embassy.ebi.ac.uk/idr/share/gbi2022/1885619/trans_norm.ome.zarr/\"\n",
       "            frameborder=\"0\"\n",
       "            allowfullscreen\n",
       "            \n",
       "        ></iframe>\n",
       "        "
      ],
      "text/plain": [
       "<IPython.lib.display.IFrame at 0x107e91e80>"
      ]
     },
     "execution_count": 24,
     "metadata": {},
     "output_type": "execute_result"
    }
   ],
   "source": [
    "from IPython.display import IFrame\n",
    "IFrame(f\"https://hms-dbmi.github.io/vizarr/?source=https://uk1s3.embassy.ebi.ac.uk/idr/share/gbi2022/1885619/trans_norm.ome.zarr/\", width=700, height=350)"
   ]
  },
  {
   "cell_type": "markdown",
   "metadata": {},
   "source": [
    "This viewer is [vizarr](https://github.com/hms-dbmi/vizarr) from the [Gehlenborg lab](http://gehlenborglab.org/) at Harvard Medical School. It can be accessed at https://hms-dbmi.github.io/vizarr for example to access data from the IDR: [link](http://hms-dbmi.github.io/vizarr/v0.1?source=https%3A%2F%2Fuk1s3.embassy.ebi.ac.uk%2Fidr%2Fzarr%2Fv0.1%2F6001240.zarr)."
   ]
  },
  {
   "cell_type": "markdown",
   "metadata": {},
   "source": [
    "## 6. Extras (time-permitting)"
   ]
  },
  {
   "cell_type": "markdown",
   "metadata": {},
   "source": [
    "### 6.1 A larger example (idr0062)\n",
    "\n",
    "If you are using binder, you may need to access the link directly:\n",
    "\n",
    "https://hms-dbmi.github.io/vizarr/?source=https://uk1s3.embassy.ebi.ac.uk/idr/zarr/v0.1/6001240.zarr"
   ]
  },
  {
   "cell_type": "code",
   "execution_count": 25,
   "metadata": {},
   "outputs": [
    {
     "data": {
      "text/html": [
       "\n",
       "        <iframe\n",
       "            width=\"700\"\n",
       "            height=\"350\"\n",
       "            src=\"http://hms-dbmi.github.io/vizarr/v0.1?source=https%3A%2F%2Fuk1s3.embassy.ebi.ac.uk%2Fidr%2Fzarr%2Fv0.1%2F6001240.zarr\"\n",
       "            frameborder=\"0\"\n",
       "            allowfullscreen\n",
       "            \n",
       "        ></iframe>\n",
       "        "
      ],
      "text/plain": [
       "<IPython.lib.display.IFrame at 0x107e962b0>"
      ]
     },
     "execution_count": 25,
     "metadata": {},
     "output_type": "execute_result"
    }
   ],
   "source": [
    "from IPython.display import IFrame\n",
    "IFrame(\"http://hms-dbmi.github.io/vizarr/v0.1?source=https%3A%2F%2Fuk1s3.embassy.ebi.ac.uk%2Fidr%2Fzarr%2Fv0.1%2F6001240.zarr\", width=700, height=350)"
   ]
  },
  {
   "cell_type": "markdown",
   "metadata": {},
   "source": [
    "### 6.2 Renaming\n",
    "\n",
    "Another important distinction to filesystems is that though it looks like hello is in a directory, you should really think of the entire string after the bucket just as a \"key\"."
   ]
  },
  {
   "cell_type": "code",
   "execution_count": 26,
   "metadata": {
    "scrolled": true
   },
   "outputs": [
    {
     "name": "stdout",
     "output_type": "stream",
     "text": [
      ".../0/99/0/0:  773.27 KiB / 773.27 KiB  ▓▓▓▓▓▓▓▓▓▓▓▓▓▓▓▓▓▓▓▓▓▓▓  144.06 KiB/s 5s\u001b[0m\u001b[0m\u001b[m\u001b[32;1m\u001b[m\u001b[32;1m\u001b[m\u001b[32;1m\u001b[m\u001b[32;1m\u001b[m\u001b[32;1m\u001b[m\u001b[32;1m\u001b[m\u001b[32;1m\u001b[m\u001b[32;1m\u001b[m\u001b[32;1m\u001b[m\u001b[32;1m\u001b[m\u001b[32;1m\u001b[m\u001b[32;1m\u001b[m\u001b[32;1m\u001b[m\u001b[32;1m\u001b[m\u001b[32;1m\u001b[m\u001b[32;1m\u001b[m\u001b[32;1m\u001b[m\u001b[32;1m\u001b[m\u001b[32;1m\u001b[m\u001b[32;1m\u001b[m\u001b[32;1m\u001b[m\u001b[32;1m\u001b[m\u001b[32;1m\u001b[m\u001b[32;1m\u001b[m\u001b[32;1m\u001b[m\u001b[32;1m\u001b[m\u001b[32;1m\u001b[m\u001b[32;1m\u001b[m\u001b[32;1m\u001b[m\u001b[32;1m\u001b[m\u001b[32;1m\u001b[m\u001b[32;1m\u001b[m\u001b[32;1m\u001b[m\u001b[32;1m\u001b[m\u001b[32;1m\u001b[m\u001b[32;1m\u001b[m\u001b[32;1m\u001b[m\u001b[32;1m\u001b[m\u001b[32;1m\u001b[m\u001b[32;1m\u001b[m\u001b[32;1m\u001b[m\u001b[32;1m"
     ]
    }
   ],
   "source": [
    "!mc mv --recursive uk1/idr/share/gbi2022/1885619/trans_norm.ome.zarr/ uk1/idr/share/gbi2022/1885619/renamed.ome.zarr/"
   ]
  },
  {
   "cell_type": "markdown",
   "metadata": {},
   "source": [
    "### 6.3 Other resources\n",
    "\n",
    "<table>\n",
    "    <tr>\n",
    "        <td>\n",
    "            <a href=\"https://downloads.openmicroscopy.org/presentations/2020/Dundee/Workshops/NGFF/zarr_diagram/\">\n",
    "<img src=\"images/resources-1.png\" alt=\"Screenshot of the Zarr diagram from OME2020\" style=\"height:200px\"/>\n",
    "            </a>\n",
    "        </td>\n",
    "        <td>\n",
    "<a href=\"https://downloads.openmicroscopy.org/presentations/2020/Dundee/Workshops/NGFF/zarr_diagram/\">Diagram for how data moves</a>\n",
    "        </td>\n",
    "    </tr>\n",
    "    <tr>\n",
    "        <td>\n",
    "      <a href=\"https://blog.openmicroscopy.org/file-formats/community/2020/11/04/zarr-data/\">      \n",
    "<img src=\"images/resources-2.png\" alt=\"Screenshot of the Zarr diagram from OME2020\" style=\"height:200px\"/>\n",
    "            </a>\n",
    "        </td>\n",
    "        <td>\n",
    "<a href=\"https://blog.openmicroscopy.org/file-formats/community/2020/11/04/zarr-data/\">Blog post for an easy way to publish OME-Zarr files</a>\n",
    "        </td>\n",
    "    </tr>\n",
    "</table>    "
   ]
  },
  {
   "cell_type": "markdown",
   "metadata": {},
   "source": [
    "### 6.4 Trying more with minio's play\n",
    "\n",
    "Note, however, that play buckets get deleted every 24 hours."
   ]
  },
  {
   "cell_type": "code",
   "execution_count": 27,
   "metadata": {},
   "outputs": [
    {
     "name": "stdout",
     "output_type": "stream",
     "text": [
      "\u001b[m\u001b[32;1mBucket created successfully `play/gbi2022`.\u001b[0m\r\n",
      "\u001b[0m"
     ]
    }
   ],
   "source": [
    "!mc mb --ignore-existing play/gbi2022"
   ]
  },
  {
   "cell_type": "code",
   "execution_count": 28,
   "metadata": {
    "scrolled": true
   },
   "outputs": [
    {
     "name": "stdout",
     "output_type": "stream",
     "text": [
      "\u001b[m\u001b[32;1mAccess permission for `play/gbi2022` is set to `public`\u001b[0m\r\n",
      "\u001b[0m"
     ]
    }
   ],
   "source": [
    "!mc policy set public play/gbi2022"
   ]
  },
  {
   "cell_type": "code",
   "execution_count": 29,
   "metadata": {},
   "outputs": [
    {
     "name": "stdout",
     "output_type": "stream",
     "text": [
      ".../0/99/0/0:  773.27 KiB / 773.27 KiB  ▓▓▓▓▓▓▓▓▓▓▓▓▓▓▓▓▓▓▓▓▓▓▓  134.17 KiB/s 5s\u001b[0m\u001b[0m\u001b[m\u001b[32;1m\u001b[m\u001b[32;1m\u001b[m\u001b[32;1m\u001b[m\u001b[32;1m\u001b[m\u001b[32;1m\u001b[m\u001b[32;1m\u001b[m\u001b[32;1m\u001b[m\u001b[32;1m\u001b[m\u001b[32;1m\u001b[m\u001b[32;1m\u001b[m\u001b[32;1m\u001b[m\u001b[32;1m\u001b[m\u001b[32;1m\u001b[m\u001b[32;1m\u001b[m\u001b[32;1m\u001b[m\u001b[32;1m\u001b[m\u001b[32;1m\u001b[m\u001b[32;1m\u001b[m\u001b[32;1m\u001b[m\u001b[32;1m\u001b[m\u001b[32;1m\u001b[m\u001b[32;1m\u001b[m\u001b[32;1m\u001b[m\u001b[32;1m\u001b[m\u001b[32;1m\u001b[m\u001b[32;1m\u001b[m\u001b[32;1m\u001b[m\u001b[32;1m\u001b[m\u001b[32;1m\u001b[m\u001b[32;1m\u001b[m\u001b[32;1m\u001b[m\u001b[32;1m\u001b[m\u001b[32;1m\u001b[m\u001b[32;1m\u001b[m\u001b[32;1m\u001b[m\u001b[32;1m\u001b[m\u001b[32;1m\u001b[m\u001b[32;1m\u001b[m\u001b[32;1m\u001b[m\u001b[32;1m\u001b[m\u001b[32;1m\u001b[m\u001b[32;1m\u001b[m\u001b[32;1m\u001b[m\u001b[32;1m\u001b[m\u001b[32;1m"
     ]
    }
   ],
   "source": [
    "!mc cp -r /tmp/trans_norm_out/0/ play/gbi2022/trans_norm.ome.zarr/"
   ]
  },
  {
   "cell_type": "markdown",
   "metadata": {},
   "source": [
    "Now run: `napari https://play.minio.io/gbi2022/trans_norm.ome.zarr`"
   ]
  },
  {
   "cell_type": "markdown",
   "metadata": {},
   "source": [
    "## 7. Take homes\n",
    "\n",
    "<br/>\n",
    "<big><big>\n",
    "    <ol>\n",
    "        <li>\n",
    "The simplicity & transparency of Zarr files makes them ideal for exploration & the cloud. \n",
    "        </li>\n",
    "         <br/>\n",
    "        <li>\n",
    "The primary downside is that working with many small files can introduce bottlenecks for uploading (& even deleting).\n",
    "        </li>\n",
    "        <br/>\n",
    "        <li>\n",
    "Working with S3 is very different from a file system, fewer (GUI) tools exist, and each S3 implementation may be slightly different.\n",
    "        </li>\n",
    "        <br/>\n",
    "        <li>\n",
    "The benefits in sharing potential (and in some cases cost-savings) can be significant, especially if there's an enabled ecosystem that works for you.\n",
    "        </li>\n",
    "    </ol>\n",
    "</big></big>"
   ]
  },
  {
   "cell_type": "markdown",
   "metadata": {
    "collapsed": true,
    "jupyter": {
     "outputs_hidden": true
    }
   },
   "source": [
    "## License\n",
    "Copyright (C) 2023 German BioImaging. All Rights Reserved.\n",
    "This program is free software; you can redistribute it and/or modify it\n",
    "under the terms of the GNU General Public License as published by the\n",
    "Free Software Foundation; either version 2 of the License, or\n",
    "(at your option) any later version.\n",
    "This program is distributed in the hope that it will be useful, but\n",
    "WITHOUT ANY WARRANTY; without even the implied warranty of MERCHANTABILITY\n",
    "or FITNESS FOR A PARTICULAR PURPOSE. See the GNU General Public License for\n",
    "more details. You should have received a copy of the GNU General\n",
    "Public License along with this program; if not, write to the\n",
    "Free Software Foundation,\n",
    "Inc., 51 Franklin Street, Fifth Floor, Boston, MA 02110-1301 USA."
   ]
  }
 ],
 "metadata": {
  "anaconda-cloud": {},
  "kernelspec": {
   "display_name": "Python 3 (ipykernel)",
   "language": "python",
   "name": "python3"
  },
  "language_info": {
   "codemirror_mode": {
    "name": "ipython",
    "version": 3
   },
   "file_extension": ".py",
   "mimetype": "text/x-python",
   "name": "python",
   "nbconvert_exporter": "python",
   "pygments_lexer": "ipython3",
   "version": "3.9.15"
  },
  "toc": {
   "base_numbering": 1,
   "nav_menu": {},
   "number_sections": false,
   "sideBar": false,
   "skip_h1_title": false,
   "title_cell": "Table of Contents",
   "title_sidebar": "Contents",
   "toc_cell": false,
   "toc_position": {},
   "toc_section_display": false,
   "toc_window_display": false
  }
 },
 "nbformat": 4,
 "nbformat_minor": 4
}
