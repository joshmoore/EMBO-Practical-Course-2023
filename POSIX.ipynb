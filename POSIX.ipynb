{
 "cells": [
  {
   "cell_type": "markdown",
   "id": "8369f35a-17cc-46ff-b1f0-dc8c5439100c",
   "metadata": {},
   "source": [
    "# EMBO Practical Course <br/>\"Advanced methods in bioimage analysis\"\n",
    "\n",
    "***\n",
    "\n",
    "Homepage: https://www.embl.org/about/info/course-and-conference-office/events/bia23-01/\n",
    "\n",
    "***\n",
    "\n",
    "## Day 2 - Session 1: Image Data Management - 10:15 to 11:15 \"Get set\"\n",
    "\n",
    "<table style=\"table { position: relative;  display: inline-block; } img {  position: absolute;  left: 0;  right: 0;  width: auto;  height: 100%;  object-fit: cover;  object-position: center;}\">\n",
    "    <tr>\n",
    "        <td style=\"vertical-align: top\">\n",
    "            <h3>Introduction</h3>\n",
    "            <p>\n",
    "                In this notebook, we'll look at issues arising from having many files\n",
    "                (and many file formats!) on your file servers. A quick intro into working\n",
    "                with POSIX file systems will be followed by tools for converting data into\n",
    "                a common file-format: OME-TIFF.\n",
    "            </p>\n",
    "            <p>\n",
    "                The two main goals are: (1) make sure you have the basics you might need\n",
    "                for the rest of the course and (2) encourage you to explore these tools\n",
    "                further on your own to speed up your day-to-day activities.\n",
    "            </p>\n",
    "            <p>\n",
    "                Outline:\n",
    "                <ol start=\"3\">\n",
    "                    <li>Bash & Scripting\n",
    "                        <ol type=\"a\">\n",
    "                            <li>Bash basics</li>\n",
    "                            <li>Mixing Bash and Jupyter ⚠</li>\n",
    "                            <li>Our data directory</li>\n",
    "                            <li>Permissions</li>\n",
    "                        </ol>\n",
    "                    </li>\n",
    "                        <li>bftools\n",
    "                        <ol type=\"a\">\n",
    "                            <li>showinf</li>\n",
    "                            <li>bfconvert</li>\n",
    "                            <li>OME-TIFF</li>\n",
    "                        </ol>\n",
    "                    </li>\n",
    "                </ol>\n",
    "            </p>\n",
    "        </td>\n",
    "        <td>\n",
    "            <center>\n",
    "                <img src=\"images/falk/clara-shares-300dpi.png\"/>\n",
    "            </center>\n",
    "        </td>\n",
    "    </tr>\n",
    "</table>"
   ]
  },
  {
   "cell_type": "markdown",
   "id": "dda5d895-3805-439a-909a-2e4f95c17756",
   "metadata": {},
   "source": [
    "## 3a. Bash basics\n",
    "\n",
    "If you are managing files on a server, it will often be easier to use the command-line once you learn it. And if you are using a command-line, it's likely going to be Bash.\n",
    "\n",
    "There are a large number of useful commands. Often, the shorter the name the more useful it is. Let's take `ls` for \"list\".\n",
    "\n",
    "To learn more about a tool, you can use the `man` tool."
   ]
  },
  {
   "cell_type": "code",
   "execution_count": 57,
   "id": "9f7bd03e-464a-42c3-88a4-556318571e54",
   "metadata": {},
   "outputs": [
    {
     "name": "stdout",
     "output_type": "stream",
     "text": [
      "LS(1)                       General Commands Manual                      LS(1)\n",
      "\n",
      "NAME\n",
      "     ls – list directory contents\n",
      "\n",
      "SYNOPSIS\n",
      "     ls [-@ABCFGHILOPRSTUWabcdefghiklmnopqrstuvwxy1%,] [--color=when]\n",
      "        [-D format] [file ...]\n",
      "\n",
      "DESCRIPTION\n",
      "cat: stdout: Broken pipe\n"
     ]
    }
   ],
   "source": [
    "!man ls | head"
   ]
  },
  {
   "cell_type": "markdown",
   "id": "e1371242-8a28-448e-9c7b-e3e8bc9cb97d",
   "metadata": {},
   "source": [
    "<hr/>\n",
    "\n",
    "I bring up `ls` first because it can be used to find other commands:"
   ]
  },
  {
   "cell_type": "code",
   "execution_count": 3,
   "id": "ccebbfb1-275c-4391-a8af-5da4162fe861",
   "metadata": {
    "scrolled": true
   },
   "outputs": [
    {
     "name": "stdout",
     "output_type": "stream",
     "text": [
      "drwxr-xr-x   936 root     wheel  29952 Jul 11 10:56 \u001b[1m\u001b[36m/usr/bin/\u001b[m\u001b[m\n",
      "drwxr-xr-x@   39 root     wheel   1248 Jul 11 10:56 \u001b[1m\u001b[36m/bin\u001b[m\u001b[m\n",
      "drwxr-xr-x  2086 jamoore  admin  66752 Aug 20 18:35 \u001b[1m\u001b[36m/usr/local/bin\u001b[m\u001b[m\n"
     ]
    }
   ],
   "source": [
    "!ls -ltrad /bin /usr/bin/ /usr/local/bin"
   ]
  },
  {
   "cell_type": "markdown",
   "id": "bc5f8b7c-8ebd-420d-91a4-f27c21c38608",
   "metadata": {},
   "source": [
    "These are the directories where you will find many of them. For example, the command `bash` is one of them:"
   ]
  },
  {
   "cell_type": "code",
   "execution_count": 2,
   "id": "03a47295-9aee-4bc3-8400-2b6c0ccd3da6",
   "metadata": {},
   "outputs": [
    {
     "name": "stdout",
     "output_type": "stream",
     "text": [
      "/bin/bash\n"
     ]
    }
   ],
   "source": [
    "!which bash"
   ]
  },
  {
   "cell_type": "markdown",
   "id": "d0835bce-d3df-48d8-99f7-e4e21ae0c51c",
   "metadata": {},
   "source": [
    "This is the command that gets run when you login:"
   ]
  },
  {
   "cell_type": "code",
   "execution_count": 1,
   "id": "f94217ec-c93d-459d-9e59-34d4ef87fd14",
   "metadata": {},
   "outputs": [
    {
     "name": "stdout",
     "output_type": "stream",
     "text": [
      "/bin/bash\n"
     ]
    }
   ],
   "source": [
    "!echo $SHELL"
   ]
  },
  {
   "cell_type": "markdown",
   "id": "5c63b096-1333-4721-9944-6cecfe7a8893",
   "metadata": {},
   "source": [
    "So it's the context that everything you are doing is happening in:"
   ]
  },
  {
   "cell_type": "code",
   "execution_count": 17,
   "id": "07b69ad4-297a-4eb4-bbc4-0fb720717765",
   "metadata": {},
   "outputs": [
    {
     "name": "stdout",
     "output_type": "stream",
     "text": [
      "-+= 00001 root /sbin/launchd\n",
      " \\-+= 00560 jamoore /Applications/iTerm.app/Contents/MacOS/iTerm2\n",
      "   \\-+- 02144 jamoore /Users/jamoore/Library/Application Support/iTerm2/iTermSe\n",
      "     \\-+= 12058 root login -fp jamoore\n",
      "       \\-+= 12059 jamoore -bash\n",
      "         \\-+= 12310 jamoore /Users/jamoore/micromamba/envs/embo/bin/python3.9 /\n",
      "           \\-+= 12584 jamoore /Users/jamoore/micromamba/envs/embo/bin/python -m\n",
      "             \\-+= 13306 jamoore pstree -p 13306\n",
      "               \\--- 13307 root ps -axwwo user,pid,ppid,pgid,command\n"
     ]
    }
   ],
   "source": [
    "!pstree -p $$"
   ]
  },
  {
   "cell_type": "markdown",
   "id": "6b0730c3-68ef-4f37-b15d-1c6e658a8937",
   "metadata": {},
   "source": [
    "## 3b. Mixing BASH & Jupyter\n",
    "\n",
    "Each Jupyter notebook runs within a Python interpreter, but that Python interpreter runs within a Bash shell. Each cell starting with \"!\" starts a **new** Bash shell. Therefore the first time you run the cells below you won't be able to just set a variable.\n",
    "\n",
    "This is important because you will need to know the state of the different shells/interpreters, or at least, if you don't it can be confusing.\n",
    "\n",
    "For example, we will use the `whoami` command to set a variable for creating directories for everyone:"
   ]
  },
  {
   "cell_type": "code",
   "execution_count": 6,
   "id": "1d0dd013-239c-4049-8805-16c3c9640c03",
   "metadata": {},
   "outputs": [
    {
     "name": "stdout",
     "output_type": "stream",
     "text": [
      "jamoore\n"
     ]
    }
   ],
   "source": [
    "!whoami"
   ]
  },
  {
   "cell_type": "markdown",
   "id": "69cda76a-0a22-4c9c-9b4e-e026f80dab8f",
   "metadata": {},
   "source": [
    "You can try to set this variable in Bash like this:"
   ]
  },
  {
   "cell_type": "code",
   "execution_count": 18,
   "id": "9aff5364-ac01-4dbc-91dd-25ab299b81df",
   "metadata": {},
   "outputs": [],
   "source": [
    "!YOURNAME=$(whoami)"
   ]
  },
  {
   "cell_type": "markdown",
   "id": "67d7483e-d75a-4fbc-b9ce-906658166e71",
   "metadata": {},
   "source": [
    "But when you try to use it, it will be empty:"
   ]
  },
  {
   "cell_type": "code",
   "execution_count": 19,
   "id": "2765d3be-cad0-4b01-9112-cefbf2153ab7",
   "metadata": {},
   "outputs": [
    {
     "name": "stdout",
     "output_type": "stream",
     "text": [
      "\n"
     ]
    }
   ],
   "source": [
    "!echo $YOURNAME"
   ]
  },
  {
   "cell_type": "markdown",
   "id": "a18bfe31-3958-459d-a727-581f5510c6d5",
   "metadata": {},
   "source": [
    "Instead, for this action we will need to make use of Python: "
   ]
  },
  {
   "cell_type": "code",
   "execution_count": 20,
   "id": "a7e6da5c-ca7a-4bb5-b4e9-0e8fec0a3f7a",
   "metadata": {},
   "outputs": [
    {
     "name": "stdout",
     "output_type": "stream",
     "text": [
      "env: YOURNAME=jamoore\n"
     ]
    }
   ],
   "source": [
    "import os\n",
    "YOURNAME = os.getlogin()\n",
    "%env YOURNAME=$YOURNAME"
   ]
  },
  {
   "cell_type": "code",
   "execution_count": 21,
   "id": "e1de7ba4-de1d-4199-8c1c-4ae81693ef6e",
   "metadata": {
    "scrolled": true
   },
   "outputs": [
    {
     "name": "stdout",
     "output_type": "stream",
     "text": [
      "jamoore\n"
     ]
    }
   ],
   "source": [
    "!echo $YOURNAME"
   ]
  },
  {
   "cell_type": "markdown",
   "id": "20863384-d2d0-489c-a78e-e269be279389",
   "metadata": {},
   "source": [
    "Now we have the variable we want set."
   ]
  },
  {
   "cell_type": "markdown",
   "id": "43d03269-a7bf-4147-ab25-f8d5ddc0709a",
   "metadata": {},
   "source": [
    "## 3c. Our data directory"
   ]
  },
  {
   "cell_type": "markdown",
   "id": "d70a7bf9-fcd6-4f8a-8286-79c9c7c7a263",
   "metadata": {},
   "source": [
    "`pwd` prints the directory that the current process is in:"
   ]
  },
  {
   "cell_type": "code",
   "execution_count": 22,
   "id": "4b67eee0-1222-4b54-999a-7f0ebedd0426",
   "metadata": {},
   "outputs": [
    {
     "data": {
      "text/plain": [
       "'/opt/EMBO-Workshop-2023'"
      ]
     },
     "execution_count": 22,
     "metadata": {},
     "output_type": "execute_result"
    }
   ],
   "source": [
    "pwd"
   ]
  },
  {
   "cell_type": "markdown",
   "id": "c2a91c8a-d402-4a3f-b107-7327c4c72c73",
   "metadata": {},
   "source": [
    "We want to move to another directory, but again we can't just use `cd MYDIR` because that will only change the subshell. Instead we use Jupyter magic (commands starting with `%`):"
   ]
  },
  {
   "cell_type": "code",
   "execution_count": 24,
   "id": "2ff1acb9-82c9-450f-a561-d62e68282350",
   "metadata": {},
   "outputs": [
    {
     "name": "stdout",
     "output_type": "stream",
     "text": [
      "/System/Volumes/Data/scratch/bioimagecourse2023/session1\n"
     ]
    }
   ],
   "source": [
    "%cd /scratch/bioimagecourse2023/session1"
   ]
  },
  {
   "cell_type": "markdown",
   "id": "b833eadd-c28d-4d33-8f60-c635d6887fb3",
   "metadata": {},
   "source": [
    "Now we are in our working directory. Feel free to look around using `ls`. For example the flags `-ltra` mean: \"show me a long listing of the files in reverse order by time and even show me the weird files starting with `.`\"."
   ]
  },
  {
   "cell_type": "code",
   "execution_count": 25,
   "id": "27ee9b79-ee85-41e5-b42a-75cb4e727e59",
   "metadata": {},
   "outputs": [
    {
     "name": "stdout",
     "output_type": "stream",
     "text": [
      "total 248\n",
      "-rw-r--r--   1 jamoore  wheel    529 Aug 23 18:13 2a.sh\n",
      "-rw-r--r--   1 jamoore  wheel  42000 Aug 23 18:13 .2a.sh.un~\n",
      "-rw-r--r--   1 jamoore  wheel     69 Aug 23 18:16 notes\n",
      "-rw-r--r--   1 jamoore  wheel   3123 Aug 23 18:16 .notes.un~\n",
      "drwxr-xr-x   5 jamoore  wheel    160 Aug 23 18:31 \u001b[1m\u001b[36mdata\u001b[m\u001b[m\n",
      "-rw-r--r--   1 jamoore  wheel    469 Aug 23 18:50 2b.sh\n",
      "-rw-r--r--   1 jamoore  wheel  27560 Aug 23 18:50 .2b.sh.un~\n",
      "-rw-r--r--   1 jamoore  wheel    638 Aug 23 18:58 3a.sh\n",
      "-rw-r--r--   1 jamoore  wheel  31925 Aug 23 18:58 .3a.sh.un~\n",
      "drwxr-xr-x  11 jamoore  wheel    352 Aug 23 18:58 \u001b[1m\u001b[36m.\u001b[m\u001b[m\n",
      "drwxr-xr-x   3 jamoore  wheel     96 Aug 24 16:39 \u001b[1m\u001b[36m..\u001b[m\u001b[m\n"
     ]
    }
   ],
   "source": [
    "!ls -ltra"
   ]
  },
  {
   "cell_type": "markdown",
   "id": "992717a4-4e74-40b6-8069-71c4ec380eb5",
   "metadata": {},
   "source": [
    "The \"-S\" flag means sort by size instead of time:"
   ]
  },
  {
   "cell_type": "code",
   "execution_count": 27,
   "id": "8a2c1979-2527-4ec5-bc79-97e766a85302",
   "metadata": {},
   "outputs": [
    {
     "name": "stdout",
     "output_type": "stream",
     "text": [
      "total 0\n",
      "-rw-r--r--  1 jamoore  wheel   0 Aug 23 18:01 a.fake\n",
      "lrwxr-xr-x  1 jamoore  wheel  33 Aug 23 18:12 \u001b[1m\u001b[35mdata\u001b[m\u001b[m@ -> /scratch/josh_openmicroscopy/data\n",
      "drwxr-xr-x  3 jamoore  wheel  96 Aug 23 18:31 \u001b[1m\u001b[36mcellprofiler\u001b[m\u001b[m/\n"
     ]
    }
   ],
   "source": [
    "ls -lSr data/"
   ]
  },
  {
   "cell_type": "markdown",
   "id": "bdd06ad2-4054-4e52-aad0-82d4ec73545c",
   "metadata": {},
   "source": [
    "Another important tool for understanding the size of your data is `du`, for \"disk usage\". The `-sh` flags \"say show me only a (s)ummary of the data and put it in (h)uman-readable form\""
   ]
  },
  {
   "cell_type": "code",
   "execution_count": 26,
   "id": "2f9aa050-0d2d-4270-bb67-e14531b0705d",
   "metadata": {},
   "outputs": [
    {
     "name": "stdout",
     "output_type": "stream",
     "text": [
      "8.7M\tdata/\n"
     ]
    }
   ],
   "source": [
    "! du -sh data/"
   ]
  },
  {
   "cell_type": "markdown",
   "id": "e9a4f211-93bb-4425-ac3b-b5ce0d5c3b8e",
   "metadata": {},
   "source": [
    "## 3d. Permissions"
   ]
  },
  {
   "cell_type": "code",
   "execution_count": 29,
   "id": "5fc481cd-dae9-493c-ae7c-c3fb6b49b457",
   "metadata": {},
   "outputs": [],
   "source": [
    "##\n",
    "## Permissions\n",
    "##\n",
    "\n",
    "!mkdir -p /scratch/${YOURNAME}/session1"
   ]
  },
  {
   "cell_type": "code",
   "execution_count": 25,
   "id": "be3d8817-16c7-446f-876a-8b92c015777b",
   "metadata": {},
   "outputs": [
    {
     "name": "stdout",
     "output_type": "stream",
     "text": [
      "uid=501(jamoore) gid=20(staff) groups=20(staff),12(everyone),61(localaccounts),79(_appserverusr),80(admin),81(_appserveradm),98(_lpadmin),399(com.apple.access_ssh),33(_appstore),100(_lpoperator),204(_developer),250(_analyticsusers),395(com.apple.access_ftp),398(com.apple.access_screensharing),400(com.apple.access_remote_ae)\n"
     ]
    }
   ],
   "source": [
    "!id"
   ]
  },
  {
   "cell_type": "code",
   "execution_count": 32,
   "id": "f9833e87-1658-41c2-886a-c7f6e6a3fbfe",
   "metadata": {},
   "outputs": [
    {
     "name": "stdout",
     "output_type": "stream",
     "text": [
      "/System/Volumes/Data/scratch/jamoore/session1\n"
     ]
    }
   ],
   "source": [
    "%cd /scratch/{YOURNAME}/session1"
   ]
  },
  {
   "cell_type": "code",
   "execution_count": 33,
   "id": "c2e57915-42ff-439d-a96a-95531ce44edb",
   "metadata": {},
   "outputs": [],
   "source": [
    "!test -e session1 || ln -s /scratch/josh_openmicroscopy/data session1"
   ]
  },
  {
   "cell_type": "code",
   "execution_count": 34,
   "id": "da3a948f-a9ca-4794-a175-ce8cc602c112",
   "metadata": {},
   "outputs": [
    {
     "name": "stdout",
     "output_type": "stream",
     "text": [
      "/System/Volumes/Data/scratch/josh_openmicroscopy/data\n"
     ]
    }
   ],
   "source": [
    "##\n",
    "##\n",
    "##\n",
    "\n",
    "%cd session1\n",
    "\n"
   ]
  },
  {
   "cell_type": "code",
   "execution_count": 35,
   "id": "2bd5e2ab-7182-45da-bb23-e24d610f4a3c",
   "metadata": {},
   "outputs": [
    {
     "name": "stdout",
     "output_type": "stream",
     "text": [
      "./cellprofiler/fruit-fly-cells/POS076.pattern/01_POS076_Z00_T00_D.TIF\n",
      "./cellprofiler/fruit-fly-cells/COPYING\n",
      "./cellprofiler/fruit-fly-cells/readme.txt\n",
      "./cellprofiler/fruit-fly-cells/POS002.pattern\n",
      "./cellprofiler/fruit-fly-cells/POS002.pattern/POS002.pattern\n",
      "./cellprofiler/fruit-fly-cells/POS002.pattern/01_POS002_Z00_T00_D.TIF\n",
      "./cellprofiler/fruit-fly-cells/POS002.pattern/01_POS002_Z00_T00_R.TIF\n",
      "./cellprofiler/fruit-fly-cells/POS002.pattern/01_POS002_Z00_T00_F.TIF\n",
      "./cellprofiler/fruit-fly-cells/.bioformats\n",
      "./data\n"
     ]
    }
   ],
   "source": [
    "!find . | tail -n 10\n"
   ]
  },
  {
   "cell_type": "code",
   "execution_count": 36,
   "id": "94248236-38e6-41b0-8ddb-654dfcac4cce",
   "metadata": {
    "scrolled": true
   },
   "outputs": [
    {
     "name": "stdout",
     "output_type": "stream",
     "text": [
      ".: directory\n",
      "./a.fake: empty\n",
      "./cellprofiler: directory\n",
      "./cellprofiler/fruit-fly-cells: directory\n",
      "./cellprofiler/fruit-fly-cells/POS218.pattern: directory\n",
      "./cellprofiler/fruit-fly-cells/POS218.pattern/POS218.pattern: ASCII text, with no line terminators\n",
      "./cellprofiler/fruit-fly-cells/POS218.pattern/01_POS218_Z00_T00_R.TIF: TIFF image data, little-endian, direntries=16\n",
      "./cellprofiler/fruit-fly-cells/POS218.pattern/01_POS218_Z00_T00_D.TIF: TIFF image data, little-endian, direntries=16\n",
      "./cellprofiler/fruit-fly-cells/POS218.pattern/01_POS218_Z00_T00_F.TIF: TIFF image data, little-endian, direntries=16\n",
      "./cellprofiler/fruit-fly-cells/.DS_Store: Apple Desktop Services Store\n",
      "./cellprofiler/fruit-fly-cells/POS076.pattern: directory\n",
      "./cellprofiler/fruit-fly-cells/POS076.pattern/.DS_Store: Apple Desktop Services Store\n",
      "./cellprofiler/fruit-fly-cells/POS076.pattern/POS076.pattern: ASCII text, with no line terminators\n",
      "./cellprofiler/fruit-fly-cells/POS076.pattern/01_POS076_Z00_T00_F.TIF: TIFF image data, little-endian, direntries=16\n",
      "./cellprofiler/fruit-fly-cells/POS076.pattern/01_POS076_Z00_T00_R.TIF: TIFF image data, little-endian, direntries=16\n",
      "./cellprofiler/fruit-fly-cells/POS076.pattern/01_POS076_Z00_T00_D.TIF: TIFF image data, little-endian, direntries=16\n",
      "./cellprofiler/fruit-fly-cells/COPYING: Unicode text, UTF-8 text\n",
      "./cellprofiler/fruit-fly-cells/readme.txt: ASCII text\n",
      "./cellprofiler/fruit-fly-cells/POS002.pattern: directory\n",
      "./cellprofiler/fruit-fly-cells/POS002.pattern/POS002.pattern: ASCII text, with no line terminators\n",
      "./cellprofiler/fruit-fly-cells/POS002.pattern/01_POS002_Z00_T00_D.TIF: TIFF image data, little-endian, direntries=16\n",
      "./cellprofiler/fruit-fly-cells/POS002.pattern/01_POS002_Z00_T00_R.TIF: TIFF image data, little-endian, direntries=16\n",
      "./cellprofiler/fruit-fly-cells/POS002.pattern/01_POS002_Z00_T00_F.TIF: TIFF image data, little-endian, direntries=16\n",
      "./cellprofiler/fruit-fly-cells/.bioformats: Unicode text, UTF-8 text\n",
      "./data: directory\n"
     ]
    }
   ],
   "source": [
    "!find . -exec file {} \\;\n"
   ]
  },
  {
   "cell_type": "code",
   "execution_count": 42,
   "id": "c4ecfd46-25ed-470b-b099-f138673853a0",
   "metadata": {},
   "outputs": [
    {
     "name": "stdout",
     "output_type": "stream",
     "text": [
      "da39a3ee5e6b4b0d3255bfef95601890afd80709  ./a.fake\n"
     ]
    }
   ],
   "source": [
    "%%bash\n",
    "\n",
    "##\n",
    "## Extras\n",
    "##\n",
    "\n",
    "for x in $(find . -name \"*.fake\");\n",
    "do\n",
    "    sha1sum ${x}\n",
    "done"
   ]
  },
  {
   "cell_type": "markdown",
   "id": "75c76b95-c65c-4c27-9f2f-33e769819128",
   "metadata": {},
   "source": [
    "Can highly suggest\n",
    "\n",
    "https://software-carpentry.org/lessons/, e.g. [The Unix Shell](https://swcarpentry.github.io/shell-novice/)\n",
    "\n"
   ]
  },
  {
   "cell_type": "code",
   "execution_count": 53,
   "id": "bbaa5b56-f724-4912-a233-5d721909af4b",
   "metadata": {},
   "outputs": [
    {
     "name": "stdout",
     "output_type": "stream",
     "text": [
      "usage: h5ls [OPTIONS] file[/OBJECT] [file[/[OBJECT]...]\n",
      "  OPTIONS\n",
      "   -h, -?, --help  Print a usage message and exit\n",
      "   -a, --address   Print raw data address.  If dataset is contiguous, address\n",
      "                   is offset in file of beginning of raw data. If chunked,\n",
      "                   returned list of addresses indicates offset of each chunk.\n",
      "                   Must be used with -v, --verbose option.\n",
      "                   Provides no information for non-dataset objects.\n",
      "   -d, --data      Print the values of datasets\n",
      "   --enable-error-stack\n",
      "                   Prints messages from the HDF5 error stack as they occur.\n",
      "   --follow-symlinks\n",
      "                   Follow symbolic links (soft links and external links)\n",
      "                   to display target object information.\n",
      "                   Without this option, h5ls identifies a symbolic link\n",
      "                   as a soft link or external link and prints the value\n",
      "                   assigned to the symbolic link; it does not provide any\n",
      "                   information regarding the target object or determine\n",
      "                   whether the link is a dangling link.\n",
      "   --no-dangling-links\n",
      "                   Must be used with --follow-symlinks option;\n",
      "                   otherwise, h5ls shows error message and returns an exit\n",
      "                   code of 1.\n",
      "                   Check for any symbolic links (soft links or external links)\n",
      "                   that do not resolve to an existing object (dataset, group,\n",
      "                   or named datatype).\n",
      "                   If any dangling link is found, this situation is treated\n",
      "                   as an error and h5ls returns an exit code of 1.\n",
      "   -f, --full      Print full path names instead of base names\n",
      "   -g, --group     Show information about a group, not its contents\n",
      "   -l, --label     Label members of compound datasets\n",
      "   -r, --recursive List all groups recursively, avoiding cycles\n",
      "   -s, --string    Print 1-byte integer datasets as ASCII\n",
      "   -S, --simple    Use a machine-readable output format\n",
      "   -wN, --width=N  Set the number of columns of output\n",
      "   -v, --verbose   Generate more verbose output\n",
      "   -V, --version   Print version number and exit\n",
      "   --vfd=DRIVER    Use the specified virtual file driver\n",
      "   -x, --hexdump   Show raw data in hexadecimal format\n",
      "   --s3-cred=C     Supply S3 authentication information to \"ros3\" vfd.\n",
      "                   Accepts tuple of \"(<aws-region>,<access-id>,<access-key>)\".\n",
      "                   If absent or C->\"(,,)\", defaults to no-authentication.\n",
      "                   Has no effect if vfd flag not set to \"ros3\".\n",
      "   --hdfs-attrs=A  Supply configuration information to Hadoop VFD.\n",
      "                   Accepts tuple of (<namenode name>,<namenode port>,\n",
      "                   ...<kerberos cache path>,<username>,<buffer size>)\n",
      "                   If absent or A == '(,,,,)', all default values are used.\n",
      "                   Has no effect if vfd flag is not 'hdfs'.\n",
      "   --vol-value     Value (ID) of the VOL connector to use for opening the\n",
      "                   HDF5 file specified\n",
      "   --vol-name      Name of the VOL connector to use for opening the\n",
      "                   HDF5 file specified\n",
      "   --vol-info      VOL-specific info to pass to the VOL connector used for\n",
      "                   opening the HDF5 file specified\n",
      "   --vfd-value     Value (ID) of the VFL driver to use for opening the\n",
      "                   HDF5 file specified\n",
      "   --vfd-name      Name of the VFL driver to use for opening the\n",
      "                   HDF5 file specified\n",
      "   --vfd-info      VFD-specific info to pass to the VFL driver used for\n",
      "                   opening the HDF5 file specified\n",
      "\n",
      "  file/OBJECT\n",
      "    Each object consists of an HDF5 file name optionally followed by a\n",
      "    slash and an object name within the file (if no object is specified\n",
      "    within the file then the contents of the root group are displayed).\n",
      "    The file name may include a printf(3C) integer format such as\n",
      "    \"%05d\" to open a file family.\n",
      "\n",
      "  Deprecated Options\n",
      "    The following options have been removed in HDF5 1.12. Use the indicated\n",
      "    replacement option in all work.\n",
      "\n",
      "   -E or --external   Follow external links.\n",
      "                      Replaced by --follow-symlinks.\n",
      "   -e, --errors       Show all HDF5 error reporting\n",
      "                      Replaced by --enable-error-stack.\n"
     ]
    }
   ],
   "source": [
    "!h5ls -h"
   ]
  },
  {
   "cell_type": "markdown",
   "id": "6a3dbd74-9a86-4401-b22d-9bde9e809b9b",
   "metadata": {},
   "source": [
    "<hr/>\n",
    "\n",
    "## Half-time\n",
    "\n",
    "<hr/>\n",
    "\n",
    "## 4. bftools: showinf, bfconvert, OME-TIFF, oh my"
   ]
  },
  {
   "cell_type": "code",
   "execution_count": 4,
   "id": "030e9b93-2683-4848-8ee1-e8da0e8360b9",
   "metadata": {},
   "outputs": [],
   "source": [
    "%%bash\n",
    "\n",
    "##\n",
    "## Setup & Sanity checks\n",
    "##\n",
    "\n",
    "YOURNAME=$(whoami)\n",
    "WORKDIR=/scratch/${YOURNAME}/session1\n",
    "test -e ${WORKDIR} || {\n",
    "    echo Please run the steps above first.\n",
    "    exit 1\n",
    "}"
   ]
  },
  {
   "cell_type": "code",
   "execution_count": 7,
   "id": "8662a965-5294-46fb-899c-0e5b3b933d9f",
   "metadata": {},
   "outputs": [
    {
     "name": "stdout",
     "output_type": "stream",
     "text": [
      "/System/Volumes/Data/scratch/jamoore/session1\n"
     ]
    }
   ],
   "source": [
    "%cd /scratch/{YOURNAME}/session1"
   ]
  },
  {
   "cell_type": "markdown",
   "id": "72cc3bba-2bbe-4874-848d-73679a6102cb",
   "metadata": {},
   "source": [
    "\n",
    "##\n",
    "## bftools & OME-TIFF\n",
    "##\n",
    "\n"
   ]
  },
  {
   "cell_type": "code",
   "execution_count": 9,
   "id": "f3a0f17d-c1f6-4e0d-96b7-159112cf2023",
   "metadata": {},
   "outputs": [
    {
     "name": "stdout",
     "output_type": "stream",
     "text": [
      "\n",
      "File pattern: can read (pattern)\n",
      "Zip: can read (zip)\n",
      "Animated PNG: can read, can write, can write multiple (png)\n",
      "JPEG: can read, can write (jpg, jpeg, jpe)\n",
      "SlideBook 7 SLD (native): can read (sldy)\n",
      "Portable Any Map: can read (pbm, pgm, ppm)\n",
      "Flexible Image Transport System: can read (fits, fts)\n",
      "PCX: can read (pcx)\n",
      "Graphics Interchange Format: can read (gif)\n",
      "Windows Bitmap: can read (bmp)\n",
      "IPLab: can read (ipl)\n",
      "IVision: can read (ipm)\n",
      "RCPNL: can read (rcpnl)\n",
      "Deltavision: can read (dv, r3d, r3d_d3d, dv.log, r3d.log)\n",
      "Medical Research Council: can read (mrc, st, ali, map, rec, mrcs)\n",
      "Gatan Digital Micrograph: can read (dm3, dm4)\n",
      "Gatan DM2: can read (dm2)\n",
      "Bitplane Imaris: can read (ims)\n",
      "Openlab RAW: can read (raw)\n",
      "OME-XML: can read, can write, can write multiple (ome, ome.xml)\n",
      "Leica Image File Format: can read (lif)\n",
      "Audio Video Interleave: can read, can write, can write multiple (avi)\n",
      "PICT: can read (pict, pct)\n",
      "SPCImage Data: can read (sdt)\n",
      "SPC FIFO Data: can read (spc, set)\n",
      "Encapsulated PostScript: can read, can write (eps, epsi, ps)\n",
      "Olympus Slidebook: can read (sld, spl)\n",
      "Alicona AL3D: can read (al3d)\n",
      "Multiple-image Network Graphics: can read (mng)\n",
      "Khoros XV: can read (xv)\n",
      "Visitech XYS: can read (xys, html)\n",
      "Laboratory Imaging: can read (lim)\n",
      "Adobe Photoshop: can read (psd)\n",
      "InCell 1000/2000: can read (xdce, xml, tiff, tif, xlog)\n",
      "Li-Cor L2D: can read (l2d, scn, tif)\n",
      "FEI/Philips: can read (img)\n",
      "Hamamatsu Aquacosmos: can read (naf)\n",
      "MINC MRI: can read (mnc)\n",
      "QuickTime: can read, can write, can write multiple (mov)\n",
      "Minolta MRW: can read (mrw)\n",
      "TillVision: can read (vws, pst, inf)\n",
      "ARF: can read (arf)\n",
      "Cellomics C01: can read (c01, dib)\n",
      "LI-FLIM: can read (fli)\n",
      "Truevision Targa: can read (tga)\n",
      "Oxford Instruments: can read (top)\n",
      "VG SAM: can read (dti)\n",
      "Hamamatsu HIS: can read (his)\n",
      "WA Technology TOP: can read (wat)\n",
      "Seiko: can read (xqd, xqf)\n",
      "TopoMetrix: can read (tfr, ffr, zfr, zfp, 2fl)\n",
      "UBM: can read (pr3)\n",
      "Quesant AFM: can read (afm)\n",
      "Bio-Rad GEL: can read (1sc)\n",
      "RHK Technologies: can read (sm2, sm3)\n",
      "Molecular Imaging: can read (stp)\n",
      "CellWorx: can read (pnl, htd, log)\n",
      "MetaXpress TIFF: can read (htd, tif)\n",
      "ECAT7: can read (v)\n",
      "Varian FDF: can read (fdf)\n",
      "AIM: can read (aim)\n",
      "InCell 3000: can read (frm)\n",
      "SPIDER: can read (spi)\n",
      "Volocity Library: can read (mvd2, aisf, aiix, dat, atsf)\n",
      "IMAGIC: can read (hed, img)\n",
      "Hamamatsu VMS: can read (vms)\n",
      "CellSens VSI: can read (vsi, ets)\n",
      "INR: can read (inr)\n",
      "Kodak Molecular Imaging: can read (bip)\n",
      "Volocity Library Clipping: can read (acff)\n",
      "Zeiss CZI: can read (czi)\n",
      "Andor SIF: can read (sif)\n",
      "Hamamatsu NDPIS: can read (ndpis)\n",
      "POV-Ray: can read (df3)\n",
      "IMOD: can read (mod)\n",
      "Simulated data: can read (fake)\n",
      "Aperio AFI: can read (afi)\n",
      "Lavision Imspector: can read (msr)\n",
      "Bio-Rad SCN: can read (scn)\n",
      "Zeiss LMS: can read (lms)\n",
      "PicoQuant Bin: can read (bin)\n",
      "FlowSight: can read (cif)\n",
      "Perkin-Elmer Nuance IM3: can read (im3)\n",
      "I2I: can read (i2i)\n",
      "Princeton Instruments SPE: can read (spe)\n",
      "Olympus OIR: can read (oir)\n",
      "KLB: can read (klb)\n",
      "MicroCT: can read (vff)\n",
      "Leica Object Format: can read (lof)\n",
      "Extended leica file: can read (xlef)\n",
      "Olympus .omp2info: can read (omp2info)\n",
      "JEOL: can read (dat, img, par)\n",
      "NIfTI: can read (nii, img, hdr, nii.gz)\n",
      "Analyze 7.5: can read (img, hdr)\n",
      "Olympus APL: can read (apl, tnb, mtb, tif)\n",
      "NRRD: can read (nrrd, nhdr)\n",
      "Image Cytometry Standard: can read, can write, can write multiple (ics, ids)\n",
      "PerkinElmer: can read (ano, cfg, csv, htm, rec, tim, zpo, tif)\n",
      "Amira: can read (am, amiramesh, grey, hx, labels)\n",
      "Olympus ScanR: can read (dat, xml, tif)\n",
      "BD Pathway: can read (exp, tif)\n",
      "Unisoku STM: can read (hdr, dat)\n",
      "Perkin Elmer Densitometer: can read (hdr, img)\n",
      "Fuji LAS 3000: can read (img, inf)\n",
      "PerkinElmer Operetta: can read (tif, tiff, xml)\n",
      "Inveon: can read (hdr)\n",
      "CellVoyager: can read (tif, xml)\n",
      "PerkinElmer Columbus: can read (xml)\n",
      "Yokogawa CV7000: can read (wpi)\n",
      "Bio-Rad PIC: can read (pic, xml, raw)\n",
      "Olympus FV1000: can read (oib, oif, pty, lut)\n",
      "Zeiss Vision Image (ZVI): can read (zvi)\n",
      "Image-Pro Workspace: can read (ipw)\n",
      "JPEG-2000: can read, can write (jp2, j2k, jpf)\n",
      "JPX: can read (jpx)\n",
      "Nikon ND2: can read (nd2, jp2)\n",
      "Compix Simple-PCI: can read (cxd)\n",
      "Bitplane Imaris 5.5 (HDF): can read (ims)\n",
      "CellH5 (HDF): can read (ch5)\n",
      "Veeco: can read (hdf)\n",
      "Tecan Spark Cyto: can read (db)\n",
      "Zeiss Laser-Scanning Microscopy: can read (lsm, mdb)\n",
      "Image-Pro Sequence: can read (seq, ips)\n",
      "Amersham Biosciences GEL: can read (gel)\n",
      "Bitplane Imaris 3 (TIFF): can read (ims)\n",
      "Evotec Flex: can read (flex, mea, res)\n",
      "Aperio SVS: can read (svs)\n",
      "Imacon: can read (fff)\n",
      "LEO: can read (sxm, tif, tiff)\n",
      "JPK Instruments: can read (jpk)\n",
      "Hamamatsu NDPI: can read (ndpi)\n",
      "PCO-RAW: can read (pcoraw, rec)\n",
      "Ventana .bif: can read (bif)\n",
      "OME-TIFF: can read, can write, can write multiple (ome.tiff, ome.tif, ome.tf2, ome.tf8, ome.btf, companion.ome)\n",
      "Pyramid TIFF: can read (tif, tiff)\n",
      "MIAS: can read (tif, tiff, txt)\n",
      "Leica TCS TIFF: can read (tif, tiff, xml)\n",
      "Leica: can read (lei, tif, tiff, raw)\n",
      "Nikon NEF: can read (nef, tif, tiff)\n",
      "Olympus Fluoview/ABD TIFF: can read (tif, tiff)\n",
      "Prairie TIFF: can read (tif, tiff, cfg, env, xml)\n",
      "Metamorph STK: can read (stk, nd, scan, tif, tiff)\n",
      "Micro-Manager: can read (tif, tiff, txt, xml)\n",
      "Improvision TIFF: can read (tif, tiff)\n",
      "Metamorph TIFF: can read (tif, tiff)\n",
      "Nikon TIFF: can read (tif, tiff)\n",
      "Mikroscan TIFF: can read (tif, tiff)\n",
      "Adobe Photoshop TIFF: can read (tif, tiff)\n",
      "FEI TIFF: can read (tif, tiff)\n",
      "SimplePCI TIFF: can read (tif, tiff)\n",
      "Nikon Elements TIFF: can read (tif, tiff)\n",
      "Trestle: can read (tif)\n",
      "Olympus SIS TIFF: can read (tif, tiff)\n",
      "DNG: can read (cr2, crw, jpg, thm, wav, tif, tiff)\n",
      "Zeiss AxioVision TIFF: can read (tif, xml)\n",
      "Leica SCN: can read (scn)\n",
      "PerkinElmer Vectra/QPTIFF: can read (tiff, tif, qptiff)\n",
      "Slidebook TIFF: can read (tif, tiff)\n",
      "Ionpath MIBI: can read (tif, tiff)\n",
      "DICOM: can read, can write, can write multiple (dic, dcm, dicom, jp2, j2ki, j2kr, raw, ima)\n",
      "Hitachi: can read (txt)\n",
      "Tagged Image File Format: can read, can write, can write multiple (tif, tiff, tf2, tf8, btf)\n",
      "Text: can read (txt, csv)\n",
      "Burleigh: can read (img)\n",
      "Openlab LIFF: can read (liff)\n",
      "SM Camera: can read ()\n",
      "SBIG: can read ()\n",
      "NOAA-HRD Gridded Data Format: can read ()\n",
      "Bruker: can read ()\n",
      "Canon RAW: can read (cr2, crw, jpg, thm, wav)\n",
      "OBF: can read (obf, msr)\n",
      "BDV: can read (xml, h5)\n",
      "\n"
     ]
    }
   ],
   "source": [
    "!formatlist"
   ]
  },
  {
   "cell_type": "code",
   "execution_count": 10,
   "id": "8d0f09e9-22f0-490d-a8e5-2c7e72af4396",
   "metadata": {},
   "outputs": [
    {
     "name": "stdout",
     "output_type": "stream",
     "text": [
      "Initializing reader\n",
      "FakeReader initializing data/a.fake\n",
      "Initialization took 0.079s\n",
      "\n",
      "Reading core metadata\n",
      "filename = data/a.fake\n",
      "Used files = [/System/Volumes/Data/scratch/jamoore/session1/data/a.fake]\n",
      "Series count = 1\n",
      "Series #0 :\n",
      "\tImage count = 1\n",
      "\tRGB = false (1) \n",
      "\tInterleaved = false\n",
      "\tIndexed = false (true color)\n",
      "\tWidth = 512\n",
      "\tHeight = 512\n",
      "\tSizeZ = 1\n",
      "\tSizeT = 1\n",
      "\tSizeC = 1\n",
      "\tTile size = 512 x 512\n",
      "\tThumbnail size = 128 x 128\n",
      "\tEndianness = intel (little)\n",
      "\tDimension order = XYZCT (certain)\n",
      "\tPixel type = uint8\n",
      "\tValid bits per pixel = 8\n",
      "\tMetadata complete = true\n",
      "\tThumbnail series = false\n",
      "\t-----\n",
      "\tPlane #0 <=> Z 0, C 0, T 0\n",
      "\n",
      "\n",
      "Reading global metadata\n",
      "\n",
      "Reading metadata\n"
     ]
    }
   ],
   "source": [
    "!showinf -nopix data/a.fake\n"
   ]
  },
  {
   "cell_type": "code",
   "execution_count": null,
   "id": "fd520130-b8d6-4612-8535-26f91caddf4c",
   "metadata": {},
   "outputs": [],
   "source": [
    "showinf -nopix -omexml-only data/a.fake"
   ]
  },
  {
   "cell_type": "code",
   "execution_count": null,
   "id": "a8b579ae-54cb-46af-bfb5-f505c303432d",
   "metadata": {},
   "outputs": [],
   "source": [
    "test -e a.ome.tiff && rm -rf a.ome.tiff"
   ]
  },
  {
   "cell_type": "code",
   "execution_count": null,
   "id": "d698eaae-a24d-4bbb-85cb-df8b9895bce9",
   "metadata": {},
   "outputs": [],
   "source": [
    "bfconvert data/a.fake a.ome.tiff"
   ]
  },
  {
   "cell_type": "code",
   "execution_count": null,
   "id": "79671812-717c-43ba-b2ff-2d827a04288b",
   "metadata": {},
   "outputs": [],
   "source": [
    "showinf cellprofiler/fruit-fly-cells/POS218.pattern/POS218.pattern"
   ]
  },
  {
   "cell_type": "code",
   "execution_count": null,
   "id": "81cce918-9345-4a06-9070-8e361fca1677",
   "metadata": {},
   "outputs": [],
   "source": [
    "echo series"
   ]
  },
  {
   "cell_type": "code",
   "execution_count": null,
   "id": "79ded011-475a-4320-993d-2227b620681c",
   "metadata": {},
   "outputs": [],
   "source": [
    "tifffile"
   ]
  }
 ],
 "metadata": {
  "kernelspec": {
   "display_name": "Python 3 (ipykernel)",
   "language": "python",
   "name": "python3"
  },
  "language_info": {
   "codemirror_mode": {
    "name": "ipython",
    "version": 3
   },
   "file_extension": ".py",
   "mimetype": "text/x-python",
   "name": "python",
   "nbconvert_exporter": "python",
   "pygments_lexer": "ipython3",
   "version": "3.9.15"
  }
 },
 "nbformat": 4,
 "nbformat_minor": 5
}
