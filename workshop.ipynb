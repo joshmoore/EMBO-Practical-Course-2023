{
 "cells": [
  {
   "cell_type": "markdown",
   "metadata": {
    "slideshow": {
     "slide_type": "slide"
    }
   },
   "source": [
    "# Accessing cloud-hosted image data (practical)\n",
    "\n",
    "***\n",
    "\n",
    "**Global Bioimaging Online Workshop**\n",
    "\n",
    "*OME-NGFF: Towards a community standard image file format for sharing big image data in the cloud*\n",
    "\n",
    "***\n",
    "\n",
    "\n",
    "## Summary\n",
    "0. Software versions\n",
    "1. Notebook reminders\n",
    "2. Choosing our data & downloading from S3\n",
    "3. Converting your data to OME-NGFF\n",
    "4. Publishing your data with S3\n",
    "5. Extras (time-permitting)\n",
    "\n",
    "***\n",
    "\n",
    "## 0. Software versions used for this workshop:\n",
    "\n",
    "\n",
    "### 0.1 Running now\n",
    "\n",
    "* jupyter                   6.4.10 ([external guide](https://jupyter-notebook-beginner-guide.readthedocs.io/en/latest/))\n",
    "* conda 4.10.3 ([external guide](https://docs.conda.io/projects/conda/en/latest/user-guide/index.html))\n",
    "\n",
    "### 0.2 Core tools\n",
    "* **bioformats2raw            0.4.0** ([install locally](https://github.com/glencoesoftware/bioformats2raw/releases/latest); requires Java)\n",
    "* **minio-client                     2020.11.17** ([install locally](https://docs.min.io/docs/minio-client-complete-guide.html))\n",
    "\n",
    "### 0.3 Other\n",
    "\n",
    "   * awscli                    1.22.87\n",
    "   * dask                      2022.4.0\n",
    "   * fsspec                    2022.3.0\n",
    "   * napari                    0.4.15\n",
    "   * numpy                     1.22.3\n",
    "   * ome-zarr                  0.4.0\n",
    "   * omero-cli-zarr            0.3.0\n",
    "   * omero-py                  5.11.1\n",
    "   * openjdk                   11.0.9.1\n",
    "   * tifffile                  2022.3.25\n",
    "   * zarr                      2.11.1\n",
    "   * vizarr                    0.2\n",
    "\n",
    "***\n",
    "\n",
    "## 1. Notebook reminders\n",
    "\n",
    "This notebook is somewhat unusual in that we use a lot of command-line tools. Each of the lines beginning with a exclamation mark (`!`) is run in a terminal.\n",
    "\n",
    "For example, you can use standard bash commands like `pwd` to see what directory you are in. When using mybinder, this will start with `/home/jovyan`. If you are interested in _why_, see [What is a Jovyan?](https://jupyter.readthedocs.io/en/latest/community/content-community.html#what-is-a-jovyan)\n"
   ]
  },
  {
   "cell_type": "code",
   "execution_count": 29,
   "metadata": {
    "scrolled": true
   },
   "outputs": [
    {
     "name": "stdout",
     "output_type": "stream",
     "text": [
      "/opt/NGFF-GBI-2022-Workshop\r\n"
     ]
    }
   ],
   "source": [
    "!pwd"
   ]
  },
  {
   "cell_type": "markdown",
   "metadata": {},
   "source": [
    "The `binder/` directory contains a Conda [environment.yml](https://github.com/joshmoore/NGFF-GBI-2021-Workshop/blob/main/binder/environment.yml) file. You can use it to download all the tools we are using here."
   ]
  },
  {
   "cell_type": "code",
   "execution_count": 30,
   "metadata": {},
   "outputs": [
    {
     "name": "stdout",
     "output_type": "stream",
     "text": [
      "apt.txt         environment.yml\r\n"
     ]
    }
   ],
   "source": [
    "!ls binder/"
   ]
  },
  {
   "cell_type": "code",
   "execution_count": 31,
   "metadata": {
    "scrolled": true
   },
   "outputs": [
    {
     "name": "stdout",
     "output_type": "stream",
     "text": [
      "channels:\r\n",
      "  - ome\r\n",
      "  - conda-forge\r\n",
      "  - joshmoore\r\n",
      "  - defaults\r\n",
      "dependencies:\r\n",
      "  - python ~= 3.9.0\r\n",
      "  - notebook\r\n",
      "  - nb_conda_kernels\r\n",
      "  - napari\r\n",
      "  - ipython\r\n",
      "  - wheel\r\n",
      "  - requests\r\n",
      "  - s3fs\r\n",
      "  - scikit-image\r\n",
      "  - scipy\r\n",
      "  - xarray\r\n",
      "  - zarr >= 2.4.0\r\n",
      "  - bioformats2raw\r\n",
      "  - raw2ometiff\r\n",
      "  - omero-py\r\n",
      "  - go-mc\r\n",
      "  - pip\r\n",
      "  - pip:\r\n",
      "      - PyQT5~=5.13.1\r\n",
      "      - ome-zarr\r\n",
      "      - awscli\r\n",
      "      - omero-cli-zarr\r\n",
      "      - napari-ome-zarr\r\n"
     ]
    }
   ],
   "source": [
    "!cat binder/environment.yml"
   ]
  },
  {
   "cell_type": "markdown",
   "metadata": {},
   "source": [
    "You can perform those actions on your own system _without_ a Jupyter notebook. For that, you will need to install the correct tools like `bioformats2raw` or run everything via `repo2docker`.\n",
    "\n",
    "See instructions under https://github.com/joshmoore/NGFF-GBI-2022-Workshop/blob/main/README.md\n",
    " \n",
    "*** "
   ]
  },
  {
   "cell_type": "markdown",
   "metadata": {},
   "source": [
    "## 2. Looking at the mri.ome.zarr"
   ]
  },
  {
   "cell_type": "code",
   "execution_count": 32,
   "metadata": {},
   "outputs": [
    {
     "name": "stdout",
     "output_type": "stream",
     "text": [
      "mri.ome.zarr/.zattrs\r\n",
      "mri.ome.zarr/.zgroup\r\n",
      "mri.ome.zarr/s0/.zarray\r\n",
      "mri.ome.zarr/s0/.zattrs\r\n"
     ]
    }
   ],
   "source": [
    "!find mri.ome.zarr -name \".z*\""
   ]
  },
  {
   "cell_type": "code",
   "execution_count": 33,
   "metadata": {},
   "outputs": [
    {
     "data": {
      "text/plain": [
       "{'multiscales': [{'axes': [{'name': 'z',\n",
       "     'type': 'space',\n",
       "     'unit': 'millimeter'},\n",
       "    {'name': 'y', 'type': 'space', 'unit': 'millimeter'},\n",
       "    {'name': 'x', 'type': 'space', 'unit': 'millimeter'}],\n",
       "   'datasets': [{'path': 's0',\n",
       "     'coordinateTransformations': [{'type': 'scale',\n",
       "       'scale': [7.0, 1.0, 1.0]}]}],\n",
       "   'name': 'mri',\n",
       "   'type': 'Average',\n",
       "   'version': '0.4'}]}"
      ]
     },
     "execution_count": 33,
     "metadata": {},
     "output_type": "execute_result"
    }
   ],
   "source": [
    "# %load mri.ome.zarr/.zattrs\n",
    "{\n",
    "  \"multiscales\": [\n",
    "    {\n",
    "      \"axes\": [\n",
    "        {\n",
    "          \"name\": \"z\",\n",
    "          \"type\": \"space\",\n",
    "          \"unit\": \"millimeter\"\n",
    "        },\n",
    "        {\n",
    "          \"name\": \"y\",\n",
    "          \"type\": \"space\",\n",
    "          \"unit\": \"millimeter\"\n",
    "        },\n",
    "        {\n",
    "          \"name\": \"x\",\n",
    "          \"type\": \"space\",\n",
    "          \"unit\": \"millimeter\"\n",
    "        }\n",
    "      ],\n",
    "      \"datasets\": [\n",
    "        {\n",
    "          \"path\": \"s0\",\n",
    "          \"coordinateTransformations\": [\n",
    "            {\n",
    "              \"type\": \"scale\",\n",
    "              \"scale\": [\n",
    "                7.0,\n",
    "                1.0,\n",
    "                1.0\n",
    "              ]\n",
    "            }\n",
    "          ]\n",
    "        }\n",
    "      ],\n",
    "      \"name\": \"mri\",\n",
    "      \"type\": \"Average\",\n",
    "      \"version\": \"0.4\"\n",
    "    }\n",
    "  ]\n",
    "}"
   ]
  },
  {
   "cell_type": "code",
   "execution_count": 34,
   "metadata": {},
   "outputs": [
    {
     "data": {
      "text/plain": [
       "{'_ARRAY_DIMENSIONS': ['z', 'y', 'x']}"
      ]
     },
     "execution_count": 34,
     "metadata": {},
     "output_type": "execute_result"
    }
   ],
   "source": [
    "# %load mri.ome.zarr/s0/.zattrs\n",
    "{\n",
    "  \"_ARRAY_DIMENSIONS\": [\n",
    "    \"z\",\n",
    "    \"y\",\n",
    "    \"x\"\n",
    "  ]\n",
    "}"
   ]
  },
  {
   "cell_type": "code",
   "execution_count": 35,
   "metadata": {},
   "outputs": [
    {
     "data": {
      "text/plain": [
       "{'shape': [27, 226, 186],\n",
       " 'chunks': [16, 128, 128],\n",
       " 'fill_value': '0',\n",
       " 'dtype': '|u1',\n",
       " 'filters': [],\n",
       " 'dimension_separator': '/',\n",
       " 'zarr_format': 2,\n",
       " 'compressor': {'id': 'gzip', 'level': -1},\n",
       " 'order': 'C'}"
      ]
     },
     "execution_count": 35,
     "metadata": {},
     "output_type": "execute_result"
    }
   ],
   "source": [
    "# %load mri.ome.zarr/s0/.zarray\n",
    "{\n",
    "  \"shape\": [\n",
    "    27,\n",
    "    226,\n",
    "    186\n",
    "  ],\n",
    "  \"chunks\": [\n",
    "    16,\n",
    "    128,\n",
    "    128\n",
    "  ],\n",
    "  \"fill_value\": \"0\",\n",
    "  \"dtype\": \"|u1\",\n",
    "  \"filters\": [],\n",
    "  \"dimension_separator\": \"/\",\n",
    "  \"zarr_format\": 2,\n",
    "  \"compressor\": {\n",
    "    \"id\": \"gzip\",\n",
    "    \"level\": -1\n",
    "  },\n",
    "  \"order\": \"C\"\n",
    "}"
   ]
  },
  {
   "cell_type": "code",
   "execution_count": 36,
   "metadata": {
    "scrolled": false
   },
   "outputs": [
    {
     "name": "stdout",
     "output_type": "stream",
     "text": [
      "\u001b[01;34mmri.ome.zarr\u001b[00m\r\n",
      "└── \u001b[01;34ms0\u001b[00m\r\n",
      "    ├── \u001b[01;34m0\u001b[00m\r\n",
      "    │   ├── \u001b[01;34m0\u001b[00m\r\n",
      "    │   │   ├── 0\r\n",
      "    │   │   └── 1\r\n",
      "    │   └── \u001b[01;34m1\u001b[00m\r\n",
      "    │       ├── 0\r\n",
      "    │       └── 1\r\n",
      "    └── \u001b[01;34m1\u001b[00m\r\n",
      "        ├── \u001b[01;34m0\u001b[00m\r\n",
      "        │   ├── 0\r\n",
      "        │   └── 1\r\n",
      "        └── \u001b[01;34m1\u001b[00m\r\n",
      "            ├── 0\r\n",
      "            └── 1\r\n",
      "\r\n",
      "7 directories, 8 files\r\n"
     ]
    }
   ],
   "source": [
    "!tree mri.ome.zarr"
   ]
  },
  {
   "cell_type": "code",
   "execution_count": 37,
   "metadata": {},
   "outputs": [
    {
     "name": "stdout",
     "output_type": "stream",
     "text": [
      "-rw-r--r--  1 jamoore  wheel   148K Apr  5 22:39 mri.ome.zarr/s0/0/0/0\r\n",
      "-rw-r--r--  1 jamoore  wheel    21K Apr  5 22:39 mri.ome.zarr/s0/1/1/1\r\n"
     ]
    }
   ],
   "source": [
    "!ls -ltrah mri.ome.zarr/s0/0/0/0 mri.ome.zarr/s0/1/1/1"
   ]
  },
  {
   "cell_type": "markdown",
   "metadata": {},
   "source": [
    "***\n",
    "\n",
    "# 3 Converting your data to OME-NGFF\n",
    "\n",
    "The two basic commands are `bioformats2raw` and `raw2ometiff`. Together they provide a pipeline to scalably convert large images into OME-TIFF. The primary caveat is that they require **twice** the storage for the conversion.\n",
    "\n",
    "\n",
    "## 3.1 Conversion tools\n",
    "\n",
    "https://forum.image.sc/t/converting-whole-slide-images-to-ome-tiff-a-new-workflow/32110/4\n",
    "\n",
    "<img src=\"blog-2019-12-converting-whole-slide-images.jpg\" style=\"height:200px\" />\n",
    "\n"
   ]
  },
  {
   "cell_type": "code",
   "execution_count": 38,
   "metadata": {},
   "outputs": [
    {
     "name": "stdout",
     "output_type": "stream",
     "text": [
      "\u001b[31m\u001b[1mMissing required parameters: '<inputPath>', '<outputLocation>'\u001b[21m\u001b[39m\u001b[0m\r\n",
      "Usage: \u001b[1m<main class>\u001b[21m\u001b[0m [\u001b[33m-p\u001b[39m\u001b[0m] [\u001b[33m--no-hcs\u001b[39m\u001b[0m] [\u001b[33m--[no-]nested\u001b[39m\u001b[0m] [\u001b[33m--no-ome-meta-export\u001b[39m\u001b[0m]\r\n",
      "                    [\u001b[33m--no-root-group\u001b[39m\u001b[0m] [\u001b[33m--overwrite\u001b[39m\u001b[0m]\r\n",
      "                    [\u001b[33m--use-existing-resolutions\u001b[39m\u001b[0m] [\u001b[33m--version\u001b[39m\u001b[0m] [\u001b[33m--debug\u001b[39m\u001b[0m\r\n",
      "                    [=\u001b[3m<logLevel>\u001b[23m\u001b[0m]] [\u001b[33m--extra-readers\u001b[39m\u001b[0m[=\u001b[3m<extraReaders>\u001b[23m\u001b[0m[,\r\n",
      "                    \u001b[3m<extraReaders>\u001b[23m\u001b[0m...]]]... [\u001b[33m--options\u001b[39m\u001b[0m[=\u001b[3m<readerOptions>\u001b[23m\u001b[0m[,\r\n",
      "                    \u001b[3m<readerOptions>\u001b[23m\u001b[0m...]]]... [\u001b[33m-s\u001b[39m\u001b[0m[=\u001b[3m<seriesList>\u001b[23m\u001b[0m[,\r\n",
      "                    \u001b[3m<seriesList>\u001b[23m\u001b[0m...]]]...\r\n",
      "                    [\u001b[33m--additional-scale-format-string-args\u001b[39m\u001b[0m=\u001b[3m<additionalScaleForma\u001b[23m\u001b[0m\r\n",
      "\u001b[3m                    tStringArgsCsv>\u001b[23m\u001b[0m] [\u001b[33m-c\u001b[39m\u001b[0m=\u001b[3m<compressionType>\u001b[23m\u001b[0m]\r\n",
      "                    [\u001b[33m--dimension-order\u001b[39m\u001b[0m=\u001b[3m<dimensionOrder>\u001b[23m\u001b[0m]\r\n",
      "                    [\u001b[33m--downsample-type\u001b[39m\u001b[0m=\u001b[3m<downsampling>\u001b[23m\u001b[0m]\r\n",
      "                    [\u001b[33m--fill-value\u001b[39m\u001b[0m=\u001b[3m<fillValue>\u001b[23m\u001b[0m] [\u001b[33m-h\u001b[39m\u001b[0m=\u001b[3m<tileHeight>\u001b[23m\u001b[0m]\r\n",
      "                    [\u001b[33m--max_cached_tiles\u001b[39m\u001b[0m=\u001b[3m<maxCachedTiles>\u001b[23m\u001b[0m]\r\n",
      "                    [\u001b[33m--max_workers\u001b[39m\u001b[0m=\u001b[3m<maxWorkers>\u001b[23m\u001b[0m]\r\n",
      "                    [\u001b[33m--memo-directory\u001b[39m\u001b[0m=\u001b[3m<memoDirectory>\u001b[23m\u001b[0m]\r\n",
      "                    [\u001b[33m--pixel-type\u001b[39m\u001b[0m=\u001b[3m<outputPixelType>\u001b[23m\u001b[0m]\r\n",
      "                    [\u001b[33m--pyramid-name\u001b[39m\u001b[0m=\u001b[3m<pyramidName>\u001b[23m\u001b[0m] [\u001b[33m-r\u001b[39m\u001b[0m=\u001b[3m<pyramidResolutions>\u001b[23m\u001b[0m]\r\n",
      "                    [\u001b[33m--scale-format-string\u001b[39m\u001b[0m=\u001b[3m<scaleFormatString>\u001b[23m\u001b[0m]\r\n",
      "                    [\u001b[33m--target-min-size\u001b[39m\u001b[0m=\u001b[3m<minSize>\u001b[23m\u001b[0m] [\u001b[33m-w\u001b[39m\u001b[0m=\u001b[3m<tileWidth>\u001b[23m\u001b[0m]\r\n",
      "                    [\u001b[33m-z\u001b[39m\u001b[0m=\u001b[3m<chunkDepth>\u001b[23m\u001b[0m]\r\n",
      "                    [\u001b[33m--compression-properties\u001b[39m\u001b[0m=\u001b[3m<String=Object>\u001b[23m\u001b[0m]...\r\n",
      "                    [\u001b[33m--output-options\u001b[39m\u001b[0m=\u001b[3m<String=String>\u001b[23m\u001b[0m[\\|\u001b[3m<String=String>\u001b[23m\u001b[0m...]]...\r\n",
      "                    \u001b[33m<inputPath>\u001b[39m\u001b[0m \u001b[33m<outputLocation>\u001b[39m\u001b[0m\r\n",
      "\u001b[33m \u001b[39m\u001b[0m     \u001b[33m<inputPath>\u001b[39m\u001b[0m            file to convert\r\n",
      "\u001b[33m \u001b[39m\u001b[0m     \u001b[33m<outputLocation>\u001b[39m\u001b[0m       path to the output pyramid directory. The given\r\n",
      "                               path can also be a URI (containing ://) which\r\n",
      "                               will activate **experimental** support for\r\n",
      "                               Filesystems. For example, if the output path\r\n",
      "                               given is 's3://my-bucket/some-path' *and* you\r\n",
      "                               have an S3FileSystem implementation in your\r\n",
      "                               classpath, then all files will be written to S3.\r\n",
      "      \u001b[33m--additional-scale-for\u001b[39m\u001b[0m\u001b[33mmat-string-args\u001b[39m\u001b[0m=\u001b[3m<additionalScaleFormatStringArgsCsv>\u001b[23m\u001b[0m\r\n",
      "                             Additional format string argument CSV file\r\n",
      "                               (without header row).  Arguments will be added\r\n",
      "                               to the end of the scale format string mapping\r\n",
      "                               the at the corresponding CSV row index.  It is\r\n",
      "                               expected that the CSV file contain exactly the\r\n",
      "                               same number of rows as the input file has series\r\n",
      "  \u001b[33m-c\u001b[39m\u001b[0m, \u001b[33m--compression\u001b[39m\u001b[0m=\u001b[3m<compres\u001b[23m\u001b[0m\u001b[3msionType>\u001b[23m\u001b[0m\r\n",
      "                             Compression type for Zarr (null, zlib, blosc;\r\n",
      "                               default: blosc)\r\n",
      "      \u001b[33m--compression-properti\u001b[39m\u001b[0m\u001b[33mes\u001b[39m\u001b[0m=\u001b[3m<String=Object>\u001b[23m\u001b[0m\r\n",
      "                             Properties for the chosen compression (see https:\r\n",
      "                               //jzarr.readthedocs.io/en/latest/tutorial.\r\n",
      "                               html#compressors )\r\n",
      "      \u001b[33m--debug, --log-level\u001b[39m\u001b[0m[=\u001b[3m<logLevel>\u001b[23m\u001b[0m]\r\n",
      "                             Change logging level; valid values are OFF, ERROR,\r\n",
      "                               WARN, INFO, DEBUG, TRACE and ALL. (default: WARN)\r\n",
      "      \u001b[33m--dimension-order\u001b[39m\u001b[0m=\u001b[3m<dim\u001b[23m\u001b[0m\u001b[3mensionOrder>\u001b[23m\u001b[0m\r\n",
      "                             Override the input file dimension order in the\r\n",
      "                               output file [Can break compatibility with\r\n",
      "                               raw2ometiff] (XYZCT, XYZTC, XYCTZ, XYCZT, XYTCZ,\r\n",
      "                               XYTZC)\r\n",
      "      \u001b[33m--downsample-type\u001b[39m\u001b[0m=\u001b[3m<dow\u001b[23m\u001b[0m\u001b[3mnsampling>\u001b[23m\u001b[0m\r\n",
      "                             Tile downsampling algorithm (SIMPLE, GAUSSIAN,\r\n",
      "                               AREA, LINEAR, CUBIC, LANCZOS)\r\n",
      "      \u001b[33m--extra-readers\u001b[39m\u001b[0m[=\u001b[3m<extr\u001b[23m\u001b[0m\u001b[3maReaders>\u001b[23m\u001b[0m[,\u001b[3m<extraReaders>\u001b[23m\u001b[0m...]]\r\n",
      "                             Separate set of readers to include; (default:\r\n",
      "                               [class com.glencoesoftware.bioformats2raw.\r\n",
      "                               PyramidTiffReader, class com.glencoesoftware.\r\n",
      "                               bioformats2raw.MiraxReader, class com.\r\n",
      "                               glencoesoftware.bioformats2raw.BioTekReader])\r\n",
      "      \u001b[33m--fill-value\u001b[39m\u001b[0m=\u001b[3m<fillValu\u001b[23m\u001b[0m\u001b[3me>\u001b[23m\u001b[0m\r\n",
      "                             Default value to fill in for missing tiles (0-255)\r\n",
      "                               (currently .mrxs only)\r\n",
      "  \u001b[33m-h\u001b[39m\u001b[0m, \u001b[33m--tile_height\u001b[39m\u001b[0m=\u001b[3m<tileHei\u001b[23m\u001b[0m\u001b[3mght>\u001b[23m\u001b[0m\r\n",
      "                             Maximum tile height to read (default: 1024)\r\n",
      "      \u001b[33m--max_cached_tiles\u001b[39m\u001b[0m=\u001b[3m<ma\u001b[23m\u001b[0m\u001b[3mxCachedTiles>\u001b[23m\u001b[0m\r\n",
      "                             Maximum number of tiles that will be cached across\r\n",
      "                               all workers (default: 64)\r\n",
      "      \u001b[33m--max_workers\u001b[39m\u001b[0m=\u001b[3m<maxWork\u001b[23m\u001b[0m\u001b[3mers>\u001b[23m\u001b[0m\r\n",
      "                             Maximum number of workers (default: 4)\r\n",
      "      \u001b[33m--memo-directory\u001b[39m\u001b[0m=\u001b[3m<memo\u001b[23m\u001b[0m\u001b[3mDirectory>\u001b[23m\u001b[0m\r\n",
      "                             Directory used to store .bfmemo cache files\r\n",
      "      \u001b[33m--no-hcs\u001b[39m\u001b[0m               Turn off HCS writing\r\n",
      "      \u001b[33m--[no-]nested\u001b[39m\u001b[0m          Whether to use '/' as the chunk path seprator\r\n",
      "                               (true by default)\r\n",
      "      \u001b[33m--no-ome-meta-export\u001b[39m\u001b[0m   Turn off OME metadata exporting [Will break\r\n",
      "                               compatibility with raw2ometiff]\r\n",
      "      \u001b[33m--no-root-group\u001b[39m\u001b[0m        Turn off creation of root group and corresponding\r\n",
      "                               metadata [Will break compatibility with\r\n",
      "                               raw2ometiff]\r\n",
      "      \u001b[33m--options\u001b[39m\u001b[0m[=\u001b[3m<readerOpti\u001b[23m\u001b[0m\u001b[3mons>\u001b[23m\u001b[0m[,\u001b[3m<readerOptions>\u001b[23m\u001b[0m...]]\r\n",
      "                             Reader-specific options, in format key=value[,\r\n",
      "                               key2=value2]\r\n",
      "      \u001b[33m--output-options\u001b[39m\u001b[0m=\u001b[3m<Stri\u001b[23m\u001b[0m\u001b[3mng=String>\u001b[23m\u001b[0m[\\|\u001b[3m<String=String>\u001b[23m\u001b[0m...]\r\n",
      "                             |-separated list of key-value pairs to be used as\r\n",
      "                               an additional argument to Filesystem\r\n",
      "                               implementations if used. For example,\r\n",
      "                               --output-options=s3fs_path_style_access=true|...\r\n",
      "                               might be useful for connecting to minio.\r\n",
      "      \u001b[33m--overwrite\u001b[39m\u001b[0m            Overwrite the output directory if it exists\r\n",
      "      \u001b[33m--pixel-type\u001b[39m\u001b[0m=\u001b[3m<outputPi\u001b[23m\u001b[0m\u001b[3mxelType>\u001b[23m\u001b[0m\r\n",
      "                             Pixel type to write if input data is  float or\r\n",
      "                               double (int8, int16, int32, uint8, uint16,\r\n",
      "                               uint32, float, double, complex, double-complex,\r\n",
      "                               bit)\r\n",
      "      \u001b[33m--pyramid-name\u001b[39m\u001b[0m=\u001b[3m<pyrami\u001b[23m\u001b[0m\u001b[3mdName>\u001b[23m\u001b[0m\r\n",
      "                             Name of pyramid (default: null) [Can break\r\n",
      "                               compatibility with raw2ometiff]\r\n",
      "  \u001b[33m-r\u001b[39m\u001b[0m, \u001b[33m--resolutions\u001b[39m\u001b[0m=\u001b[3m<pyramid\u001b[23m\u001b[0m\u001b[3mResolutions>\u001b[23m\u001b[0m\r\n",
      "                             Number of pyramid resolutions to generate\r\n",
      "  \u001b[33m-s\u001b[39m\u001b[0m, \u001b[33m--series\u001b[39m\u001b[0m[=\u001b[3m<seriesList>\u001b[23m\u001b[0m[,\u001b[3m<seriesList>\u001b[23m\u001b[0m...]]\r\n",
      "                             Comma-separated list of series indexes to convert\r\n",
      "      \u001b[33m--scale-format-string\u001b[39m\u001b[0m=\u001b[3m<scaleFormatString>\u001b[23m\u001b[0m\r\n",
      "                             Format string for scale paths; the first two\r\n",
      "                               arguments will always be series and resolution\r\n",
      "                               followed by any additional arguments brought in\r\n",
      "                               from `--additional-scale-format-string-args`\r\n",
      "                               [Can break compatibility with raw2ometiff]\r\n",
      "                               (default: %d/%d)\r\n",
      "      \u001b[33m--target-min-size\u001b[39m\u001b[0m=\u001b[3m<min\u001b[23m\u001b[0m\u001b[3mSize>\u001b[23m\u001b[0m\r\n",
      "                             Specifies the desired size for the largest XY\r\n",
      "                               dimension of the smallest resolution, when\r\n",
      "                               calculating the number of resolutions generate.\r\n",
      "                               If the target size cannot be matched exactly,\r\n",
      "                               the largest XY dimension of the smallest\r\n",
      "                               resolution should be smaller than the target\r\n",
      "                               size.\r\n",
      "      \u001b[33m--use-existing-resolut\u001b[39m\u001b[0m\u001b[33mions\u001b[39m\u001b[0m\r\n",
      "                             Use existing sub resolutions from original input\r\n",
      "                               format[Will break compatibility with raw2ometiff]\r\n",
      "  \u001b[33m-w\u001b[39m\u001b[0m, \u001b[33m--tile_width\u001b[39m\u001b[0m=\u001b[3m<tileWidt\u001b[23m\u001b[0m\u001b[3mh>\u001b[23m\u001b[0m\r\n",
      "                             Maximum tile width to read (default: 1024)\r\n",
      "  \u001b[33m-z\u001b[39m\u001b[0m, \u001b[33m--chunk_depth\u001b[39m\u001b[0m=\u001b[3m<chunkDe\u001b[23m\u001b[0m\u001b[3mpth>\u001b[23m\u001b[0m\r\n",
      "                             Maximum chunk depth to read (default: 1)\r\n",
      "  \u001b[33m-p\u001b[39m\u001b[0m, \u001b[33m--progress\u001b[39m\u001b[0m             Print progress bars during conversion\r\n",
      "      \u001b[33m--version\u001b[39m\u001b[0m              Print version information and exit\r\n"
     ]
    }
   ],
   "source": [
    "!bioformats2raw"
   ]
  },
  {
   "cell_type": "code",
   "execution_count": 39,
   "metadata": {},
   "outputs": [],
   "source": [
    "import os, shutil\n",
    "if os.path.exists(\"/tmp/trans_norm_out\"):\n",
    "    # if input(\"Delete /tmp/trans_norm_out [y|N]\").strip().lower().startswith(\"y\"):\n",
    "    shutil.rmtree(\"/tmp/trans_norm_out\")"
   ]
  },
  {
   "cell_type": "code",
   "execution_count": 40,
   "metadata": {
    "scrolled": false
   },
   "outputs": [
    {
     "name": "stdout",
     "output_type": "stream",
     "text": [
      "[0/0]   0% \u001b[33m│                                 │\u001b[0m   0/571 (0:00:00 / ?) \n",
      "CPU times: user 42.4 ms, sys: 18.8 ms, total: 61.2 ms/571 (0:00:00 / 0:00:00) \u001b[1B\n",
      "Wall time: 3.81 s\n"
     ]
    }
   ],
   "source": [
    "%%time\n",
    "!bioformats2raw --debug=OFF --progress /tmp/trans_norm.tif /tmp/trans_norm_out"
   ]
  },
  {
   "cell_type": "code",
   "execution_count": 41,
   "metadata": {
    "scrolled": true
   },
   "outputs": [
    {
     "name": "stdout",
     "output_type": "stream",
     "text": [
      "\u001b[1m\u001b[36m0\u001b[m\u001b[m   \u001b[1m\u001b[36mOME\u001b[m\u001b[m\r\n"
     ]
    }
   ],
   "source": [
    "!ls /tmp/trans_norm_out"
   ]
  },
  {
   "cell_type": "code",
   "execution_count": 42,
   "metadata": {},
   "outputs": [
    {
     "name": "stdout",
     "output_type": "stream",
     "text": [
      "/tmp/trans_norm_out/.zattrs\r\n",
      "/tmp/trans_norm_out/.zgroup\r\n",
      "/tmp/trans_norm_out/0/.zattrs\r\n",
      "/tmp/trans_norm_out/0/.zgroup\r\n",
      "/tmp/trans_norm_out/0/0/.zarray\r\n"
     ]
    }
   ],
   "source": [
    "!find /tmp/trans_norm_out -name \".z*\""
   ]
  },
  {
   "cell_type": "code",
   "execution_count": 43,
   "metadata": {
    "scrolled": true
   },
   "outputs": [
    {
     "name": "stdout",
     "output_type": "stream",
     "text": [
      "/private/tmp/trans_norm_out/0 [zgroup]\r\n",
      " - metadata\r\n",
      "   - Multiscales\r\n",
      " - data\r\n",
      "   - (1, 1, 571, 30, 30)\r\n"
     ]
    }
   ],
   "source": [
    "!ome_zarr -q info /tmp/trans_norm_out/0"
   ]
  },
  {
   "cell_type": "markdown",
   "metadata": {
    "slideshow": {
     "slide_type": "slide"
    }
   },
   "source": [
    "## 4. Data from S3\n",
    "We're going to start off by looking at some images you will likely have seen during the OMERO or IDR sessions.\n",
    "\n",
    "**Our goal is to share these *without* using an OMERO.**\n",
    "\n",
    "<table>\n",
    "    <tr>\n",
    "        <td>\n",
    "            <img alt=\"idr0062 thumbnails\" src=\"images/training-1.png\" style=\"height:150px\"/>\n",
    "        </td>\n",
    "        <td>\n",
    "            <img alt=\"idr0062 thumbnails\" src=\"images/training-2.png\" style=\"height:150px\"/>\n",
    "        </td>\n",
    "        <td>\n",
    "            <img alt=\"idr0023 3D screenshot\" src=\"images/training-3.png\" style=\"height:150px\"/>\n",
    "        </td>\n",
    "    </tr>\n",
    "</table>\n",
    "    \n",
    "The left two images are from  the ilastik plugin guide presented by Petr: https://omero-guides.readthedocs.io/en/latest/ilastik/docs/ilastik_fiji.html\n",
    "\n",
    "They are available in the \"idr0062\" project on the workshop server: https://workshop.openmicroscopy.org/webclient/?show=project-1952\n",
    "\n",
    "The original dataset can be found in IDR study idr0062 by Blin _et al._: https://idr.openmicroscopy.org/webclient/?show=project-801\n",
    "\n",
    "The image on the right is from idr0023 by Szymborska _et al_: http://idr.openmicroscopy.org/webclient/?show=project-52 and is **much** smaller. (Specifically, http://idr.openmicroscopy.org/webclient/?show=image-1885619)\n"
   ]
  },
  {
   "cell_type": "markdown",
   "metadata": {
    "slideshow": {
     "slide_type": "slide"
    }
   },
   "source": [
    "## 4.1 Minio client\n",
    "\n",
    "There are a number of different types of cloud storage and there are a number of tools that you can use to access your cloud storage, but here we're going to focus on a single one `mc`.\n",
    "\n",
    "`mc` is provided by the minio project and is described as \"a modern alternative to UNIX commands like ls, cat, cp, mirror, diff, find etc.\" The quickstart guide can be found under https://docs.minio.io/docs/minio-client-quickstart-guide.html For our purposes we'll focus on how to use it to upload and manage data in S3."
   ]
  },
  {
   "cell_type": "code",
   "execution_count": 44,
   "metadata": {},
   "outputs": [
    {
     "name": "stdout",
     "output_type": "stream",
     "text": [
      "NAME:\r\n",
      "  mc - MinIO Client for cloud storage and filesystems.\r\n",
      "\r\n",
      "USAGE:\r\n",
      "  mc [FLAGS] COMMAND [COMMAND FLAGS | -h] [ARGUMENTS...]\r\n",
      "\r\n",
      "COMMANDS:\r\n",
      "  alias      set, remove and list aliases in configuration file\r\n",
      "  ls         list buckets and objects\r\n",
      "  mb         make a bucket\r\n",
      "  rb         remove a bucket\r\n",
      "  cp         copy objects\r\n",
      "  mirror     synchronize object(s) to a remote site\r\n",
      "  cat        display object contents\r\n",
      "  head       display first 'n' lines of an object\r\n",
      "  pipe       stream STDIN to an object\r\n",
      "  share      generate URL for temporary access to an object\r\n",
      "  find       search for objects\r\n",
      "  sql        run sql queries on objects\r\n",
      "  stat       show object metadata\r\n",
      "  mv         move objects\r\n",
      "  tree       list buckets and objects in a tree format\r\n",
      "  du         summarize disk usage recursively\r\n",
      "  retention  set retention for object(s)\r\n",
      "  legalhold  manage legal hold for object(s)\r\n",
      "  diff       list differences in object name, size, and date between two buckets\r\n",
      "  rm         remove objects\r\n",
      "  version    manage bucket versioning\r\n",
      "  ilm        manage bucket lifecycle\r\n",
      "  encrypt    manage bucket encryption config\r\n",
      "  event      manage object notifications\r\n",
      "  watch      listen for object notification events\r\n",
      "  undo       undo PUT/DELETE operations\r\n",
      "  policy     manage anonymous access to buckets and objects\r\n",
      "  tag        manage tags for bucket and object(s)\r\n",
      "  replicate  configure server side bucket replication\r\n",
      "  admin      manage MinIO servers\r\n",
      "  update     update mc to latest release\r\n",
      "  \r\n",
      "GLOBAL FLAGS:\r\n",
      "  --autocompletion              install auto-completion for your shell\r\n",
      "  --config-dir value, -C value  path to configuration folder (default: \"/Users/jamoore/.mc\")\r\n",
      "  --quiet, -q                   disable progress bar display\r\n",
      "  --no-color                    disable color theme\r\n",
      "  --json                        enable JSON lines formatted output\r\n",
      "  --debug                       enable debug output\r\n",
      "  --insecure                    disable SSL certificate verification\r\n",
      "  --help, -h                    show help\r\n",
      "  --version, -v                 print the version\r\n",
      "  \r\n",
      "TIP:\r\n",
      "  Use 'mc --autocompletion' to enable shell autocompletion\r\n",
      "\r\n",
      "VERSION:\r\n",
      "  DEVELOPMENT.2020-11-27T09-56-29Z\r\n"
     ]
    }
   ],
   "source": [
    "!mc"
   ]
  },
  {
   "cell_type": "markdown",
   "metadata": {},
   "source": [
    "## 4.2 Connections\n",
    "\n",
    "The minio project provides a safe space for you to learn about S3: https://play.minio.io:9000/minio/ Here we've used the `mc` command to find the access information:\n",
    "\n",
    " * **\"AccessKey\"** is basically a user name.\n",
    " * **\"SecretKey\"** is basically a password. \n",
    " * The URL is our **\"endpoint\"**, which differentiates it from the S3 servers provided by Amazon.\n",
    "\n",
    "You can log in to the webpage and explore what the many other users have upload at https://play.minio.io:9000/minio/\n",
    "\n",
    "The other two important concepts are:\n",
    " * **\"buckets\"** which is roughly like a shared namespace with permissions\n",
    " * and **\"keys\"** which will get to in a second."
   ]
  },
  {
   "cell_type": "code",
   "execution_count": 45,
   "metadata": {},
   "outputs": [
    {
     "name": "stdout",
     "output_type": "stream",
     "text": [
      "\u001b[m\u001b[36;1mplay\r\n",
      "\u001b[0m\u001b[33m  URL       : https://play.min.io\r\n",
      "\u001b[0m\u001b[36m  AccessKey : Q3AM3UQ867SPQQA43P2F\r\n",
      "\u001b[0m\u001b[36m  SecretKey : zuf+tfteSlswRu7BJ86wekitnifILbZam1KYY3TG\r\n",
      "\u001b[0m\u001b[34m  API       : S3v4\r\n",
      "\u001b[0m\u001b[36m  Path      : auto\r\n",
      "\u001b[0m\r\n",
      "\u001b[0m"
     ]
    }
   ],
   "source": [
    "!mc config host list play"
   ]
  },
  {
   "cell_type": "markdown",
   "metadata": {},
   "source": [
    "## 4.3 Using `mc` with a public S3 bucket "
   ]
  },
  {
   "cell_type": "code",
   "execution_count": 46,
   "metadata": {},
   "outputs": [
    {
     "name": "stdout",
     "output_type": "stream",
     "text": [
      "\u001b[m\u001b[32mAdded `public` successfully.\u001b[0m\r\n",
      "\u001b[0m"
     ]
    }
   ],
   "source": [
    "!mc config host add public https://uk1s3.embassy.ebi.ac.uk \"\" \"\""
   ]
  },
  {
   "cell_type": "code",
   "execution_count": 47,
   "metadata": {},
   "outputs": [
    {
     "name": "stdout",
     "output_type": "stream",
     "text": [
      "\u001b[m\u001b[32m[2022-04-05 17:04:23 CEST]\u001b[0m\u001b[33m 2.0MiB\u001b[0m\u001b[1m trans_norm.tif\u001b[0m\r\n",
      "\u001b[0m\u001b[m\u001b[32m[2022-04-06 10:18:07 CEST]\u001b[0m\u001b[33m     0B\u001b[0m\u001b[36;1m renamed.ome.zarr/\u001b[0m\r\n",
      "\u001b[0m\u001b[m\u001b[32m[2022-04-06 10:18:07 CEST]\u001b[0m\u001b[33m     0B\u001b[0m\u001b[36;1m trans_norm.ome.zarr/\u001b[0m\r\n",
      "\u001b[0m"
     ]
    }
   ],
   "source": [
    "!mc ls public/idr/share/gbi2022/1885619/"
   ]
  },
  {
   "cell_type": "code",
   "execution_count": 48,
   "metadata": {},
   "outputs": [
    {
     "name": "stdout",
     "output_type": "stream",
     "text": [
      "..._norm.tif:  2.04 MiB / 2.04 MiB  ▓▓▓▓▓▓▓▓▓▓▓▓▓▓▓▓▓▓▓▓▓▓▓▓▓▓▓▓▓  3.86 MiB/s 0s\u001b[0m\u001b[0m\u001b[m\u001b[32;1m\u001b[m\u001b[32;1m\u001b[m\u001b[32;1m\u001b[m\u001b[32;1m"
     ]
    }
   ],
   "source": [
    "!mc cp public/idr/share/gbi2022/1885619/trans_norm.tif /tmp/"
   ]
  },
  {
   "cell_type": "code",
   "execution_count": 49,
   "metadata": {
    "scrolled": true
   },
   "outputs": [
    {
     "name": "stdout",
     "output_type": "stream",
     "text": [
      "-rw-r--r--  1 jamoore  wheel   2.0M Apr  6 10:18 /tmp/trans_norm.tif\r\n"
     ]
    }
   ],
   "source": [
    "!ls -ltrah /tmp/trans_norm.tif"
   ]
  },
  {
   "cell_type": "markdown",
   "metadata": {},
   "source": [
    "***\n",
    "\n",
    "## 5. Publishing your data with S3 ⚠️\n",
    "\n",
    "You can then move the generated output to S3. **Note: this won't work unless you have a configured bucket named \"uk1\".**"
   ]
  },
  {
   "cell_type": "code",
   "execution_count": 50,
   "metadata": {
    "scrolled": true
   },
   "outputs": [
    {
     "name": "stdout",
     "output_type": "stream",
     "text": [
      ".../0/99/0/0:  773.27 KiB / 773.27 KiB  ▓▓▓▓▓▓▓▓▓▓▓▓▓▓▓▓▓▓▓▓▓▓▓  237.71 KiB/s 3s\u001b[0m\u001b[0m\u001b[m\u001b[32;1m\u001b[m\u001b[32;1m\u001b[m\u001b[32;1m\u001b[m\u001b[32;1m\u001b[m\u001b[32;1m\u001b[m\u001b[32;1m\u001b[m\u001b[32;1m\u001b[m\u001b[32;1m\u001b[m\u001b[32;1m\u001b[m\u001b[32;1m\u001b[m\u001b[32;1m\u001b[m\u001b[32;1m\u001b[m\u001b[32;1m\u001b[m\u001b[32;1m\u001b[m\u001b[32;1m\u001b[m\u001b[32;1m\u001b[m\u001b[32;1m\u001b[m\u001b[32;1m\u001b[m\u001b[32;1m\u001b[m\u001b[32;1m\u001b[m\u001b[32;1m\u001b[m\u001b[32;1m\u001b[m\u001b[32;1m\u001b[m\u001b[32;1m\u001b[m\u001b[32;1m\u001b[m\u001b[32;1m\n",
      "real\t0m3.663s\n",
      "user\t0m0.497s\n",
      "sys\t0m0.491s\n"
     ]
    }
   ],
   "source": [
    "!time mc cp --recursive /tmp/trans_norm_out/0/ uk1/idr/share/gbi2022/1885619/trans_norm.ome.zarr/"
   ]
  },
  {
   "cell_type": "markdown",
   "metadata": {},
   "source": [
    "If you are using binder, you may need to access the link directly:\n",
    "\n",
    "https://hms-dbmi.github.io/vizarr/?source=https://uk1s3.embassy.ebi.ac.uk/idr/share/gbi2022/1885619/trans_norm.ome.zarr/"
   ]
  },
  {
   "cell_type": "code",
   "execution_count": 51,
   "metadata": {
    "scrolled": true
   },
   "outputs": [
    {
     "data": {
      "text/html": [
       "\n",
       "        <iframe\n",
       "            width=\"700\"\n",
       "            height=\"350\"\n",
       "            src=\"https://hms-dbmi.github.io/vizarr/?source=https://uk1s3.embassy.ebi.ac.uk/idr/share/gbi2022/1885619/trans_norm.ome.zarr/\"\n",
       "            frameborder=\"0\"\n",
       "            allowfullscreen\n",
       "            \n",
       "        ></iframe>\n",
       "        "
      ],
      "text/plain": [
       "<IPython.lib.display.IFrame at 0x1053e8460>"
      ]
     },
     "execution_count": 51,
     "metadata": {},
     "output_type": "execute_result"
    }
   ],
   "source": [
    "from IPython.display import IFrame\n",
    "IFrame(f\"https://hms-dbmi.github.io/vizarr/?source=https://uk1s3.embassy.ebi.ac.uk/idr/share/gbi2022/1885619/trans_norm.ome.zarr/\", width=700, height=350)"
   ]
  },
  {
   "cell_type": "markdown",
   "metadata": {},
   "source": [
    "This viewer is [vizarr](https://github.com/hms-dbmi/vizarr) from the [Gehlenborg lab](http://gehlenborglab.org/) at Harvard Medical School. It can be accessed at https://hms-dbmi.github.io/vizarr for example to access data from the IDR: [link](http://hms-dbmi.github.io/vizarr/v0.1?source=https%3A%2F%2Fuk1s3.embassy.ebi.ac.uk%2Fidr%2Fzarr%2Fv0.1%2F6001240.zarr)."
   ]
  },
  {
   "cell_type": "markdown",
   "metadata": {},
   "source": [
    "# 6. Extras (time-permitting)"
   ]
  },
  {
   "cell_type": "markdown",
   "metadata": {},
   "source": [
    "## 6.1 A larger example (idr0062)\n",
    "\n",
    "If you are using binder, you may need to access the link directly:\n",
    "\n",
    "https://hms-dbmi.github.io/vizarr/?source=https://uk1s3.embassy.ebi.ac.uk/idr/zarr/v0.1/6001240.zarr"
   ]
  },
  {
   "cell_type": "code",
   "execution_count": 52,
   "metadata": {},
   "outputs": [
    {
     "data": {
      "text/html": [
       "\n",
       "        <iframe\n",
       "            width=\"700\"\n",
       "            height=\"350\"\n",
       "            src=\"http://hms-dbmi.github.io/vizarr/v0.1?source=https%3A%2F%2Fuk1s3.embassy.ebi.ac.uk%2Fidr%2Fzarr%2Fv0.1%2F6001240.zarr\"\n",
       "            frameborder=\"0\"\n",
       "            allowfullscreen\n",
       "            \n",
       "        ></iframe>\n",
       "        "
      ],
      "text/plain": [
       "<IPython.lib.display.IFrame at 0x1053f8670>"
      ]
     },
     "execution_count": 52,
     "metadata": {},
     "output_type": "execute_result"
    }
   ],
   "source": [
    "from IPython.display import IFrame\n",
    "IFrame(\"http://hms-dbmi.github.io/vizarr/v0.1?source=https%3A%2F%2Fuk1s3.embassy.ebi.ac.uk%2Fidr%2Fzarr%2Fv0.1%2F6001240.zarr\", width=700, height=350)"
   ]
  },
  {
   "cell_type": "markdown",
   "metadata": {},
   "source": [
    "## 6.2 Renaming\n",
    "\n",
    "Another important distinction to filesystems is that though it looks like hello is in a directory, you should really think of the entire string after the bucket just as a \"key\"."
   ]
  },
  {
   "cell_type": "code",
   "execution_count": 53,
   "metadata": {
    "scrolled": true
   },
   "outputs": [
    {
     "name": "stdout",
     "output_type": "stream",
     "text": [
      ".../0/99/0/0:  773.27 KiB / 773.27 KiB  ▓▓▓▓▓▓▓▓▓▓▓▓▓▓▓▓▓▓▓▓▓▓▓  142.27 KiB/s 5s\u001b[0m\u001b[0m\u001b[m\u001b[32;1m\u001b[m\u001b[32;1m\u001b[m\u001b[32;1m\u001b[m\u001b[32;1m\u001b[m\u001b[32;1m\u001b[m\u001b[32;1m\u001b[m\u001b[32;1m\u001b[m\u001b[32;1m\u001b[m\u001b[32;1m\u001b[m\u001b[32;1m\u001b[m\u001b[32;1m\u001b[m\u001b[32;1m\u001b[m\u001b[32;1m\u001b[m\u001b[32;1m\u001b[m\u001b[32;1m\u001b[m\u001b[32;1m\u001b[m\u001b[32;1m\u001b[m\u001b[32;1m\u001b[m\u001b[32;1m\u001b[m\u001b[32;1m\u001b[m\u001b[32;1m\u001b[m\u001b[32;1m\u001b[m\u001b[32;1m\u001b[m\u001b[32;1m\u001b[m\u001b[32;1m\u001b[m\u001b[32;1m\u001b[m\u001b[32;1m\u001b[m\u001b[32;1m\u001b[m\u001b[32;1m\u001b[m\u001b[32;1m\u001b[m\u001b[32;1m\u001b[m\u001b[32;1m\u001b[m\u001b[32;1m\u001b[m\u001b[32;1m\u001b[m\u001b[32;1m\u001b[m\u001b[32;1m\u001b[m\u001b[32;1m\u001b[m\u001b[32;1m\u001b[m\u001b[32;1m\u001b[m\u001b[32;1m\u001b[m\u001b[32;1m\u001b[m\u001b[32;1m\u001b[m\u001b[32;1m"
     ]
    }
   ],
   "source": [
    "!mc mv --recursive uk1/idr/share/gbi2022/1885619/trans_norm.ome.zarr/ uk1/idr/share/gbi2022/1885619/renamed.ome.zarr/"
   ]
  },
  {
   "cell_type": "markdown",
   "metadata": {},
   "source": [
    "## 6.3 Other resources\n",
    "\n",
    "<table>\n",
    "    <tr>\n",
    "        <td>\n",
    "            <a href=\"https://downloads.openmicroscopy.org/presentations/2020/Dundee/Workshops/NGFF/zarr_diagram/\">\n",
    "<img src=\"images/resources-1.png\" alt=\"Screenshot of the Zarr diagram from OME2020\" style=\"height:200px\"/>\n",
    "            </a>\n",
    "        </td>\n",
    "        <td>\n",
    "<a href=\"https://downloads.openmicroscopy.org/presentations/2020/Dundee/Workshops/NGFF/zarr_diagram/\">Diagram for how data moves</a>\n",
    "        </td>\n",
    "    </tr>\n",
    "    <tr>\n",
    "        <td>\n",
    "      <a href=\"https://blog.openmicroscopy.org/file-formats/community/2020/11/04/zarr-data/\">      \n",
    "<img src=\"images/resources-2.png\" alt=\"Screenshot of the Zarr diagram from OME2020\" style=\"height:200px\"/>\n",
    "            </a>\n",
    "        </td>\n",
    "        <td>\n",
    "<a href=\"https://blog.openmicroscopy.org/file-formats/community/2020/11/04/zarr-data/\">Blog post for an easy way to publish OME-Zarr files</a>\n",
    "        </td>\n",
    "    </tr>\n",
    "</table>    "
   ]
  },
  {
   "cell_type": "markdown",
   "metadata": {},
   "source": [
    "## 7. Take homes\n",
    "\n",
    "<br/>\n",
    "<big><big>\n",
    "    <ol>\n",
    "        <li>\n",
    "The simplicity & transparency of Zarr files makes them ideal for exploration & the cloud. \n",
    "        </li>\n",
    "         <br/>\n",
    "        <li>\n",
    "The primary downside is that working with many small files can introduce bottlenecks for uploading (& even deleting).\n",
    "        </li>\n",
    "        <br/>\n",
    "        <li>\n",
    "Working with S3 is very different from a file system, fewer (GUI) tools exist, and each S3 implementation may be slightly different.\n",
    "        </li>\n",
    "        <br/>\n",
    "        <li>\n",
    "The benefits in sharing potential (and in some cases cost-savings) can be significant, especially if there's an enabled ecosystem that works for you.\n",
    "        </li>\n",
    "    </ol>\n",
    "</big></big>"
   ]
  },
  {
   "cell_type": "markdown",
   "metadata": {
    "collapsed": true
   },
   "source": [
    "### License\n",
    "Copyright (C) 2022 University of Dundee. All Rights Reserved.\n",
    "This program is free software; you can redistribute it and/or modify it\n",
    "under the terms of the GNU General Public License as published by the\n",
    "Free Software Foundation; either version 2 of the License, or\n",
    "(at your option) any later version.\n",
    "This program is distributed in the hope that it will be useful, but\n",
    "WITHOUT ANY WARRANTY; without even the implied warranty of MERCHANTABILITY\n",
    "or FITNESS FOR A PARTICULAR PURPOSE. See the GNU General Public License for\n",
    "more details. You should have received a copy of the GNU General\n",
    "Public License along with this program; if not, write to the\n",
    "Free Software Foundation,\n",
    "Inc., 51 Franklin Street, Fifth Floor, Boston, MA 02110-1301 USA."
   ]
  }
 ],
 "metadata": {
  "anaconda-cloud": {},
  "kernelspec": {
   "display_name": "Python 3 (ipykernel)",
   "language": "python",
   "name": "python3"
  },
  "language_info": {
   "codemirror_mode": {
    "name": "ipython",
    "version": 3
   },
   "file_extension": ".py",
   "mimetype": "text/x-python",
   "name": "python",
   "nbconvert_exporter": "python",
   "pygments_lexer": "ipython3",
   "version": "3.9.12"
  },
  "toc": {
   "base_numbering": 1,
   "nav_menu": {},
   "number_sections": false,
   "sideBar": false,
   "skip_h1_title": false,
   "title_cell": "Table of Contents",
   "title_sidebar": "Contents",
   "toc_cell": false,
   "toc_position": {},
   "toc_section_display": false,
   "toc_window_display": false
  }
 },
 "nbformat": 4,
 "nbformat_minor": 4
}
